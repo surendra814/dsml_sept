{
  "nbformat": 4,
  "nbformat_minor": 0,
  "metadata": {
    "colab": {
      "provenance": [],
      "collapsed_sections": [
        "tbTbtn8By3eY",
        "5HN6X4ncRuFh",
        "nAyHxMfAoIuq",
        "rWSKt6sepPVO",
        "z0ezwbP2e0HE",
        "GSkFqNLAme6k",
        "vjY_EMAw3ASB",
        "CFHTw2iFnAQ4",
        "UhLYvqXUHE8D",
        "unPJk1kZLM_B"
      ],
      "include_colab_link": true
    },
    "kernelspec": {
      "name": "python3",
      "display_name": "Python 3"
    },
    "language_info": {
      "name": "python"
    }
  },
  "cells": [
    {
      "cell_type": "markdown",
      "metadata": {
        "id": "view-in-github",
        "colab_type": "text"
      },
      "source": [
        "<a href=\"https://colab.research.google.com/github/surendra814/dsml_sept/blob/main/Copy_of_Consolidated_Notes_Python_2.ipynb\" target=\"_parent\"><img src=\"https://colab.research.google.com/assets/colab-badge.svg\" alt=\"Open In Colab\"/></a>"
      ]
    },
    {
      "cell_type": "markdown",
      "source": [
        "# **Consolidated Notes - Python 2**"
      ],
      "metadata": {
        "id": "lIU0lN2aQFMk"
      }
    },
    {
      "cell_type": "markdown",
      "source": [
        "---"
      ],
      "metadata": {
        "id": "hmcjY4spZfM7"
      }
    },
    {
      "cell_type": "markdown",
      "metadata": {
        "id": "tbTbtn8By3eY"
      },
      "source": [
        "# Lec 1: Dictionaries"
      ]
    },
    {
      "cell_type": "markdown",
      "metadata": {
        "id": "NNs-cWRLzFbD"
      },
      "source": [
        "## **Content**\n",
        "\n",
        "1. Creating a Dictionary in Python\n",
        "2. Motivation behind Dictionaries\n",
        "3. Properties of Dictionaries\n",
        "4. Iterating over Dictionaries"
      ]
    },
    {
      "cell_type": "markdown",
      "source": [
        "---"
      ],
      "metadata": {
        "id": "C-stcXzZsK3J"
      }
    },
    {
      "cell_type": "markdown",
      "metadata": {
        "id": "PJmcAo551pM2"
      },
      "source": [
        "### **Motivation behind dictionaries - What do dictionaries signify in languages?**"
      ]
    },
    {
      "cell_type": "markdown",
      "metadata": {
        "id": "mJBQsJSM11Qo"
      },
      "source": [
        "* Dictionaries in languages can be used to store meaning of different words."
      ]
    },
    {
      "cell_type": "markdown",
      "metadata": {
        "id": "wVsXO3Mq2HeY"
      },
      "source": [
        "![Screenshot 2022-12-07 095859.png](data:image/png;base64,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)"
      ]
    },
    {
      "cell_type": "markdown",
      "metadata": {
        "id": "bHhZlz5j2K8W"
      },
      "source": [
        "* Python uses a syntax which is like a **key-value pair** with curly braces ```{ }``` around the elements."
      ]
    },
    {
      "cell_type": "markdown",
      "metadata": {
        "id": "QTY3aUoC2Xzw"
      },
      "source": [
        "### **Creating dictionaries in Python**"
      ]
    },
    {
      "cell_type": "markdown",
      "metadata": {
        "id": "3qS7rvxb29kp"
      },
      "source": [
        "* Curly Braces `{ }` around the values,.\n",
        "* Each value has two components - a **key** and a **value**."
      ]
    },
    {
      "cell_type": "code",
      "execution_count": null,
      "metadata": {
        "id": "pz1bMs0ryvYf"
      },
      "outputs": [],
      "source": [
        "a = {\n",
        "    \"random\": \"something which is not well defined\",\n",
        "    \"bizzare\": \"something which is unusual\"\n",
        "}"
      ]
    },
    {
      "cell_type": "code",
      "execution_count": null,
      "metadata": {
        "colab": {
          "base_uri": "https://localhost:8080/"
        },
        "id": "qca2oah440I3",
        "outputId": "97d8c4a8-d87c-49bd-9742-b50f6c6f8b9f"
      },
      "outputs": [
        {
          "output_type": "stream",
          "name": "stdout",
          "text": [
            "<class 'dict'>\n"
          ]
        }
      ],
      "source": [
        "print(type(a))"
      ]
    },
    {
      "cell_type": "markdown",
      "metadata": {
        "id": "pcaJ7qcP3S-b"
      },
      "source": [
        "### **Why dictionaries?**"
      ]
    },
    {
      "cell_type": "markdown",
      "metadata": {
        "id": "ejDcZoPg3XTn"
      },
      "source": [
        "* Let's say you want to store the population of certain cities.\n",
        "* You can do something like this -"
      ]
    },
    {
      "cell_type": "code",
      "execution_count": null,
      "metadata": {
        "id": "4XHGTT5X3WkM"
      },
      "outputs": [],
      "source": [
        "city_wise_data = {\n",
        "    \"Delhi\": 450,\n",
        "    \"Mumbai\": 400,\n",
        "    \"Bengaluru\": 325\n",
        "}"
      ]
    },
    {
      "cell_type": "markdown",
      "metadata": {
        "id": "4xVrmEr93qpZ"
      },
      "source": [
        "* But why not just use nested tuples?"
      ]
    },
    {
      "cell_type": "code",
      "execution_count": null,
      "metadata": {
        "id": "xf5QeCGq3vI_"
      },
      "outputs": [],
      "source": [
        "city_wise_data_tup = [(\"Delhi\", 450), (\"Mumbai\", 400), (\"Bengaluru\", 325)]"
      ]
    },
    {
      "cell_type": "markdown",
      "metadata": {
        "id": "efbk_IhJ3-IT"
      },
      "source": [
        "* To access a list, we have to use indexing.\n",
        "* For that, we need to remember the order in which we kept all the elements."
      ]
    },
    {
      "cell_type": "code",
      "execution_count": null,
      "metadata": {
        "colab": {
          "base_uri": "https://localhost:8080/"
        },
        "id": "opMgrLJt380k",
        "outputId": "545a6cb4-e28b-40bd-bd73-16207285a4b8"
      },
      "outputs": [
        {
          "output_type": "execute_result",
          "data": {
            "text/plain": [
              "('Mumbai', 400)"
            ]
          },
          "metadata": {},
          "execution_count": 5
        }
      ],
      "source": [
        "city_wise_data_tup[1]"
      ]
    },
    {
      "cell_type": "markdown",
      "metadata": {
        "id": "lk_d58G84JOm"
      },
      "source": [
        "* Dictionaries are **not ordered** or **subscriptable**.\n",
        "* You access a value directly by using its **key**."
      ]
    },
    {
      "cell_type": "code",
      "execution_count": null,
      "metadata": {
        "colab": {
          "base_uri": "https://localhost:8080/"
        },
        "id": "5oJ5vTXF4WSM",
        "outputId": "07722a67-0187-4448-f3e4-5555fd2a3a35"
      },
      "outputs": [
        {
          "output_type": "execute_result",
          "data": {
            "text/plain": [
              "325"
            ]
          },
          "metadata": {},
          "execution_count": 6
        }
      ],
      "source": [
        "city_wise_data[\"Bengaluru\"]"
      ]
    },
    {
      "cell_type": "markdown",
      "metadata": {
        "id": "gh1xP1w-RSTY"
      },
      "source": [
        "---"
      ]
    },
    {
      "cell_type": "markdown",
      "metadata": {
        "id": "PRZ8LkbV5NLe"
      },
      "source": [
        "### **Updating a dictionary**"
      ]
    },
    {
      "cell_type": "code",
      "execution_count": null,
      "metadata": {
        "id": "69rkEVTH5HNv"
      },
      "outputs": [],
      "source": [
        "a = {\n",
        "    \"Delhi\": 450,\n",
        "    \"Mumbai\": 400,\n",
        "    \"Bengaluru\": 325\n",
        "}"
      ]
    },
    {
      "cell_type": "code",
      "execution_count": null,
      "metadata": {
        "id": "V6bzmAp75KWW",
        "colab": {
          "base_uri": "https://localhost:8080/"
        },
        "outputId": "e72849b6-fb26-4826-d550-2f2eeb020fd1"
      },
      "outputs": [
        {
          "output_type": "execute_result",
          "data": {
            "text/plain": [
              "{'Delhi': 500, 'Mumbai': 400, 'Bengaluru': 325}"
            ]
          },
          "metadata": {},
          "execution_count": 40
        }
      ],
      "source": [
        "a[\"Delhi\"] = 500\n",
        "\n",
        "# The value is updated\n",
        "a"
      ]
    },
    {
      "cell_type": "code",
      "execution_count": null,
      "metadata": {
        "id": "fGgslAoX5gRc",
        "colab": {
          "base_uri": "https://localhost:8080/"
        },
        "outputId": "0ad4ce47-e9d7-4c26-d3d3-81e8cfebdaa4"
      },
      "outputs": [
        {
          "output_type": "execute_result",
          "data": {
            "text/plain": [
              "{'Delhi': 500, 'Mumbai': 400, 'Bengaluru': 325, 'New Delhi': 350}"
            ]
          },
          "metadata": {},
          "execution_count": 42
        }
      ],
      "source": [
        "a[\"New Delhi\"] = 350\n",
        "\n",
        "# Creates a new key\n",
        "a"
      ]
    },
    {
      "cell_type": "markdown",
      "metadata": {
        "id": "kRHcjedK6MKh"
      },
      "source": [
        "#### We can also use the ```.update()``` method to update the values of a dictionary."
      ]
    },
    {
      "cell_type": "code",
      "execution_count": null,
      "metadata": {
        "id": "TOqelyJk6CBt"
      },
      "outputs": [],
      "source": [
        "avenger = {\n",
        "    \"name\": \"Thor\",\n",
        "    \"age\": 1500,\n",
        "    \"weapon\": \"mjolnir\"\n",
        "}"
      ]
    },
    {
      "cell_type": "code",
      "execution_count": null,
      "metadata": {
        "id": "exlMSaAd6TX6"
      },
      "outputs": [],
      "source": [
        "# Old keys will be updated\n",
        "# New keys will be added\n",
        "\n",
        "avenger.update(\n",
        "    {\"name\": \"Thor Odinson\",\n",
        "     \"weapon\": [\"mjonir\", \"stormbreaker\"],\n",
        "     \"strongest\": True}\n",
        ")"
      ]
    },
    {
      "cell_type": "code",
      "execution_count": null,
      "metadata": {
        "colab": {
          "base_uri": "https://localhost:8080/"
        },
        "id": "OhsspJ2w6ug-",
        "outputId": "aa67b178-5069-4e44-e0f4-b688081acf3b"
      },
      "outputs": [
        {
          "output_type": "execute_result",
          "data": {
            "text/plain": [
              "{'name': 'Thor Odinson',\n",
              " 'age': 1500,\n",
              " 'weapon': ['mjonir', 'stormbreaker'],\n",
              " 'strongest': True}"
            ]
          },
          "metadata": {},
          "execution_count": 12
        }
      ],
      "source": [
        "avenger"
      ]
    },
    {
      "cell_type": "markdown",
      "metadata": {
        "id": "FCFZ-BMQ6ubK"
      },
      "source": [
        "### **Another way of accessing values of a dictionary**"
      ]
    },
    {
      "cell_type": "code",
      "execution_count": null,
      "metadata": {
        "id": "0h6QEuNG7NZD"
      },
      "outputs": [],
      "source": [
        "random = {\n",
        "    \"a\": 1,\n",
        "    \"b\": 2,\n",
        "    \"c\": 3\n",
        "}"
      ]
    },
    {
      "cell_type": "code",
      "execution_count": null,
      "metadata": {
        "colab": {
          "base_uri": "https://localhost:8080/"
        },
        "id": "L3CdzigF72Ms",
        "outputId": "ec55db9f-99a5-491b-c737-5df81ddb3ae6"
      },
      "outputs": [
        {
          "output_type": "stream",
          "name": "stdout",
          "text": [
            "1\n"
          ]
        }
      ],
      "source": [
        "result = random.get(\"a\")\n",
        "print(result)"
      ]
    },
    {
      "cell_type": "code",
      "source": [
        "random[\"d\"]"
      ],
      "metadata": {
        "id": "sofp7N2Sk9c4"
      },
      "execution_count": null,
      "outputs": []
    },
    {
      "cell_type": "code",
      "execution_count": null,
      "metadata": {
        "colab": {
          "base_uri": "https://localhost:8080/"
        },
        "id": "86rYKZ57Wn3g",
        "outputId": "7a6ef3ad-ff75-4b69-b31b-2b46dc4e21d4"
      },
      "outputs": [
        {
          "output_type": "stream",
          "name": "stdout",
          "text": [
            "None\n"
          ]
        }
      ],
      "source": [
        "result = random.get(\"d\")\n",
        "print(result)"
      ]
    },
    {
      "cell_type": "markdown",
      "metadata": {
        "id": "0EtZB9sL8VCI"
      },
      "source": [
        "### **How do we remove a key?**"
      ]
    },
    {
      "cell_type": "code",
      "execution_count": null,
      "metadata": {
        "id": "eQcpZCJM8RA6"
      },
      "outputs": [],
      "source": [
        "random = {\n",
        "    \"a\": 1,\n",
        "    \"b\": 2,\n",
        "    \"c\": 3\n",
        "}"
      ]
    },
    {
      "cell_type": "code",
      "execution_count": null,
      "metadata": {
        "colab": {
          "base_uri": "https://localhost:8080/"
        },
        "id": "zFmrqtrm8bkt",
        "outputId": "0a411d16-c8e2-489e-a44c-aa78a5eb01e1"
      },
      "outputs": [
        {
          "output_type": "execute_result",
          "data": {
            "text/plain": [
              "2"
            ]
          },
          "metadata": {},
          "execution_count": 44
        }
      ],
      "source": [
        "random.pop(\"b\")"
      ]
    },
    {
      "cell_type": "code",
      "source": [
        "random"
      ],
      "metadata": {
        "colab": {
          "base_uri": "https://localhost:8080/"
        },
        "id": "jvjJKp58lcO7",
        "outputId": "3d085e3f-508f-41c6-94c1-42ae426762f4"
      },
      "execution_count": null,
      "outputs": [
        {
          "output_type": "execute_result",
          "data": {
            "text/plain": [
              "{'a': 1, 'c': 3}"
            ]
          },
          "metadata": {},
          "execution_count": 45
        }
      ]
    },
    {
      "cell_type": "markdown",
      "metadata": {
        "id": "PquhF_MM8w5x"
      },
      "source": [
        "#### We need at least 1 argument when using ```.pop()``` on Dictionaries."
      ]
    },
    {
      "cell_type": "code",
      "execution_count": null,
      "metadata": {
        "colab": {
          "base_uri": "https://localhost:8080/",
          "height": 179
        },
        "id": "12ffVCb38tFT",
        "outputId": "52744011-95e6-43d6-bf18-d5c5acc64493"
      },
      "outputs": [
        {
          "output_type": "error",
          "ename": "TypeError",
          "evalue": "pop expected at least 1 argument, got 0",
          "traceback": [
            "\u001b[0;31m---------------------------------------------------------------------------\u001b[0m",
            "\u001b[0;31mTypeError\u001b[0m                                 Traceback (most recent call last)",
            "\u001b[0;32m<ipython-input-23-06bcf8527137>\u001b[0m in \u001b[0;36m<cell line: 1>\u001b[0;34m()\u001b[0m\n\u001b[0;32m----> 1\u001b[0;31m \u001b[0mrandom\u001b[0m\u001b[0;34m.\u001b[0m\u001b[0mpop\u001b[0m\u001b[0;34m(\u001b[0m\u001b[0;34m)\u001b[0m \u001b[0;31m# TypeError\u001b[0m\u001b[0;34m\u001b[0m\u001b[0;34m\u001b[0m\u001b[0m\n\u001b[0m",
            "\u001b[0;31mTypeError\u001b[0m: pop expected at least 1 argument, got 0"
          ]
        }
      ],
      "source": [
        "random.pop() # TypeError"
      ]
    },
    {
      "cell_type": "markdown",
      "metadata": {
        "id": "aXDcc4VBXF49"
      },
      "source": [
        "---"
      ]
    },
    {
      "cell_type": "markdown",
      "metadata": {
        "id": "4FMDHfZX9dgH"
      },
      "source": [
        "## **Iterating over dictionaries**"
      ]
    },
    {
      "cell_type": "code",
      "execution_count": null,
      "metadata": {
        "id": "zY5UXN0B9knc"
      },
      "outputs": [],
      "source": [
        "a = {'name': 'Thor Odinson',\n",
        "    'age': 1500,\n",
        "    'weapon': ['mjonir', 'stormbreaker'],\n",
        "    'strongest': True}"
      ]
    },
    {
      "cell_type": "markdown",
      "metadata": {
        "id": "0ciRnssl96Rm"
      },
      "source": [
        "* The iterable gets all the keys as values."
      ]
    },
    {
      "cell_type": "code",
      "execution_count": null,
      "metadata": {
        "colab": {
          "base_uri": "https://localhost:8080/"
        },
        "id": "gS6xtOls92-E",
        "outputId": "4d393016-bc58-4452-bd61-f1b40befad10"
      },
      "outputs": [
        {
          "output_type": "stream",
          "name": "stdout",
          "text": [
            "name\n",
            "age\n",
            "weapon\n",
            "strongest\n"
          ]
        }
      ],
      "source": [
        "for i in a:\n",
        "    print(i)"
      ]
    },
    {
      "cell_type": "markdown",
      "metadata": {
        "id": "VNwNKwW3-CLF"
      },
      "source": [
        "* To get the values we can do something as follows:"
      ]
    },
    {
      "cell_type": "code",
      "execution_count": null,
      "metadata": {
        "colab": {
          "base_uri": "https://localhost:8080/"
        },
        "id": "ZHSnm-_g99qs",
        "outputId": "6a392648-ec16-4b2c-88ac-594e035d1f9c"
      },
      "outputs": [
        {
          "output_type": "stream",
          "name": "stdout",
          "text": [
            "Thor Odinson\n",
            "1500\n",
            "['mjonir', 'stormbreaker']\n",
            "True\n"
          ]
        }
      ],
      "source": [
        "for i in a:\n",
        "    print(a[i])"
      ]
    },
    {
      "cell_type": "code",
      "execution_count": null,
      "metadata": {
        "colab": {
          "base_uri": "https://localhost:8080/"
        },
        "id": "edJB36xg-IK-",
        "outputId": "eab87436-896c-48d1-eb6b-73b64f4292e5"
      },
      "outputs": [
        {
          "output_type": "stream",
          "name": "stdout",
          "text": [
            "name -> Thor Odinson\n",
            "age -> 1500\n",
            "weapon -> ['mjonir', 'stormbreaker']\n",
            "strongest -> True\n"
          ]
        }
      ],
      "source": [
        "for i in a:\n",
        "    print(f\"{i} -> {a[i]}\")"
      ]
    },
    {
      "cell_type": "markdown",
      "source": [
        "---"
      ],
      "metadata": {
        "id": "Ayt0rs52Z1RK"
      }
    },
    {
      "cell_type": "markdown",
      "metadata": {
        "id": "VgivkDQg-X_X"
      },
      "source": [
        "#### The ```.keys()``` method can be used to get a list of all the keys in a dictionary."
      ]
    },
    {
      "cell_type": "code",
      "execution_count": null,
      "metadata": {
        "colab": {
          "base_uri": "https://localhost:8080/"
        },
        "id": "xPhGx4wA-SZo",
        "outputId": "8b0e67e0-be51-49c5-b8b8-49f6e3e03532"
      },
      "outputs": [
        {
          "output_type": "execute_result",
          "data": {
            "text/plain": [
              "dict_keys(['name', 'age', 'weapon', 'strongest'])"
            ]
          },
          "metadata": {},
          "execution_count": 28
        }
      ],
      "source": [
        "a.keys()"
      ]
    },
    {
      "cell_type": "markdown",
      "metadata": {
        "id": "mEAjhlbh-jqy"
      },
      "source": [
        "#### The ```.values()``` method can be used to get a list of all the values in a dictionary."
      ]
    },
    {
      "cell_type": "code",
      "execution_count": null,
      "metadata": {
        "colab": {
          "base_uri": "https://localhost:8080/"
        },
        "id": "EGAHL91W-jQc",
        "outputId": "a19b9a8a-a46e-4cb9-fe8c-8b492422e77b"
      },
      "outputs": [
        {
          "output_type": "execute_result",
          "data": {
            "text/plain": [
              "dict_values(['Thor Odinson', 1500, ['mjonir', 'stormbreaker'], True])"
            ]
          },
          "metadata": {},
          "execution_count": 29
        }
      ],
      "source": [
        "a.values()"
      ]
    },
    {
      "cell_type": "markdown",
      "metadata": {
        "id": "C2XcbadQ-sqU"
      },
      "source": [
        "#### The ```.items()``` method can be used to get a list of all the key-value pairs in a dictionary."
      ]
    },
    {
      "cell_type": "code",
      "execution_count": null,
      "metadata": {
        "colab": {
          "base_uri": "https://localhost:8080/"
        },
        "id": "3HO13UKO-wzN",
        "outputId": "dc9dda0b-097f-49fa-bfa6-15f1131f5557"
      },
      "outputs": [
        {
          "output_type": "execute_result",
          "data": {
            "text/plain": [
              "dict_items([('name', 'Thor Odinson'), ('age', 1500), ('weapon', ['mjonir', 'stormbreaker']), ('strongest', True)])"
            ]
          },
          "metadata": {},
          "execution_count": 30
        }
      ],
      "source": [
        "a.items()"
      ]
    },
    {
      "cell_type": "code",
      "execution_count": null,
      "metadata": {
        "colab": {
          "base_uri": "https://localhost:8080/"
        },
        "id": "awirpe-y-3OI",
        "outputId": "aeca7390-b884-4bda-d5b1-1e2cda063413"
      },
      "outputs": [
        {
          "output_type": "stream",
          "name": "stdout",
          "text": [
            "name -> Thor Odinson\n",
            "age -> 1500\n",
            "weapon -> ['mjonir', 'stormbreaker']\n",
            "strongest -> True\n"
          ]
        }
      ],
      "source": [
        "for key, value in a.items():\n",
        "    print(f\"{key} -> {value}\")"
      ]
    },
    {
      "cell_type": "markdown",
      "source": [
        "---"
      ],
      "metadata": {
        "id": "EdZuF7fqZzz_"
      }
    },
    {
      "cell_type": "markdown",
      "metadata": {
        "id": "clN2pQ3__sRF"
      },
      "source": [
        "### **How do we check if a key exists within a dictionary?**"
      ]
    },
    {
      "cell_type": "markdown",
      "metadata": {
        "id": "xwOusdq4_6BC"
      },
      "source": [
        "* We can simply use the ```in``` membership operator to achieve this."
      ]
    },
    {
      "cell_type": "code",
      "execution_count": null,
      "metadata": {
        "colab": {
          "base_uri": "https://localhost:8080/"
        },
        "id": "wBrXT1Cf_n3G",
        "outputId": "5d7f5cd2-b0e9-4c4b-9a30-68ceb2aabf94"
      },
      "outputs": [
        {
          "output_type": "execute_result",
          "data": {
            "text/plain": [
              "True"
            ]
          },
          "metadata": {},
          "execution_count": 32
        }
      ],
      "source": [
        "\"strongest\" in a.keys()"
      ]
    },
    {
      "cell_type": "code",
      "execution_count": null,
      "metadata": {
        "colab": {
          "base_uri": "https://localhost:8080/"
        },
        "id": "t-go0OMbADT8",
        "outputId": "0eaacf9f-a711-4b96-ed47-9115dffa7cde"
      },
      "outputs": [
        {
          "output_type": "execute_result",
          "data": {
            "text/plain": [
              "False"
            ]
          },
          "metadata": {},
          "execution_count": 33
        }
      ],
      "source": [
        "\"asdasd\" in a.keys()"
      ]
    },
    {
      "cell_type": "markdown",
      "metadata": {
        "id": "4lzfxhYBAPoy"
      },
      "source": [
        "### **Can we have object of any datatype as a key in a dictionary?**"
      ]
    },
    {
      "cell_type": "markdown",
      "metadata": {
        "id": "oS3Ta_gvAZFB"
      },
      "source": [
        "* While discussing sets, we talked about how we cannot have **sets**, **dictionaries** and **lists** as elements of sets because they are **mutable**.\n",
        "\n",
        "* This is the exact same case with dictionaries.\n",
        "  * **Values** - Can store any data structure or any data type.\n",
        "  * **Keys** - Lists, Sets and Dictionaries are not allowed."
      ]
    },
    {
      "cell_type": "code",
      "execution_count": null,
      "metadata": {
        "id": "7tbr1_OZAYuf"
      },
      "outputs": [],
      "source": [
        "# Allowed\n",
        "random = {\n",
        "    \"key1\": [45, 56, 78],\n",
        "    \"key2\": {\n",
        "        \"key3\": (1, 2, 3)\n",
        "    },\n",
        "    45: \"value3\",\n",
        "    56.78: \"678\",\n",
        "    (1,2,3): \"random value\"\n",
        "}"
      ]
    },
    {
      "cell_type": "code",
      "execution_count": null,
      "metadata": {
        "colab": {
          "base_uri": "https://localhost:8080/",
          "height": 250
        },
        "id": "K9nTO9cPBZHI",
        "outputId": "48dfe386-0db9-4fd3-f6a3-dabf6171510e"
      },
      "outputs": [
        {
          "output_type": "error",
          "ename": "TypeError",
          "evalue": "unhashable type: 'list'",
          "traceback": [
            "\u001b[0;31m---------------------------------------------------------------------------\u001b[0m",
            "\u001b[0;31mTypeError\u001b[0m                                 Traceback (most recent call last)",
            "\u001b[0;32m<ipython-input-35-a5e17c96aade>\u001b[0m in \u001b[0;36m<cell line: 3>\u001b[0;34m()\u001b[0m\n\u001b[1;32m      1\u001b[0m \u001b[0;31m# Not allowed\u001b[0m\u001b[0;34m\u001b[0m\u001b[0;34m\u001b[0m\u001b[0m\n\u001b[0;32m----> 2\u001b[0;31m random = {\n\u001b[0m\u001b[1;32m      3\u001b[0m     \u001b[0;34m\"key1\"\u001b[0m\u001b[0;34m:\u001b[0m \u001b[0;34m[\u001b[0m\u001b[0;36m45\u001b[0m\u001b[0;34m,\u001b[0m \u001b[0;36m56\u001b[0m\u001b[0;34m,\u001b[0m \u001b[0;36m78\u001b[0m\u001b[0;34m]\u001b[0m\u001b[0;34m,\u001b[0m\u001b[0;34m\u001b[0m\u001b[0;34m\u001b[0m\u001b[0m\n\u001b[1;32m      4\u001b[0m     \"key2\": {\n\u001b[1;32m      5\u001b[0m         \u001b[0;34m\"key3\"\u001b[0m\u001b[0;34m:\u001b[0m \u001b[0;34m(\u001b[0m\u001b[0;36m1\u001b[0m\u001b[0;34m,\u001b[0m \u001b[0;36m2\u001b[0m\u001b[0;34m,\u001b[0m \u001b[0;36m3\u001b[0m\u001b[0;34m)\u001b[0m\u001b[0;34m\u001b[0m\u001b[0;34m\u001b[0m\u001b[0m\n",
            "\u001b[0;31mTypeError\u001b[0m: unhashable type: 'list'"
          ]
        }
      ],
      "source": [
        "# Not allowed\n",
        "random = {\n",
        "    \"key1\": [45, 56, 78],\n",
        "    \"key2\": {\n",
        "        \"key3\": (1, 2, 3)\n",
        "    },\n",
        "    45: \"value3\",\n",
        "    56.78: \"678\",\n",
        "    [1,2,3]: \"random value\"\n",
        "}"
      ]
    },
    {
      "cell_type": "markdown",
      "source": [
        "---"
      ],
      "metadata": {
        "id": "6IURqZJuaNBE"
      }
    },
    {
      "cell_type": "markdown",
      "metadata": {
        "id": "xN6ryYWTB3RP"
      },
      "source": [
        "## **Question**\n",
        "\n",
        "* Take a string as input.\n",
        "* Create a dictionary according to the following criteria :-\n",
        "    * There will be one key-value pair for each unique character.\n",
        "    * Key will be the character name.\n",
        "    * Value will be the count of the character inside the string.\n",
        "\n",
        "**Example Input:**\n",
        "```\n",
        "rrsssstttt\n",
        "```\n",
        "\n",
        "**Example Output:**\n",
        "```\n",
        "{\n",
        "    \"r\": 2,\n",
        "    \"s\": 3,\n",
        "    \"t\": 4\n",
        "}\n",
        "```"
      ]
    },
    {
      "cell_type": "code",
      "execution_count": null,
      "metadata": {
        "id": "lpiPZEWSCsQY"
      },
      "outputs": [],
      "source": [
        "string = \"this is a random string with various characters\""
      ]
    },
    {
      "cell_type": "code",
      "execution_count": null,
      "metadata": {
        "colab": {
          "base_uri": "https://localhost:8080/"
        },
        "id": "xzC1XjV4C2y6",
        "outputId": "3344aea6-c6c0-47c1-ae7d-3c9b1d756787"
      },
      "outputs": [
        {
          "output_type": "execute_result",
          "data": {
            "text/plain": [
              "{'o': 2,\n",
              " 'e': 1,\n",
              " 'h': 3,\n",
              " 't': 4,\n",
              " 'i': 5,\n",
              " 'a': 5,\n",
              " 's': 5,\n",
              " 'n': 2,\n",
              " 'r': 5,\n",
              " 'd': 1,\n",
              " 'w': 1,\n",
              " 'u': 1,\n",
              " ' ': 7,\n",
              " 'v': 1,\n",
              " 'm': 1,\n",
              " 'c': 2,\n",
              " 'g': 1}"
            ]
          },
          "metadata": {},
          "execution_count": 37
        }
      ],
      "source": [
        "result = {}\n",
        "for i in set(string):\n",
        "    result[i] = string.count(i)\n",
        "result"
      ]
    },
    {
      "cell_type": "markdown",
      "metadata": {
        "id": "NNbIFZ5Ug8UK"
      },
      "source": [
        "---"
      ]
    },
    {
      "cell_type": "markdown",
      "source": [
        "# Lec 2: OOPS 1 - Introduction"
      ],
      "metadata": {
        "id": "5HN6X4ncRuFh"
      }
    },
    {
      "cell_type": "markdown",
      "source": [
        "## Content\n",
        "\n",
        "1. OOP - Object Oriented Programming\n",
        "2. Classes & Objects\n",
        "  1. Defining a class\n",
        "  2. Instantiating an object\n",
        "3. 4 Pillars of OOP\n",
        "  1. Abstraction\n",
        "  2. Encapsulation\n",
        "  3. Inheritance\n",
        "  4. Ploymorphism\n",
        "4. Constructors\n",
        "5. Class & Instance Variables"
      ],
      "metadata": {
        "id": "BZ_rhTPxDaO2"
      }
    },
    {
      "cell_type": "markdown",
      "source": [
        "---"
      ],
      "metadata": {
        "id": "Utgnur15sJNJ"
      }
    },
    {
      "cell_type": "markdown",
      "source": [
        "## Object Oriented Programming (OOP)\n",
        "\n",
        "- It is a programming paradigm.\n",
        "  - Paradigm means the way of writing a program, fixed set of practices.\n",
        "\n",
        "- In OOP, we have *classes* and *objects*.\n",
        "- **Class** is a blue print that defines the *methods* and *properties* of an **Object**.\n",
        "\n",
        "<img src=\"https://d2beiqkhq929f0.cloudfront.net/public_assets/assets/000/015/843/original/Screenshot_2022-10-06_at_8.53.31_AM.png?1665026595\">"
      ],
      "metadata": {
        "id": "OBEWAxSsTkaR"
      }
    },
    {
      "cell_type": "code",
      "source": [
        "class Student:\n",
        "  # methods\n",
        "  # properties\n",
        "  pass\n",
        "\n",
        "  # pass represents empty body in Python"
      ],
      "metadata": {
        "id": "DrL5fhg4Vhh7"
      },
      "execution_count": null,
      "outputs": []
    },
    {
      "cell_type": "code",
      "source": [
        "isinstance(Student, object)"
      ],
      "metadata": {
        "colab": {
          "base_uri": "https://localhost:8080/"
        },
        "id": "m0Dz4f1VVnkK",
        "outputId": "338ac1e7-98a1-4e92-a512-fdc7a7db8151"
      },
      "execution_count": null,
      "outputs": [
        {
          "output_type": "execute_result",
          "data": {
            "text/plain": [
              "True"
            ]
          },
          "metadata": {},
          "execution_count": 2
        }
      ]
    },
    {
      "cell_type": "code",
      "source": [
        "# create an instance of this class - instantiate - create an object of class type\n",
        "a = Student()"
      ],
      "metadata": {
        "id": "bsj0lXZQWBaC"
      },
      "execution_count": null,
      "outputs": []
    },
    {
      "cell_type": "code",
      "source": [
        "type(a)"
      ],
      "metadata": {
        "colab": {
          "base_uri": "https://localhost:8080/"
        },
        "id": "ic31pOL4WEv3",
        "outputId": "827309f5-a957-4638-d74b-03fc97cd9725"
      },
      "execution_count": null,
      "outputs": [
        {
          "output_type": "execute_result",
          "data": {
            "text/plain": [
              "__main__.Student"
            ]
          },
          "metadata": {},
          "execution_count": 4
        }
      ]
    },
    {
      "cell_type": "code",
      "source": [
        "isinstance(a, Student)"
      ],
      "metadata": {
        "colab": {
          "base_uri": "https://localhost:8080/"
        },
        "id": "OgiMBoUUWJyx",
        "outputId": "bbd2e63e-3dcb-44d2-c3a8-a62710c51b16"
      },
      "execution_count": null,
      "outputs": [
        {
          "output_type": "execute_result",
          "data": {
            "text/plain": [
              "True"
            ]
          },
          "metadata": {},
          "execution_count": 5
        }
      ]
    },
    {
      "cell_type": "code",
      "source": [
        "isinstance(a, object)"
      ],
      "metadata": {
        "colab": {
          "base_uri": "https://localhost:8080/"
        },
        "id": "1SSQqy8-WLXT",
        "outputId": "13daeabf-8bda-4dfd-bbc8-1f2ffdd20f22"
      },
      "execution_count": null,
      "outputs": [
        {
          "output_type": "execute_result",
          "data": {
            "text/plain": [
              "True"
            ]
          },
          "metadata": {},
          "execution_count": 6
        }
      ]
    },
    {
      "cell_type": "markdown",
      "source": [
        "In Python, everything is an object."
      ],
      "metadata": {
        "id": "YR--i0skCn9t"
      }
    },
    {
      "cell_type": "markdown",
      "source": [
        "---"
      ],
      "metadata": {
        "id": "Wk7Px4AgCrtt"
      }
    },
    {
      "cell_type": "markdown",
      "source": [
        "## 4 pillars of OOP\n",
        "\n",
        "- #### ***Encapsulation***: Putting things together\n",
        "\n",
        "- #### ***Abstraction***: Hiding the irrelevant features\n",
        "  - <img src=\"https://d2beiqkhq929f0.cloudfront.net/public_assets/assets/000/015/844/original/Screenshot_2022-10-06_at_9.11.35_AM.png?1665027689\">\n",
        "\n",
        "- #### ***Inheritance***: objetcs of one class can inherit the features of other class\n",
        "  - <img src=\"https://d2beiqkhq929f0.cloudfront.net/public_assets/assets/000/015/845/original/Screenshot_2022-10-06_at_9.11.44_AM.png?1665027716\">\n",
        "\n",
        "- #### ***Polymorphism***: Same entity but different behaviour"
      ],
      "metadata": {
        "id": "WD27K2n9XV1N"
      }
    },
    {
      "cell_type": "code",
      "source": [
        "# Examples of Polymorphism\n",
        "\n",
        "print(56 + 75)\n",
        "\n",
        "print(\"what\" + \"on\" + \"earth\")"
      ],
      "metadata": {
        "colab": {
          "base_uri": "https://localhost:8080/"
        },
        "id": "l0NDgtyuWNBk",
        "outputId": "66b433e5-a41e-4d7f-d1c7-d2b8051bf0f4"
      },
      "execution_count": null,
      "outputs": [
        {
          "output_type": "stream",
          "name": "stdout",
          "text": [
            "131\n",
            "whatonearth\n"
          ]
        }
      ]
    },
    {
      "cell_type": "markdown",
      "source": [
        "When you call a class, it creates an object of that class."
      ],
      "metadata": {
        "id": "nAg_Y7upIX6b"
      }
    },
    {
      "cell_type": "code",
      "source": [
        "s1 = Student()\n",
        "\n",
        "s1"
      ],
      "metadata": {
        "id": "djHGcqeEWWlA",
        "colab": {
          "base_uri": "https://localhost:8080/"
        },
        "outputId": "261b005e-fb81-4e16-8632-c80a2bb4c3df"
      },
      "execution_count": null,
      "outputs": [
        {
          "output_type": "execute_result",
          "data": {
            "text/plain": [
              "<__main__.Student at 0x79fcf5019480>"
            ]
          },
          "metadata": {},
          "execution_count": 8
        }
      ]
    },
    {
      "cell_type": "code",
      "source": [
        "# Making property of s1\n",
        "\n",
        "s1.name = \"Bipin\"\n",
        "\n",
        "s1.name"
      ],
      "metadata": {
        "id": "P7cKz_n0WaPH",
        "colab": {
          "base_uri": "https://localhost:8080/",
          "height": 35
        },
        "outputId": "ef0cb8a2-a70f-4d7c-bc7a-33b6175375fc"
      },
      "execution_count": null,
      "outputs": [
        {
          "output_type": "execute_result",
          "data": {
            "text/plain": [
              "'Bipin'"
            ],
            "application/vnd.google.colaboratory.intrinsic+json": {
              "type": "string"
            }
          },
          "metadata": {},
          "execution_count": 9
        }
      ]
    },
    {
      "cell_type": "code",
      "source": [
        "s2 = s1\n",
        "\n",
        "s2.name"
      ],
      "metadata": {
        "id": "GfGZZWZ-byXn",
        "colab": {
          "base_uri": "https://localhost:8080/",
          "height": 35
        },
        "outputId": "d7702507-1e53-4100-b7b5-18ab600e7905"
      },
      "execution_count": null,
      "outputs": [
        {
          "output_type": "execute_result",
          "data": {
            "text/plain": [
              "'Bipin'"
            ],
            "application/vnd.google.colaboratory.intrinsic+json": {
              "type": "string"
            }
          },
          "metadata": {},
          "execution_count": 10
        }
      ]
    },
    {
      "cell_type": "markdown",
      "source": [
        "---"
      ],
      "metadata": {
        "id": "YfBTFDxgC7pt"
      }
    },
    {
      "cell_type": "markdown",
      "source": [
        "## Constructors\n",
        "\n",
        "- Constructor is function which is called whenever an object is created, to allocate the memory to that object.\n",
        "\n",
        "- In Python, we don't have direct access to constructor.\n",
        "> **Note:** `__init__()` method is not a constructor. It's an initializing function.\n",
        "\n",
        "### Life Cycle of an Object\n",
        "<img src=\"https://d2beiqkhq929f0.cloudfront.net/public_assets/assets/000/015/846/original/Screenshot_2022-10-06_at_9.24.23_AM.png?1665028448\">"
      ],
      "metadata": {
        "id": "A-y4HEtaZuZq"
      }
    },
    {
      "cell_type": "code",
      "source": [
        "class Student:\n",
        "    def hello():\n",
        "        print(\"Hello!\")"
      ],
      "metadata": {
        "id": "pNreQAD7WdmQ"
      },
      "execution_count": null,
      "outputs": []
    },
    {
      "cell_type": "code",
      "source": [
        "s2 = Student()\n",
        "\n",
        "s2.hello()"
      ],
      "metadata": {
        "id": "Gbd2mztKWfaY",
        "colab": {
          "base_uri": "https://localhost:8080/",
          "height": 214
        },
        "outputId": "6f0c3212-32bb-4b91-dcdb-b3fe0eeb5527"
      },
      "execution_count": null,
      "outputs": [
        {
          "output_type": "error",
          "ename": "TypeError",
          "evalue": "Student.hello() takes 0 positional arguments but 1 was given",
          "traceback": [
            "\u001b[0;31m---------------------------------------------------------------------------\u001b[0m",
            "\u001b[0;31mTypeError\u001b[0m                                 Traceback (most recent call last)",
            "\u001b[0;32m<ipython-input-12-e6909bd8b8c3>\u001b[0m in \u001b[0;36m<cell line: 3>\u001b[0;34m()\u001b[0m\n\u001b[1;32m      1\u001b[0m \u001b[0ms2\u001b[0m \u001b[0;34m=\u001b[0m \u001b[0mStudent\u001b[0m\u001b[0;34m(\u001b[0m\u001b[0;34m)\u001b[0m\u001b[0;34m\u001b[0m\u001b[0;34m\u001b[0m\u001b[0m\n\u001b[1;32m      2\u001b[0m \u001b[0;34m\u001b[0m\u001b[0m\n\u001b[0;32m----> 3\u001b[0;31m \u001b[0ms2\u001b[0m\u001b[0;34m.\u001b[0m\u001b[0mhello\u001b[0m\u001b[0;34m(\u001b[0m\u001b[0;34m)\u001b[0m\u001b[0;34m\u001b[0m\u001b[0;34m\u001b[0m\u001b[0m\n\u001b[0m",
            "\u001b[0;31mTypeError\u001b[0m: Student.hello() takes 0 positional arguments but 1 was given"
          ]
        }
      ]
    },
    {
      "cell_type": "markdown",
      "source": [
        "#### By default, Python passes an argument known as `self`."
      ],
      "metadata": {
        "id": "Ry_KZJ-isekb"
      }
    },
    {
      "cell_type": "code",
      "source": [
        "# We can name anything to self, here giving random_variable_name.\n",
        "\n",
        "class Student:\n",
        "    def hello(random_variable_name):\n",
        "        print(\"Hello!\")\n",
        "        print(id(random_variable_name))"
      ],
      "metadata": {
        "id": "XdNG5xfSWmg0"
      },
      "execution_count": null,
      "outputs": []
    },
    {
      "cell_type": "code",
      "source": [
        "s1 = Student()\n",
        "\n",
        "s1.hello()\n",
        "# Student.hello(s1)\n",
        "\n",
        "print(id(s1))"
      ],
      "metadata": {
        "colab": {
          "base_uri": "https://localhost:8080/"
        },
        "id": "20IiLjVDWtEF",
        "outputId": "4cd3b968-1059-49f2-c018-9a9799797d72"
      },
      "execution_count": null,
      "outputs": [
        {
          "output_type": "stream",
          "name": "stdout",
          "text": [
            "Hello!\n",
            "134127349238272\n",
            "134127349238272\n"
          ]
        }
      ]
    },
    {
      "cell_type": "markdown",
      "source": [
        "> Note: `self` argument is reference of the object itself.\n",
        "In the above example, we get same id because both times, it is the same object."
      ],
      "metadata": {
        "id": "1WOdRXYqcjRk"
      }
    },
    {
      "cell_type": "markdown",
      "source": [
        "Implicitly, Python already has a standard init function.\n",
        "\n",
        "But you can create a custom `__init__` function as well. It will override."
      ],
      "metadata": {
        "id": "0iJNMGhKFlsQ"
      }
    },
    {
      "cell_type": "code",
      "source": [
        "class Student:\n",
        "    def __init__(self, name, age):\n",
        "        self.name = name\n",
        "        # This will create property name on current object `self`\n",
        "        self.age = age\n",
        "\n",
        "    def study(self):\n",
        "      print(\"lemme watch movie\")"
      ],
      "metadata": {
        "id": "knUedN4IW00c"
      },
      "execution_count": null,
      "outputs": []
    },
    {
      "cell_type": "markdown",
      "source": [
        "Also, `self` is automatically passed in Python."
      ],
      "metadata": {
        "id": "ACFZR76IFxA8"
      }
    },
    {
      "cell_type": "code",
      "source": [
        "s1 = Student(\"Vaishali\", 5000)\n",
        "\n",
        "print(s1.name, s1.age)"
      ],
      "metadata": {
        "id": "Mv3rNDoTd5BI",
        "colab": {
          "base_uri": "https://localhost:8080/"
        },
        "outputId": "7902ad16-1227-498a-82b4-6a9a99308999"
      },
      "execution_count": null,
      "outputs": [
        {
          "output_type": "stream",
          "name": "stdout",
          "text": [
            "Vaishali 5000\n"
          ]
        }
      ]
    },
    {
      "cell_type": "code",
      "source": [
        "s2 = Student(\"Vinoth\", 10000)\n",
        "\n",
        "print(s2.name, s2.age)"
      ],
      "metadata": {
        "id": "7Bboqkshd_k7",
        "colab": {
          "base_uri": "https://localhost:8080/"
        },
        "outputId": "7f393f27-a889-4b87-a20d-13172b5ce75c"
      },
      "execution_count": null,
      "outputs": [
        {
          "output_type": "stream",
          "name": "stdout",
          "text": [
            "Vinoth 10000\n"
          ]
        }
      ]
    },
    {
      "cell_type": "markdown",
      "source": [
        "---"
      ],
      "metadata": {
        "id": "P5X2ohTaGTOz"
      }
    },
    {
      "cell_type": "markdown",
      "source": [
        "## Class and Instance Variables"
      ],
      "metadata": {
        "id": "-17i9cvCIF0o"
      }
    },
    {
      "cell_type": "markdown",
      "source": [
        "#### Class variable - A variable that is shared among all instances of a class.\n",
        "\n",
        "#### Instance variable - A variable that is unique to each instance of a class."
      ],
      "metadata": {
        "id": "Is9DY-R5IkHI"
      }
    },
    {
      "cell_type": "code",
      "source": [
        "class Dog:\n",
        "    kind = \"canine\" # class variable\n",
        "\n",
        "    def __init__(self, name):\n",
        "        self.name = name # object / instance variable"
      ],
      "metadata": {
        "id": "zJw4JRL4e9M-"
      },
      "execution_count": null,
      "outputs": []
    },
    {
      "cell_type": "code",
      "source": [
        "d1 = Dog(\"tuffy\")\n",
        "d2 = Dog(\"scooby\")"
      ],
      "metadata": {
        "id": "3mlGW28NfADA"
      },
      "execution_count": null,
      "outputs": []
    },
    {
      "cell_type": "code",
      "source": [
        "d1.name, d2.name"
      ],
      "metadata": {
        "colab": {
          "base_uri": "https://localhost:8080/"
        },
        "id": "2jMR7T0CfE6u",
        "outputId": "6fc1636a-6891-4cb0-b2fd-2c38b291afc5"
      },
      "execution_count": null,
      "outputs": [
        {
          "output_type": "execute_result",
          "data": {
            "text/plain": [
              "('tuffy', 'scooby')"
            ]
          },
          "metadata": {},
          "execution_count": 28
        }
      ]
    },
    {
      "cell_type": "code",
      "source": [
        "d1.kind, d2.kind"
      ],
      "metadata": {
        "colab": {
          "base_uri": "https://localhost:8080/"
        },
        "id": "iQ90aMFpfG0G",
        "outputId": "0dc4968f-f87a-4a22-fc23-d2949394b2b6"
      },
      "execution_count": null,
      "outputs": [
        {
          "output_type": "execute_result",
          "data": {
            "text/plain": [
              "('canine', 'canine')"
            ]
          },
          "metadata": {},
          "execution_count": 29
        }
      ]
    },
    {
      "cell_type": "code",
      "source": [
        "# Accessing a class variable\n",
        "Dog.kind"
      ],
      "metadata": {
        "colab": {
          "base_uri": "https://localhost:8080/",
          "height": 35
        },
        "id": "S1ySmwV6fPXw",
        "outputId": "58a01b14-2ecc-4814-e843-95504b6ad129"
      },
      "execution_count": null,
      "outputs": [
        {
          "output_type": "execute_result",
          "data": {
            "text/plain": [
              "'canine'"
            ],
            "application/vnd.google.colaboratory.intrinsic+json": {
              "type": "string"
            }
          },
          "metadata": {},
          "execution_count": 32
        }
      ]
    },
    {
      "cell_type": "code",
      "source": [
        "Dog.name"
      ],
      "metadata": {
        "colab": {
          "base_uri": "https://localhost:8080/",
          "height": 179
        },
        "id": "ecb_VWodCs2m",
        "outputId": "3f135043-e52a-49c6-dee1-41e1fa9f8578"
      },
      "execution_count": null,
      "outputs": [
        {
          "output_type": "error",
          "ename": "AttributeError",
          "evalue": "type object 'Dog' has no attribute 'name'",
          "traceback": [
            "\u001b[0;31m---------------------------------------------------------------------------\u001b[0m",
            "\u001b[0;31mAttributeError\u001b[0m                            Traceback (most recent call last)",
            "\u001b[0;32m<ipython-input-31-67177580d25d>\u001b[0m in \u001b[0;36m<cell line: 1>\u001b[0;34m()\u001b[0m\n\u001b[0;32m----> 1\u001b[0;31m \u001b[0mDog\u001b[0m\u001b[0;34m.\u001b[0m\u001b[0mname\u001b[0m\u001b[0;34m\u001b[0m\u001b[0;34m\u001b[0m\u001b[0m\n\u001b[0m",
            "\u001b[0;31mAttributeError\u001b[0m: type object 'Dog' has no attribute 'name'"
          ]
        }
      ]
    },
    {
      "cell_type": "markdown",
      "source": [
        "<img src=\"https://d2beiqkhq929f0.cloudfront.net/public_assets/assets/000/016/213/original/Screenshot_2022-10-12_at_9.34.55_AM.png?1665547478\">\n",
        "<img src=\"https://d2beiqkhq929f0.cloudfront.net/public_assets/assets/000/016/214/original/Screenshot_2022-10-12_at_9.35.04_AM.png?1665547506\">"
      ],
      "metadata": {
        "id": "WtkQyBKehchL"
      }
    },
    {
      "cell_type": "code",
      "source": [
        "# Changing the class variable through an object d1\n",
        "d1.kind = \"doberman\""
      ],
      "metadata": {
        "id": "JdkdVswmgyZk"
      },
      "execution_count": null,
      "outputs": []
    },
    {
      "cell_type": "code",
      "source": [
        "# Creates an instance/object variable just for that object\n",
        "\n",
        "d1.kind"
      ],
      "metadata": {
        "colab": {
          "base_uri": "https://localhost:8080/",
          "height": 35
        },
        "id": "PHCKr4Cng1Ol",
        "outputId": "19c122ba-01cd-433a-a57a-eaec75533560"
      },
      "execution_count": null,
      "outputs": [
        {
          "output_type": "execute_result",
          "data": {
            "text/plain": [
              "'doberman'"
            ],
            "application/vnd.google.colaboratory.intrinsic+json": {
              "type": "string"
            }
          },
          "metadata": {},
          "execution_count": 39
        }
      ]
    },
    {
      "cell_type": "code",
      "source": [
        "d2.kind"
      ],
      "metadata": {
        "colab": {
          "base_uri": "https://localhost:8080/",
          "height": 35
        },
        "id": "QFkDwVvoNndQ",
        "outputId": "8d0de6ab-70d1-40fd-9405-0b6962d96e87"
      },
      "execution_count": null,
      "outputs": [
        {
          "output_type": "execute_result",
          "data": {
            "text/plain": [
              "'random_kind'"
            ],
            "application/vnd.google.colaboratory.intrinsic+json": {
              "type": "string"
            }
          },
          "metadata": {},
          "execution_count": 40
        }
      ]
    },
    {
      "cell_type": "code",
      "source": [
        "d2.kind"
      ],
      "metadata": {
        "colab": {
          "base_uri": "https://localhost:8080/",
          "height": 35
        },
        "id": "TSfLCD6Fg3V_",
        "outputId": "15895c09-8997-433b-de33-c9881e630b0a"
      },
      "execution_count": null,
      "outputs": [
        {
          "output_type": "execute_result",
          "data": {
            "text/plain": [
              "'canine'"
            ],
            "application/vnd.google.colaboratory.intrinsic+json": {
              "type": "string"
            }
          },
          "metadata": {},
          "execution_count": 35
        }
      ]
    },
    {
      "cell_type": "code",
      "source": [
        "Dog.kind = \"random_kind\"\n",
        "print(Dog.kind)"
      ],
      "metadata": {
        "id": "sGYHIiHohAqm",
        "colab": {
          "base_uri": "https://localhost:8080/"
        },
        "outputId": "b5c459f2-2eaa-4805-bee7-99d59eb72351"
      },
      "execution_count": null,
      "outputs": [
        {
          "output_type": "stream",
          "name": "stdout",
          "text": [
            "random_kind\n"
          ]
        }
      ]
    },
    {
      "cell_type": "code",
      "source": [
        "print(d1.kind)\n",
        "print(d2.kind)"
      ],
      "metadata": {
        "colab": {
          "base_uri": "https://localhost:8080/"
        },
        "id": "LB8KLD-bhG6V",
        "outputId": "562f9b38-f5aa-4d5f-b245-c4efa8e2df1b"
      },
      "execution_count": null,
      "outputs": [
        {
          "output_type": "stream",
          "name": "stdout",
          "text": [
            "doberman\n",
            "random_kind\n"
          ]
        }
      ]
    },
    {
      "cell_type": "code",
      "source": [
        "d1 = Dog(\"tuffy\")\n",
        "d2 = Dog(\"scooby\")"
      ],
      "metadata": {
        "id": "EMboIqQUEBbQ"
      },
      "execution_count": null,
      "outputs": []
    },
    {
      "cell_type": "code",
      "source": [
        "d1.kind"
      ],
      "metadata": {
        "colab": {
          "base_uri": "https://localhost:8080/",
          "height": 35
        },
        "id": "EMU-eQ8KENKI",
        "outputId": "b8e45338-b2d5-4cb3-be19-fb86b4191cc4"
      },
      "execution_count": null,
      "outputs": [
        {
          "output_type": "execute_result",
          "data": {
            "text/plain": [
              "'random_kind'"
            ],
            "application/vnd.google.colaboratory.intrinsic+json": {
              "type": "string"
            }
          },
          "metadata": {},
          "execution_count": 16
        }
      ]
    },
    {
      "cell_type": "code",
      "source": [
        "d2.kind"
      ],
      "metadata": {
        "colab": {
          "base_uri": "https://localhost:8080/",
          "height": 35
        },
        "id": "MlGiTUf4ESSt",
        "outputId": "8e9b115d-15f4-49f4-be93-bd0d0355666d"
      },
      "execution_count": null,
      "outputs": [
        {
          "output_type": "execute_result",
          "data": {
            "text/plain": [
              "'random_kind'"
            ],
            "application/vnd.google.colaboratory.intrinsic+json": {
              "type": "string"
            }
          },
          "metadata": {},
          "execution_count": 17
        }
      ]
    },
    {
      "cell_type": "markdown",
      "source": [
        "---"
      ],
      "metadata": {
        "id": "pW7pg0knVNLm"
      }
    },
    {
      "cell_type": "markdown",
      "source": [
        "## Revisiting Concepts"
      ],
      "metadata": {
        "id": "em6oChd9lFIy"
      }
    },
    {
      "cell_type": "code",
      "source": [
        "class Student:\n",
        "    def hello(self):\n",
        "        print(\"hello!\")\n",
        "\n",
        "s1 = Student()\n",
        "\n",
        "Student.hello(s1)\n",
        "s1.hello()"
      ],
      "metadata": {
        "colab": {
          "base_uri": "https://localhost:8080/"
        },
        "id": "p1mggGnZjsTX",
        "outputId": "9b58cf33-2410-434a-bcc8-0326bbda8c55"
      },
      "execution_count": null,
      "outputs": [
        {
          "output_type": "stream",
          "name": "stdout",
          "text": [
            "hello!\n",
            "hello!\n"
          ]
        }
      ]
    },
    {
      "cell_type": "markdown",
      "source": [
        "When updating a class variable using an object -\n",
        "- In case of immutable - New Instance Variable is created\n",
        "- In case of mutable - Original Class Variable is updated"
      ],
      "metadata": {
        "id": "NXO6WcwQW_aA"
      }
    },
    {
      "cell_type": "code",
      "source": [
        "class Dog:\n",
        "    tricks = []\n",
        "\n",
        "    def __init__(self, name):\n",
        "        self.name = name\n",
        "\n",
        "    def teach_trick(self, trick):\n",
        "        self.tricks.append(trick)"
      ],
      "metadata": {
        "id": "6osSQkMoiqn8"
      },
      "execution_count": null,
      "outputs": []
    },
    {
      "cell_type": "code",
      "source": [
        "d1 = Dog(\"pupy\")\n",
        "d2 = Dog(\"tommy\")"
      ],
      "metadata": {
        "id": "WkxYSzVEizrZ"
      },
      "execution_count": null,
      "outputs": []
    },
    {
      "cell_type": "code",
      "source": [
        "print(d1.tricks)\n",
        "print(d2.tricks)"
      ],
      "metadata": {
        "colab": {
          "base_uri": "https://localhost:8080/"
        },
        "id": "asVFz0tLi1VX",
        "outputId": "d45a56e2-c832-4ab7-84ee-63b68fd3c301"
      },
      "execution_count": null,
      "outputs": [
        {
          "output_type": "stream",
          "name": "stdout",
          "text": [
            "[]\n",
            "[]\n"
          ]
        }
      ]
    },
    {
      "cell_type": "code",
      "source": [
        "print(d1.name)\n",
        "print(d2.name)"
      ],
      "metadata": {
        "colab": {
          "base_uri": "https://localhost:8080/"
        },
        "id": "-bdpQ_Y0i6jN",
        "outputId": "3da7491c-cc80-4f1b-a261-7986337bf1d2"
      },
      "execution_count": null,
      "outputs": [
        {
          "output_type": "stream",
          "name": "stdout",
          "text": [
            "pupy\n",
            "tommy\n"
          ]
        }
      ]
    },
    {
      "cell_type": "code",
      "source": [
        "d1.teach_trick(\"jump\")"
      ],
      "metadata": {
        "colab": {
          "base_uri": "https://localhost:8080/"
        },
        "id": "adnxZu8-i_xF",
        "outputId": "180f8cd7-944f-4acb-b3b7-6d82c0bab084"
      },
      "execution_count": null,
      "outputs": [
        {
          "output_type": "execute_result",
          "data": {
            "text/plain": [
              "['jump']"
            ]
          },
          "metadata": {},
          "execution_count": 22
        }
      ]
    },
    {
      "cell_type": "code",
      "source": [
        "d1.tricks"
      ],
      "metadata": {
        "id": "vD5bPY2uXtUv"
      },
      "execution_count": null,
      "outputs": []
    },
    {
      "cell_type": "code",
      "source": [
        "d2.tricks"
      ],
      "metadata": {
        "colab": {
          "base_uri": "https://localhost:8080/"
        },
        "id": "kUKAFU3MjC5V",
        "outputId": "32fba39d-a18d-42a3-e11e-82aba2c54ab5"
      },
      "execution_count": null,
      "outputs": [
        {
          "output_type": "execute_result",
          "data": {
            "text/plain": [
              "['jump']"
            ]
          },
          "metadata": {},
          "execution_count": 23
        }
      ]
    },
    {
      "cell_type": "markdown",
      "source": [
        "---"
      ],
      "metadata": {
        "id": "Jxb3c9MHYKX6"
      }
    },
    {
      "cell_type": "markdown",
      "source": [
        "# Lec 3: OOPS 2 - Dunders, Inheritence"
      ],
      "metadata": {
        "id": "nAyHxMfAoIuq"
      }
    },
    {
      "cell_type": "markdown",
      "source": [
        "## Content\n",
        "\n",
        "1. Dunder / Magic methods\n",
        "2. Inheritance\n",
        "3. Private Properties\n",
        "4. Multiple Inheritance\n",
        "5. Method Resolution Order"
      ],
      "metadata": {
        "id": "WdkGjZ4Ga118"
      }
    },
    {
      "cell_type": "markdown",
      "source": [
        "---"
      ],
      "metadata": {
        "id": "1yDo9-78sHwn"
      }
    },
    {
      "cell_type": "markdown",
      "source": [
        "## Dunder / Magic methods\n",
        "\n",
        "* These are special methods that have double underscores at the beginning and end of their names (e.g., __init__).\n",
        "* These methods provide a way for a class to define its behavior.\n",
        "* By modifying these methods, you can customize the default behavior of your objects."
      ],
      "metadata": {
        "id": "jkxtuSAxqRmp"
      }
    },
    {
      "cell_type": "code",
      "source": [
        "class Car:\n",
        "    def __init__(self, name, mileage):\n",
        "        self.name = name\n",
        "        self.milaege = mileage"
      ],
      "metadata": {
        "id": "x10f32P2qE2f"
      },
      "execution_count": null,
      "outputs": []
    },
    {
      "cell_type": "code",
      "source": [
        "c1 = Car(\"Nexon\", 12)\n",
        "c2 = Car(\"Altroz\", 15)"
      ],
      "metadata": {
        "id": "gLZe0VyZqGWl"
      },
      "execution_count": null,
      "outputs": []
    },
    {
      "cell_type": "code",
      "source": [
        "print(c1)\n",
        "# Name -> Mileage"
      ],
      "metadata": {
        "colab": {
          "base_uri": "https://localhost:8080/"
        },
        "id": "Z38V75MAqH5z",
        "outputId": "55558d71-b8c1-4965-eb7e-f9ad97a80587"
      },
      "execution_count": null,
      "outputs": [
        {
          "output_type": "stream",
          "name": "stdout",
          "text": [
            "<__main__.Car object at 0x7eba71510ac0>\n"
          ]
        }
      ]
    },
    {
      "cell_type": "markdown",
      "source": [
        "Whenever call the `print()` function over some object then there should always be a pre-defined message linked to that object that gets printed.\n",
        "Hence printing is a behaviour in Python\n",
        "\n",
        "With dunder/magic methods, we can modify this behaviour."
      ],
      "metadata": {
        "id": "E1rbibxjqU-R"
      }
    },
    {
      "cell_type": "code",
      "source": [
        "class Car:\n",
        "    def __init__(self, name, mileage):\n",
        "        self.name = name\n",
        "        self.mileage = mileage\n",
        "\n",
        "    # Whenever an object is printed, __str__() function is called.\n",
        "    def __str__(self):\n",
        "        return f\"{self.name} -> {self.mileage}\"\n",
        "\n",
        "    def __add__(self, other):\n",
        "        return self.mileage + other.mileage\n",
        "\n",
        "    def __lt__(self, other):\n",
        "        return self.mileage < other.mileage\n",
        "\n",
        "    def __call__(self):\n",
        "        print(\"I WAS CALLED\")"
      ],
      "metadata": {
        "id": "23LIBB8SqKFI"
      },
      "execution_count": null,
      "outputs": []
    },
    {
      "cell_type": "code",
      "source": [
        "c1 = Car(\"Nexon\", 12)\n",
        "c2 = Car(\"Altroz\", 15)"
      ],
      "metadata": {
        "id": "93zSBcBlqNSF"
      },
      "execution_count": null,
      "outputs": []
    },
    {
      "cell_type": "code",
      "source": [
        "print(c1)"
      ],
      "metadata": {
        "colab": {
          "base_uri": "https://localhost:8080/"
        },
        "id": "tD-GZutPqPH0",
        "outputId": "bac1f1c2-5cb1-46af-c4d5-7144cd2bb770"
      },
      "execution_count": null,
      "outputs": [
        {
          "output_type": "stream",
          "name": "stdout",
          "text": [
            "Nexon -> 12\n"
          ]
        }
      ]
    },
    {
      "cell_type": "code",
      "source": [
        "c1 + c2\n",
        "# Car.__add__(c1, c2)"
      ],
      "metadata": {
        "colab": {
          "base_uri": "https://localhost:8080/"
        },
        "id": "PrMRWkT_q0DH",
        "outputId": "faf57f58-fee9-4408-8a2c-883e2bbf28b8"
      },
      "execution_count": null,
      "outputs": [
        {
          "output_type": "execute_result",
          "data": {
            "text/plain": [
              "27"
            ]
          },
          "metadata": {},
          "execution_count": 10
        }
      ]
    },
    {
      "cell_type": "markdown",
      "source": [
        "---"
      ],
      "metadata": {
        "id": "PpPbMj_cxmm-"
      }
    },
    {
      "cell_type": "markdown",
      "source": [
        "## Inheritence\n",
        "\n",
        "<img src=\"https://d2beiqkhq929f0.cloudfront.net/public_assets/assets/000/015/907/original/Screenshot_2022-10-07_at_10.04.40_AM.png?1665117262\">"
      ],
      "metadata": {
        "id": "JRka2Fl2t7MC"
      }
    },
    {
      "cell_type": "code",
      "source": [
        "# parent class\n",
        "class Parent:\n",
        "  def __init__(self):\n",
        "    print(\"parent class\")\n",
        "\n",
        "# child class\n",
        "class Child(Parent): # inheriting parent class\n",
        "  def __init__(self):\n",
        "    print(\"child class\")"
      ],
      "metadata": {
        "id": "oOkfTZ6o15sJ"
      },
      "execution_count": null,
      "outputs": []
    },
    {
      "cell_type": "code",
      "source": [
        "class SchoolMember:\n",
        "    def __init__(self, name):\n",
        "        self.name = name\n",
        "\n",
        "class Student(SchoolMember):\n",
        "    def __init__(self, name, grade):\n",
        "        self.grade = grade\n",
        "\n",
        "class Staff(SchoolMember):\n",
        "    def __init__(self, name, salary):\n",
        "        self.salary = salary\n",
        "\n",
        "class Teacher(Staff):\n",
        "    def __init__(self, name, salary, subject):\n",
        "        self.subject = subject"
      ],
      "metadata": {
        "id": "GUP6Ud7XrbL0"
      },
      "execution_count": null,
      "outputs": []
    },
    {
      "cell_type": "markdown",
      "source": [
        "<img src=\"https://d2beiqkhq929f0.cloudfront.net/public_assets/assets/000/015/908/original/Screenshot_2022-10-07_at_10.05.56_AM.png?1665117338\">"
      ],
      "metadata": {
        "id": "k7J9fjRsusi9"
      }
    },
    {
      "cell_type": "code",
      "source": [
        "s1 = Student(\"Krishna\", \"A\")\n",
        "\n",
        "type(s1)"
      ],
      "metadata": {
        "id": "j3Kt6618redd"
      },
      "execution_count": null,
      "outputs": []
    },
    {
      "cell_type": "code",
      "source": [
        "s1.grade"
      ],
      "metadata": {
        "colab": {
          "base_uri": "https://localhost:8080/",
          "height": 35
        },
        "id": "9_qq7lHprhmx",
        "outputId": "2ab5d952-36b8-498f-bfe8-5326d44d3b21"
      },
      "execution_count": null,
      "outputs": [
        {
          "output_type": "execute_result",
          "data": {
            "text/plain": [
              "'A'"
            ],
            "application/vnd.google.colaboratory.intrinsic+json": {
              "type": "string"
            }
          },
          "metadata": {},
          "execution_count": 16
        }
      ]
    },
    {
      "cell_type": "code",
      "source": [
        "s1.name # class inherited but still can't use the properties"
      ],
      "metadata": {
        "colab": {
          "base_uri": "https://localhost:8080/",
          "height": 179
        },
        "id": "wHa-QQLorjH8",
        "outputId": "245cfe12-9c5e-4ac7-fcf4-1aa308574d00"
      },
      "execution_count": null,
      "outputs": [
        {
          "output_type": "error",
          "ename": "AttributeError",
          "evalue": "ignored",
          "traceback": [
            "\u001b[0;31m---------------------------------------------------------------------------\u001b[0m",
            "\u001b[0;31mAttributeError\u001b[0m                            Traceback (most recent call last)",
            "\u001b[0;32m<ipython-input-17-58cbae705711>\u001b[0m in \u001b[0;36m<cell line: 1>\u001b[0;34m()\u001b[0m\n\u001b[0;32m----> 1\u001b[0;31m \u001b[0ms1\u001b[0m\u001b[0;34m.\u001b[0m\u001b[0mname\u001b[0m \u001b[0;31m# class inherited still cannot use the properties\u001b[0m\u001b[0;34m\u001b[0m\u001b[0;34m\u001b[0m\u001b[0m\n\u001b[0m",
            "\u001b[0;31mAttributeError\u001b[0m: 'Student' object has no attribute 'name'"
          ]
        }
      ]
    },
    {
      "cell_type": "markdown",
      "source": [
        "#### The problem is that we never called the `__init__()` function of the parent class inside the child class.\n",
        "\n",
        "#### We can use the `super()` method to directly call the methods of parent class."
      ],
      "metadata": {
        "id": "aBzj5fp8vFa3"
      }
    },
    {
      "cell_type": "code",
      "source": [
        "class SchoolMember:\n",
        "    def __init__(self, name):\n",
        "        self.name = name\n",
        "\n",
        "class Student(SchoolMember):\n",
        "    def __init__(self, name, grade):\n",
        "        super().__init__(name)\n",
        "        # super() automatically corresponds to the direct parent class\n",
        "        self.grade = grade\n",
        "\n",
        "class Staff(SchoolMember):\n",
        "    def __init__(self, name, salary):\n",
        "        super().__init__(name)\n",
        "        self.salary = salary\n",
        "\n",
        "class Teacher(Staff):\n",
        "    def __init__(self, name, salary, subject):\n",
        "        super().__init__(name, salary)\n",
        "        self.subject = subject"
      ],
      "metadata": {
        "id": "vUS4RE0Zsgd-"
      },
      "execution_count": null,
      "outputs": []
    },
    {
      "cell_type": "code",
      "source": [
        "s1 = Student(\"Sharath\", \"A\")\n",
        "print(s1.name)"
      ],
      "metadata": {
        "id": "a4Yk0COLsiUZ"
      },
      "execution_count": null,
      "outputs": []
    },
    {
      "cell_type": "code",
      "source": [
        "s1.name = \"Random\"\n",
        "print(s1.name)"
      ],
      "metadata": {
        "colab": {
          "base_uri": "https://localhost:8080/"
        },
        "id": "oIi53pzrskAj",
        "outputId": "088a6532-9d89-4dc7-b4f0-9438e79f1ac5"
      },
      "execution_count": null,
      "outputs": [
        {
          "output_type": "stream",
          "name": "stdout",
          "text": [
            "Sharath\n",
            "Random\n"
          ]
        }
      ]
    },
    {
      "cell_type": "code",
      "source": [
        "t1 = Teacher(\"Bipin\", 10, \"Python\")\n",
        "\n",
        "t1.name, t1.salary, t1.subject"
      ],
      "metadata": {
        "id": "PU94G_5msyHb"
      },
      "execution_count": null,
      "outputs": []
    },
    {
      "cell_type": "markdown",
      "source": [
        "---"
      ],
      "metadata": {
        "id": "u6xcUQU6c3iO"
      }
    },
    {
      "cell_type": "markdown",
      "source": [
        "## Need of private properties -"
      ],
      "metadata": {
        "id": "nhP2k0QA2Dad"
      }
    },
    {
      "cell_type": "code",
      "source": [
        "class BankAccount:\n",
        "    def __init__(self, balance):\n",
        "        self.balance = balance\n",
        "\n",
        "    def withdrawl(self, amount):\n",
        "        self.balance -= amount\n",
        "\n",
        "    def deposit(self, amount):\n",
        "        self.balance += amount"
      ],
      "metadata": {
        "id": "ru_j49B5s7JB"
      },
      "execution_count": null,
      "outputs": []
    },
    {
      "cell_type": "code",
      "source": [
        "b1 = BankAccount(10000)"
      ],
      "metadata": {
        "id": "NxW-WShEs81o"
      },
      "execution_count": null,
      "outputs": []
    },
    {
      "cell_type": "code",
      "source": [
        "b1.deposit(5000)\n",
        "b1.balance"
      ],
      "metadata": {
        "id": "QLaHIkCVs-UJ"
      },
      "execution_count": null,
      "outputs": []
    },
    {
      "cell_type": "code",
      "source": [
        "b1.withdrawl(15000)\n",
        "b1.balance"
      ],
      "metadata": {
        "colab": {
          "base_uri": "https://localhost:8080/"
        },
        "id": "8AAbexG-tB0p",
        "outputId": "a0cf4a62-1bcc-43df-faf7-4cf8c8e8747b"
      },
      "execution_count": null,
      "outputs": [
        {
          "output_type": "execute_result",
          "data": {
            "text/plain": [
              "0"
            ]
          },
          "metadata": {},
          "execution_count": 27
        }
      ]
    },
    {
      "cell_type": "code",
      "source": [
        "b1.balance = 23456789854323456789987654345678909876543\n",
        "b1.balance"
      ],
      "metadata": {
        "colab": {
          "base_uri": "https://localhost:8080/"
        },
        "id": "cukLBbo0tD6Q",
        "outputId": "30786136-eabd-44e2-c4dc-e333595a25d6"
      },
      "execution_count": null,
      "outputs": [
        {
          "output_type": "execute_result",
          "data": {
            "text/plain": [
              "23456789854323456789987654345678909876543"
            ]
          },
          "metadata": {},
          "execution_count": 28
        }
      ]
    },
    {
      "cell_type": "markdown",
      "source": [
        "Just like that, any property within the instance can be modified to anything."
      ],
      "metadata": {
        "id": "RoQp394o2IDA"
      }
    },
    {
      "cell_type": "markdown",
      "source": [
        "---"
      ],
      "metadata": {
        "id": "I73TSTRNdm6L"
      }
    },
    {
      "cell_type": "markdown",
      "source": [
        "## Private Properties\n",
        "\n",
        "- will be accessible within the class.\n",
        "- won't be accessible outside the class definition."
      ],
      "metadata": {
        "id": "J_U74QjLtmBE"
      }
    },
    {
      "cell_type": "code",
      "source": [
        "class BankAccount:\n",
        "    def __init__(self, balance):\n",
        "        # initializing private property\n",
        "        self.__balance = balance\n",
        "\n",
        "    # Setter\n",
        "    def withdraw(self, amount):\n",
        "        self.__balance -= amount\n",
        "\n",
        "    def deposit(self, amount):\n",
        "        self.__balance += amount\n",
        "\n",
        "    # Getter\n",
        "    def check_balance(self):\n",
        "        return self.__balance"
      ],
      "metadata": {
        "id": "O9m3QMUhtrH5"
      },
      "execution_count": null,
      "outputs": []
    },
    {
      "cell_type": "code",
      "source": [
        "b1 = BankAccount(10000)\n",
        "\n",
        "# cannot be accessed like this\n",
        "b1.__balance"
      ],
      "metadata": {
        "id": "wJ7jEn-vtsrp"
      },
      "execution_count": null,
      "outputs": []
    },
    {
      "cell_type": "code",
      "source": [
        "b1.deposit(10000)"
      ],
      "metadata": {
        "id": "yFov8yLCwwWb"
      },
      "execution_count": null,
      "outputs": []
    },
    {
      "cell_type": "code",
      "source": [
        "b1.withdraw(5000)"
      ],
      "metadata": {
        "id": "OGta1TZuwu1B"
      },
      "execution_count": null,
      "outputs": []
    },
    {
      "cell_type": "code",
      "source": [
        "b1.check_balance()"
      ],
      "metadata": {
        "colab": {
          "base_uri": "https://localhost:8080/"
        },
        "id": "mOFQvN1Jwx-U",
        "outputId": "0fcb064f-2386-4fc1-a281-ba5e2441c50b"
      },
      "execution_count": null,
      "outputs": [
        {
          "output_type": "execute_result",
          "data": {
            "text/plain": [
              "15000"
            ]
          },
          "metadata": {},
          "execution_count": 6
        }
      ]
    },
    {
      "cell_type": "markdown",
      "source": [
        "#### Nothing can be completely *private* in Python.\n",
        "\n",
        "When we create variables like `__private_var`, Python internally creates it with name of `_ClassName__private_var`.\n",
        "\n",
        "Hence, we can still access it with the above name.\n",
        "\n",
        "<img src=\"https://d2beiqkhq929f0.cloudfront.net/public_assets/assets/000/015/909/original/Screenshot_2022-10-07_at_10.18.54_AM.png?1665118116\">"
      ],
      "metadata": {
        "id": "PEq8n9XxxI2b"
      }
    },
    {
      "cell_type": "code",
      "source": [
        "b1._BankAccount__balance = 159854568765456789876545678765678\n",
        "# Name Mangling"
      ],
      "metadata": {
        "id": "FrTx0lJYxfhu"
      },
      "execution_count": null,
      "outputs": []
    },
    {
      "cell_type": "code",
      "source": [
        "b1.check_balance()"
      ],
      "metadata": {
        "colab": {
          "base_uri": "https://localhost:8080/"
        },
        "id": "SjiYDEFrxhcH",
        "outputId": "da2829e8-9589-44f2-f971-8a60a2e81a93"
      },
      "execution_count": null,
      "outputs": [
        {
          "output_type": "execute_result",
          "data": {
            "text/plain": [
              "159854568765456789876545678765678"
            ]
          },
          "metadata": {},
          "execution_count": 40
        }
      ]
    },
    {
      "cell_type": "code",
      "source": [
        "# checking the properties and methods within any object\n",
        "dir(b1)"
      ],
      "metadata": {
        "colab": {
          "base_uri": "https://localhost:8080/"
        },
        "id": "Wufv9u_9xi9y",
        "outputId": "12bbdce0-4ad6-41d2-8c21-6416de791bee"
      },
      "execution_count": null,
      "outputs": [
        {
          "output_type": "execute_result",
          "data": {
            "text/plain": [
              "['_BankAccount__balance',\n",
              " '__class__',\n",
              " '__delattr__',\n",
              " '__dict__',\n",
              " '__dir__',\n",
              " '__doc__',\n",
              " '__eq__',\n",
              " '__format__',\n",
              " '__ge__',\n",
              " '__getattribute__',\n",
              " '__gt__',\n",
              " '__hash__',\n",
              " '__init__',\n",
              " '__init_subclass__',\n",
              " '__le__',\n",
              " '__lt__',\n",
              " '__module__',\n",
              " '__ne__',\n",
              " '__new__',\n",
              " '__reduce__',\n",
              " '__reduce_ex__',\n",
              " '__repr__',\n",
              " '__setattr__',\n",
              " '__sizeof__',\n",
              " '__str__',\n",
              " '__subclasshook__',\n",
              " '__weakref__',\n",
              " 'check_balance',\n",
              " 'deposit',\n",
              " 'withdraw']"
            ]
          },
          "metadata": {},
          "execution_count": 42
        }
      ]
    },
    {
      "cell_type": "code",
      "source": [
        "b1.__balance = \"random balance\""
      ],
      "metadata": {
        "id": "qrQuYQtQx1k8"
      },
      "execution_count": null,
      "outputs": []
    },
    {
      "cell_type": "code",
      "source": [
        "dir(b1)"
      ],
      "metadata": {
        "colab": {
          "base_uri": "https://localhost:8080/"
        },
        "id": "hjzyqapHx2yh",
        "outputId": "aababd20-8a7e-465b-d149-9ee71111f6ca"
      },
      "execution_count": null,
      "outputs": [
        {
          "output_type": "execute_result",
          "data": {
            "text/plain": [
              "['_BankAccount__balance',\n",
              " '__balance',\n",
              " '__class__',\n",
              " '__delattr__',\n",
              " '__dict__',\n",
              " '__dir__',\n",
              " '__doc__',\n",
              " '__eq__',\n",
              " '__format__',\n",
              " '__ge__',\n",
              " '__getattribute__',\n",
              " '__gt__',\n",
              " '__hash__',\n",
              " '__init__',\n",
              " '__init_subclass__',\n",
              " '__le__',\n",
              " '__lt__',\n",
              " '__module__',\n",
              " '__ne__',\n",
              " '__new__',\n",
              " '__reduce__',\n",
              " '__reduce_ex__',\n",
              " '__repr__',\n",
              " '__setattr__',\n",
              " '__sizeof__',\n",
              " '__str__',\n",
              " '__subclasshook__',\n",
              " '__weakref__',\n",
              " 'check_balance',\n",
              " 'deposit',\n",
              " 'withdraw']"
            ]
          },
          "metadata": {},
          "execution_count": 44
        }
      ]
    },
    {
      "cell_type": "markdown",
      "source": [
        "---"
      ],
      "metadata": {
        "id": "2-gNz3tEsxZ4"
      }
    },
    {
      "cell_type": "markdown",
      "source": [
        "## Multiple Inheritence\n",
        "\n",
        "- Inheriting more than one class."
      ],
      "metadata": {
        "id": "IiOXmVypy2SH"
      }
    },
    {
      "cell_type": "code",
      "source": [
        "class A:\n",
        "    def __init__(self, a):\n",
        "        self.a = a\n",
        "\n",
        "class B:\n",
        "    def __init__(self, b):\n",
        "        self.b = b\n",
        "\n",
        "# C inherits from both A and B\n",
        "class C(A, B):\n",
        "    def __init__(self, a, b, c):\n",
        "        # Assumption 1\n",
        "        # super().__init__(a, b)\n",
        "\n",
        "        # Assumption 2\n",
        "        # super().__init__(a)\n",
        "        # super().__init__(b)\n",
        "\n",
        "        # Assumption 3\n",
        "        A.__init__(self, a)\n",
        "        B.__init__(self, b)\n",
        "        self.c = c"
      ],
      "metadata": {
        "id": "_04il3YSy57u"
      },
      "execution_count": null,
      "outputs": []
    },
    {
      "cell_type": "code",
      "source": [
        "c1 = C(1,2,3)\n",
        "\n",
        "c1.c"
      ],
      "metadata": {
        "id": "zGpp5ERIy_0j"
      },
      "execution_count": null,
      "outputs": []
    },
    {
      "cell_type": "markdown",
      "source": [
        "---"
      ],
      "metadata": {
        "id": "2BaG2Hv-tt38"
      }
    },
    {
      "cell_type": "markdown",
      "source": [
        "## Method Resolution Order\n",
        "\n",
        "<img src=\"https://d2beiqkhq929f0.cloudfront.net/public_assets/assets/000/015/910/original/Screenshot_2022-10-07_at_10.31.02_AM.png?1665118892\">"
      ],
      "metadata": {
        "id": "zbmRTPnVzJlk"
      }
    },
    {
      "cell_type": "code",
      "source": [
        "class A:\n",
        "    x = 10\n",
        "\n",
        "class B(A):\n",
        "    pass\n",
        "\n",
        "class C(B):\n",
        "    pass\n",
        "\n",
        "class D(A):\n",
        "    x = 5\n",
        "\n",
        "class E(C, D):\n",
        "    pass\n",
        "\n",
        "# E -> C -> B -> D -> A"
      ],
      "metadata": {
        "id": "rvluo1ovzLPj"
      },
      "execution_count": null,
      "outputs": []
    },
    {
      "cell_type": "code",
      "source": [
        "e1 = E()\n",
        "e1.x"
      ],
      "metadata": {
        "colab": {
          "base_uri": "https://localhost:8080/"
        },
        "id": "5HG6CtryzMo4",
        "outputId": "b29c4370-30c9-49c4-9e28-8f0ba0e8d72e"
      },
      "execution_count": null,
      "outputs": [
        {
          "output_type": "execute_result",
          "data": {
            "text/plain": [
              "5"
            ]
          },
          "metadata": {},
          "execution_count": 50
        }
      ]
    },
    {
      "cell_type": "code",
      "source": [
        "# It'll give the method resolution order\n",
        "E.__mro__"
      ],
      "metadata": {
        "colab": {
          "base_uri": "https://localhost:8080/"
        },
        "id": "43X647wQzPDT",
        "outputId": "01db4639-00fe-43d1-a460-31461312cc11"
      },
      "execution_count": null,
      "outputs": [
        {
          "output_type": "execute_result",
          "data": {
            "text/plain": [
              "(__main__.E, __main__.C, __main__.B, __main__.D, __main__.A, object)"
            ]
          },
          "metadata": {},
          "execution_count": 51
        }
      ]
    },
    {
      "cell_type": "markdown",
      "source": [
        "---"
      ],
      "metadata": {
        "id": "Dypu3fUmbM50"
      }
    },
    {
      "cell_type": "markdown",
      "source": [],
      "metadata": {
        "id": "eEkKZlFjS4QQ"
      }
    },
    {
      "cell_type": "markdown",
      "source": [
        "\n",
        "\n",
        "# Lec 4: Functional Programming - Basics"
      ],
      "metadata": {
        "id": "rWSKt6sepPVO"
      }
    },
    {
      "cell_type": "markdown",
      "source": [
        "### Content\n",
        "\n",
        "1. Functional Programming\n",
        "2. Lambda Functions\n",
        "3. Higher Order Functions\n",
        "4. Decorators"
      ],
      "metadata": {
        "id": "Aw6n4murx8Wz"
      }
    },
    {
      "cell_type": "markdown",
      "source": [
        "---"
      ],
      "metadata": {
        "id": "iqnNOQ6ssGQ9"
      }
    },
    {
      "cell_type": "markdown",
      "source": [
        "### Introduction\n",
        "\n",
        "Functional programming is a paradigm where computation is viewed as the evaluation of mathematical functions.\n",
        "\n",
        "It stands out for two major reasons:\n",
        "- Immutable Data: It avoids changing state and mutable data.\n",
        "- Declarative Style: Instead of instructing \"how\" to achieve something (like imperative programming), you declare \"what\" you want the program to do.\n",
        "\n",
        "Let's illustrate this:"
      ],
      "metadata": {
        "id": "L2le6iADpbuv"
      }
    },
    {
      "cell_type": "code",
      "source": [
        "# Imperative Approach:\n",
        "\n",
        "numbers = [1, 2, 3, 4]\n",
        "squared_numbers = []\n",
        "for num in numbers:\n",
        "    squared_numbers.append(num*num)"
      ],
      "metadata": {
        "id": "Epa3DxTRa0jf"
      },
      "execution_count": null,
      "outputs": []
    },
    {
      "cell_type": "code",
      "source": [
        "# Functional Approach:\n",
        "\n",
        "numbers = [1, 2, 3, 4]\n",
        "squared_numbers = list(map(lambda x: x*x, numbers))"
      ],
      "metadata": {
        "id": "czydl6PGa9-3"
      },
      "execution_count": null,
      "outputs": []
    },
    {
      "cell_type": "markdown",
      "source": [
        "### Why use functional programming?\n",
        "\n",
        "- **Concise and Readable:** With functional programming, you're often working with familiar mathematical functions. This makes code shorter and intuitive. For instance, the `map`, `filter`, and `reduce` functions in Python are direct implementations of functional programming concepts.\n",
        "\n",
        "- **More Maintainable:** Since there are no side effects from mutable data, tracking errors becomes simpler. Imagine not having to worry about a variable's value being unexpectedly changed elsewhere in your program!\n",
        "\n",
        "- **Efficient:** Without the constant need to update data states, some functional programs can outperform their imperative counterparts."
      ],
      "metadata": {
        "id": "rqwO0IVgbBLV"
      }
    },
    {
      "cell_type": "markdown",
      "source": [
        "---"
      ],
      "metadata": {
        "id": "F-i14XggVZE6"
      }
    },
    {
      "cell_type": "markdown",
      "source": [
        "### Lambda Functions\n",
        "\n",
        "- Also known as Anonymous functions\n",
        "\n",
        "**Syntax:**\n",
        "```\n",
        "function_name = lambda arguments: expression\n",
        "```\n",
        "\n",
        "- `lambda` is the keyword that signifies the creation of a lambda function.\n",
        "- `arguments` are the input parameters of the function.\n",
        "- `expression` is the single expression or operation that the function performs.\n",
        "\n",
        "<img src=\"https://d2beiqkhq929f0.cloudfront.net/public_assets/assets/000/016/029/original/Screenshot_2022-10-10_at_12.27.03_PM.png?1665385010\">"
      ],
      "metadata": {
        "id": "D4n5C7yJrhks"
      }
    },
    {
      "cell_type": "markdown",
      "source": [
        "---"
      ],
      "metadata": {
        "id": "cMP95xNqeaCq"
      }
    },
    {
      "cell_type": "code",
      "source": [
        "def square_number(a):\n",
        "    return a**2"
      ],
      "metadata": {
        "id": "4d2VgTXKqUEO"
      },
      "execution_count": null,
      "outputs": []
    },
    {
      "cell_type": "code",
      "source": [
        "# lambda equivalent of above function\n",
        "\n",
        "square = lambda x: x**2\n",
        "square(4)"
      ],
      "metadata": {
        "colab": {
          "base_uri": "https://localhost:8080/"
        },
        "id": "uw8NplnvqW6x",
        "outputId": "3c48b000-0894-4b49-dced-6f15af2099ea"
      },
      "execution_count": null,
      "outputs": [
        {
          "output_type": "execute_result",
          "data": {
            "text/plain": [
              "16"
            ]
          },
          "metadata": {},
          "execution_count": 38
        }
      ]
    },
    {
      "cell_type": "code",
      "source": [
        "(lambda x: x**3)(2) # cube of a number"
      ],
      "metadata": {
        "colab": {
          "base_uri": "https://localhost:8080/"
        },
        "id": "F3eKE0qAqZAq",
        "outputId": "f5443cd1-219c-44a0-b0e8-f5e1a120d189"
      },
      "execution_count": null,
      "outputs": [
        {
          "output_type": "execute_result",
          "data": {
            "text/plain": [
              "8"
            ]
          },
          "metadata": {},
          "execution_count": 39
        }
      ]
    },
    {
      "cell_type": "code",
      "source": [
        "(lambda x, y: x+y)(4,5) # adding two numbers"
      ],
      "metadata": {
        "colab": {
          "base_uri": "https://localhost:8080/"
        },
        "id": "crWj4H0fqvzf",
        "outputId": "8c9dbd79-5f20-486b-9736-8f60ffd23b7a"
      },
      "execution_count": null,
      "outputs": [
        {
          "output_type": "execute_result",
          "data": {
            "text/plain": [
              "9"
            ]
          },
          "metadata": {},
          "execution_count": 54
        }
      ]
    },
    {
      "cell_type": "markdown",
      "source": [
        "---"
      ],
      "metadata": {
        "id": "qF98-NoQecVB"
      }
    },
    {
      "cell_type": "code",
      "source": [
        "# if condition:\n",
        "#     x\n",
        "# else:\n",
        "#     y\n",
        "\n",
        "# x if condition else y -> Ternary Operator\n",
        "\n",
        "(lambda x: x if x > 5 else 0)(4)"
      ],
      "metadata": {
        "colab": {
          "base_uri": "https://localhost:8080/"
        },
        "id": "owT85aWZqa1j",
        "outputId": "30304e30-385f-44c6-899d-46f14ee84f1d"
      },
      "execution_count": null,
      "outputs": [
        {
          "output_type": "execute_result",
          "data": {
            "text/plain": [
              "0"
            ]
          },
          "metadata": {},
          "execution_count": 40
        }
      ]
    },
    {
      "cell_type": "markdown",
      "source": [
        "---"
      ],
      "metadata": {
        "id": "V64If7MKed6m"
      }
    },
    {
      "cell_type": "code",
      "source": [
        "a = [1,5,7,8,0,2,3,5]\n",
        "a"
      ],
      "metadata": {
        "id": "uJXYogjkqcmU",
        "colab": {
          "base_uri": "https://localhost:8080/"
        },
        "outputId": "8cc7315c-f598-4d11-bcd4-503475e7ae3c"
      },
      "execution_count": null,
      "outputs": [
        {
          "output_type": "execute_result",
          "data": {
            "text/plain": [
              "[1, 5, 7, 8, 0, 2, 3, 5]"
            ]
          },
          "metadata": {},
          "execution_count": 15
        }
      ]
    },
    {
      "cell_type": "code",
      "source": [
        "sorted_a = sorted(a)\n",
        "sorted_a"
      ],
      "metadata": {
        "colab": {
          "base_uri": "https://localhost:8080/"
        },
        "id": "NExTR-jeqftB",
        "outputId": "f68fec84-59b5-4bee-8933-7262cba369fa"
      },
      "execution_count": null,
      "outputs": [
        {
          "output_type": "execute_result",
          "data": {
            "text/plain": [
              "[0, 1, 2, 3, 5, 5, 7, 8]"
            ]
          },
          "metadata": {},
          "execution_count": 16
        }
      ]
    },
    {
      "cell_type": "markdown",
      "source": [
        "---"
      ],
      "metadata": {
        "id": "lRlAptYWehUP"
      }
    },
    {
      "cell_type": "code",
      "source": [
        "get_value = lambda x: x[\"marks\"]"
      ],
      "metadata": {
        "id": "E_fnZtlWqhvO"
      },
      "execution_count": null,
      "outputs": []
    },
    {
      "cell_type": "code",
      "source": [
        "students = [\n",
        "    {\"name\": \"A\", \"marks\": 50},\n",
        "    {\"name\": \"B\", \"marks\": 100},\n",
        "    {\"name\": \"C\", \"marks\": 40},\n",
        "    {\"name\": \"D\", \"marks\": 70},\n",
        "    {\"name\": \"E\", \"marks\": 60},\n",
        "]"
      ],
      "metadata": {
        "id": "B6GMKvr_qjQH"
      },
      "execution_count": null,
      "outputs": []
    },
    {
      "cell_type": "code",
      "source": [
        "students[0] > students[1]"
      ],
      "metadata": {
        "colab": {
          "base_uri": "https://localhost:8080/",
          "height": 179
        },
        "id": "IqK_PTmYqmTr",
        "outputId": "f5a82865-4b8f-4a36-cc2d-1acc50b7ed7f"
      },
      "execution_count": null,
      "outputs": [
        {
          "output_type": "error",
          "ename": "TypeError",
          "evalue": "'>' not supported between instances of 'dict' and 'dict'",
          "traceback": [
            "\u001b[0;31m---------------------------------------------------------------------------\u001b[0m",
            "\u001b[0;31mTypeError\u001b[0m                                 Traceback (most recent call last)",
            "\u001b[0;32m<ipython-input-19-f910ab6ef498>\u001b[0m in \u001b[0;36m<cell line: 1>\u001b[0;34m()\u001b[0m\n\u001b[0;32m----> 1\u001b[0;31m \u001b[0mstudents\u001b[0m\u001b[0;34m[\u001b[0m\u001b[0;36m0\u001b[0m\u001b[0;34m]\u001b[0m \u001b[0;34m>\u001b[0m \u001b[0mstudents\u001b[0m\u001b[0;34m[\u001b[0m\u001b[0;36m1\u001b[0m\u001b[0;34m]\u001b[0m\u001b[0;34m\u001b[0m\u001b[0;34m\u001b[0m\u001b[0m\n\u001b[0m",
            "\u001b[0;31mTypeError\u001b[0m: '>' not supported between instances of 'dict' and 'dict'"
          ]
        }
      ]
    },
    {
      "cell_type": "code",
      "source": [
        "get_value(students[0])"
      ],
      "metadata": {
        "colab": {
          "base_uri": "https://localhost:8080/"
        },
        "id": "Qm6KBRAyqk_0",
        "outputId": "1338f4bd-6597-449c-cf63-fa4115c08a79"
      },
      "execution_count": null,
      "outputs": [
        {
          "output_type": "execute_result",
          "data": {
            "text/plain": [
              "50"
            ]
          },
          "metadata": {},
          "execution_count": 49
        }
      ]
    },
    {
      "cell_type": "code",
      "source": [
        "get_value(students[1])"
      ],
      "metadata": {
        "colab": {
          "base_uri": "https://localhost:8080/"
        },
        "id": "VU8fz9oLqpXQ",
        "outputId": "ec6e285d-c1bc-47af-8006-36f19c88f040"
      },
      "execution_count": null,
      "outputs": [
        {
          "output_type": "execute_result",
          "data": {
            "text/plain": [
              "100"
            ]
          },
          "metadata": {},
          "execution_count": 50
        }
      ]
    },
    {
      "cell_type": "code",
      "source": [
        "get_value(students[0]) > get_value(students[1])"
      ],
      "metadata": {
        "colab": {
          "base_uri": "https://localhost:8080/"
        },
        "id": "uxejFM96qqtt",
        "outputId": "1b64ce3c-2517-46b4-f892-cde67028ca5f"
      },
      "execution_count": null,
      "outputs": [
        {
          "output_type": "execute_result",
          "data": {
            "text/plain": [
              "False"
            ]
          },
          "metadata": {},
          "execution_count": 51
        }
      ]
    },
    {
      "cell_type": "code",
      "source": [
        "sorted(students)"
      ],
      "metadata": {
        "colab": {
          "base_uri": "https://localhost:8080/",
          "height": 187
        },
        "id": "KFbJr-gNqsiI",
        "outputId": "fb696a4a-891c-4d20-f3b0-476e6a4d724f"
      },
      "execution_count": null,
      "outputs": [
        {
          "output_type": "error",
          "ename": "TypeError",
          "evalue": "ignored",
          "traceback": [
            "\u001b[0;31m---------------------------------------------------------------------------\u001b[0m",
            "\u001b[0;31mTypeError\u001b[0m                                 Traceback (most recent call last)",
            "\u001b[0;32m<ipython-input-52-7486671c4cb7>\u001b[0m in \u001b[0;36m<module>\u001b[0;34m\u001b[0m\n\u001b[0;32m----> 1\u001b[0;31m \u001b[0msorted\u001b[0m\u001b[0;34m(\u001b[0m\u001b[0mstudents\u001b[0m\u001b[0;34m)\u001b[0m\u001b[0;34m\u001b[0m\u001b[0;34m\u001b[0m\u001b[0m\n\u001b[0m\u001b[1;32m      2\u001b[0m \u001b[0;31m# cannot compare between dictionaries by default\u001b[0m\u001b[0;34m\u001b[0m\u001b[0;34m\u001b[0m\u001b[0;34m\u001b[0m\u001b[0m\n",
            "\u001b[0;31mTypeError\u001b[0m: '<' not supported between instances of 'dict' and 'dict'"
          ]
        }
      ]
    },
    {
      "cell_type": "markdown",
      "source": [
        "#### The `sorted()` function takes an extra argrument known as `key`, which takes a function to judge how to compare for sorting."
      ],
      "metadata": {
        "id": "xsdvvARvtQXq"
      }
    },
    {
      "cell_type": "code",
      "source": [
        "sorted(students, key = lambda x: x[\"name\"], reverse=True)"
      ],
      "metadata": {
        "colab": {
          "base_uri": "https://localhost:8080/"
        },
        "id": "N4cD-DSTquac",
        "outputId": "b73aa85a-7eb1-4901-c04e-3e7a012ea823"
      },
      "execution_count": null,
      "outputs": [
        {
          "output_type": "execute_result",
          "data": {
            "text/plain": [
              "[{'name': 'E', 'marks': 60},\n",
              " {'name': 'D', 'marks': 70},\n",
              " {'name': 'C', 'marks': 40},\n",
              " {'name': 'B', 'marks': 100},\n",
              " {'name': 'A', 'marks': 50}]"
            ]
          },
          "metadata": {},
          "execution_count": 53
        }
      ]
    },
    {
      "cell_type": "markdown",
      "source": [
        "---"
      ],
      "metadata": {
        "id": "Ymh3TfgNY2SB"
      }
    },
    {
      "cell_type": "markdown",
      "source": [
        "### Higher Order Function\n",
        "\n",
        "- A function that returns another function\n",
        "\n",
        "<img src=\"https://d2beiqkhq929f0.cloudfront.net/public_assets/assets/000/016/031/original/Screenshot_2022-10-10_at_12.41.52_PM.png?1665385895\">\n",
        "\n",
        "<img src=\"https://d2beiqkhq929f0.cloudfront.net/public_assets/assets/000/016/032/original/Screenshot_2022-10-10_at_12.41.59_PM.png?1665385919\">"
      ],
      "metadata": {
        "id": "yFTEacTdr77K"
      }
    },
    {
      "cell_type": "code",
      "source": [
        "def gen_exp(n):\n",
        "    def exp(x):\n",
        "        return x**n\n",
        "\n",
        "    return exp"
      ],
      "metadata": {
        "id": "67KJHLmbr68a"
      },
      "execution_count": null,
      "outputs": []
    },
    {
      "cell_type": "code",
      "source": [
        "exp_5 = gen_exp(5)\n",
        "\n",
        "'''\n",
        "def exp(x):\n",
        "    return x**5\n",
        "'''"
      ],
      "metadata": {
        "colab": {
          "base_uri": "https://localhost:8080/",
          "height": 35
        },
        "id": "PDmpfD89sExE",
        "outputId": "15157115-d184-45b3-eb52-118587519831"
      },
      "execution_count": null,
      "outputs": [
        {
          "output_type": "execute_result",
          "data": {
            "text/plain": [
              "'\\ndef exp(x):\\n    return x**5\\n'"
            ],
            "application/vnd.google.colaboratory.intrinsic+json": {
              "type": "string"
            }
          },
          "metadata": {},
          "execution_count": 21
        }
      ]
    },
    {
      "cell_type": "code",
      "source": [
        "type(exp_5)"
      ],
      "metadata": {
        "colab": {
          "base_uri": "https://localhost:8080/"
        },
        "id": "uyFnuvDrsGgg",
        "outputId": "318a2f2f-e951-48b8-ebea-c02189598778"
      },
      "execution_count": null,
      "outputs": [
        {
          "output_type": "execute_result",
          "data": {
            "text/plain": [
              "function"
            ]
          },
          "metadata": {},
          "execution_count": 22
        }
      ]
    },
    {
      "cell_type": "code",
      "source": [
        "exp_5(2)"
      ],
      "metadata": {
        "colab": {
          "base_uri": "https://localhost:8080/"
        },
        "id": "WDIk7z_9sIT5",
        "outputId": "ec4c5d7a-5f6c-41be-bdf0-37b4dfd7a7ba"
      },
      "execution_count": null,
      "outputs": [
        {
          "output_type": "execute_result",
          "data": {
            "text/plain": [
              "32"
            ]
          },
          "metadata": {},
          "execution_count": 23
        }
      ]
    },
    {
      "cell_type": "markdown",
      "source": [
        "---"
      ],
      "metadata": {
        "id": "lpMrsGiEZTW8"
      }
    },
    {
      "cell_type": "markdown",
      "source": [
        "### Decorators\n",
        "\n",
        "- These are higher order functions that take another function as input and add the extra behaviour in along with the functionality of the passed function."
      ],
      "metadata": {
        "id": "1y7-GzEusKGd"
      }
    },
    {
      "cell_type": "code",
      "source": [
        "def foo():\n",
        "    print(\"Hello everyone! How are you doing?\")\n",
        "\n",
        "foo()"
      ],
      "metadata": {
        "id": "tDD8fbS5sP1I",
        "colab": {
          "base_uri": "https://localhost:8080/"
        },
        "outputId": "fc8ca4dd-a20b-4d19-c2b9-376eee4aabbf"
      },
      "execution_count": null,
      "outputs": [
        {
          "output_type": "stream",
          "name": "stdout",
          "text": [
            "Hello everyone! How are you doing?\n"
          ]
        }
      ]
    },
    {
      "cell_type": "code",
      "source": [
        "def poo():\n",
        "    print(\"-\"*50) # code that runs before\n",
        "    print(\"Hello everyone! How are you doing?\")\n",
        "    print(\"-\"*50) # code that runs after\n",
        "\n",
        "poo()"
      ],
      "metadata": {
        "id": "rvefmbZWsk2x",
        "colab": {
          "base_uri": "https://localhost:8080/"
        },
        "outputId": "02bd49e0-e267-4522-f57d-5bcbefd802e9"
      },
      "execution_count": null,
      "outputs": [
        {
          "output_type": "stream",
          "name": "stdout",
          "text": [
            "--------------------------------------------------\n",
            "Hello everyone! How are you doing?\n",
            "--------------------------------------------------\n"
          ]
        }
      ]
    },
    {
      "cell_type": "code",
      "source": [
        "# A decorator accepts a function as an argument and returns a decorated function.\n",
        "\n",
        "def pretty(func):\n",
        "    def inner():\n",
        "        print(\"-\"*50)\n",
        "        func()\n",
        "        print(\"-\"*50)\n",
        "\n",
        "    return inner"
      ],
      "metadata": {
        "id": "cnJHcIMDssZz"
      },
      "execution_count": null,
      "outputs": []
    },
    {
      "cell_type": "code",
      "source": [
        "new_foo = pretty(foo)\n",
        "\n",
        "new_foo()"
      ],
      "metadata": {
        "id": "HOwXI9Jpsvxf",
        "colab": {
          "base_uri": "https://localhost:8080/"
        },
        "outputId": "3d13b2b1-2aa9-4f1e-d812-09655ca0e687"
      },
      "execution_count": null,
      "outputs": [
        {
          "output_type": "stream",
          "name": "stdout",
          "text": [
            "--------------------------------------------------\n",
            "Hello everyone! How are you doing?\n",
            "--------------------------------------------------\n"
          ]
        }
      ]
    },
    {
      "cell_type": "code",
      "source": [
        "# The '@' symbol is used to apply decorator to a function.\n",
        "\n",
        "@pretty\n",
        "def soo():\n",
        "    print(\"This is amazing!!!\")\n",
        "\n",
        "soo()"
      ],
      "metadata": {
        "id": "eY8LGNiysyhv",
        "colab": {
          "base_uri": "https://localhost:8080/"
        },
        "outputId": "7517a4b6-689c-4b7a-d873-ed47a9f71adb"
      },
      "execution_count": null,
      "outputs": [
        {
          "output_type": "stream",
          "name": "stdout",
          "text": [
            "--------------------------------------------------\n",
            "This is amazing!!!\n",
            "--------------------------------------------------\n"
          ]
        }
      ]
    },
    {
      "cell_type": "markdown",
      "source": [
        "# Lec 5: Functional Programming 2 - Map, Filter, Reduce"
      ],
      "metadata": {
        "id": "z0ezwbP2e0HE"
      }
    },
    {
      "cell_type": "markdown",
      "source": [
        "## Content\n",
        "\n",
        "1. Principles of Functional Programming\n",
        "2. Map\n",
        "3. Filter\n",
        "4. Zip\n",
        "5. Reduce\n",
        "6. Args and Kwargs"
      ],
      "metadata": {
        "id": "Tny3l-yvfBbs"
      }
    },
    {
      "cell_type": "markdown",
      "source": [
        "---"
      ],
      "metadata": {
        "id": "7usKxjeMsEjb"
      }
    },
    {
      "cell_type": "markdown",
      "source": [
        "## Principles of Functional Programming\n",
        "\n",
        "<img src=\"https://d2beiqkhq929f0.cloudfront.net/public_assets/assets/000/016/063/original/Screenshot_2022-10-11_at_10.56.52_AM.png?1665466330\">"
      ],
      "metadata": {
        "id": "lRViv1B9hG45"
      }
    },
    {
      "cell_type": "markdown",
      "source": [
        "Whenever we perform some mutations to an object, we lose the content that was previously stored in that object."
      ],
      "metadata": {
        "id": "2W4kHexohPZM"
      }
    },
    {
      "cell_type": "code",
      "execution_count": null,
      "metadata": {
        "id": "0178fa95"
      },
      "outputs": [],
      "source": [
        "x = 5 # Initial Data\n",
        "\n",
        "# Hidden Mutations\n",
        "x = 3*x\n",
        "x += 1\n",
        "\n",
        "# Problem - Can't rollback mutations"
      ]
    },
    {
      "cell_type": "code",
      "execution_count": null,
      "metadata": {
        "id": "d0e9969b",
        "outputId": "38fde214-6040-4385-82a7-182130b877e5",
        "colab": {
          "base_uri": "https://localhost:8080/"
        }
      },
      "outputs": [
        {
          "output_type": "execute_result",
          "data": {
            "text/plain": [
              "16"
            ]
          },
          "metadata": {},
          "execution_count": 2
        }
      ],
      "source": [
        "x"
      ]
    },
    {
      "cell_type": "markdown",
      "source": [
        "One way is to create new object everytime we perform some mutation and store the result in that new object.\n",
        "\n",
        "But it'll consume too much memory."
      ],
      "metadata": {
        "id": "WA9t0aBohX-q"
      }
    },
    {
      "cell_type": "code",
      "execution_count": null,
      "metadata": {
        "id": "53383e33"
      },
      "outputs": [],
      "source": [
        "x = 5\n",
        "\n",
        "x1 = 2*x\n",
        "x2 = x1 + 1\n",
        "\n",
        "# Problem - Too many variables"
      ]
    },
    {
      "cell_type": "markdown",
      "source": [
        "Another valid approach would be to separate out the data and mutation operations."
      ],
      "metadata": {
        "id": "cuaEs42Sh4HM"
      }
    },
    {
      "cell_type": "code",
      "execution_count": null,
      "metadata": {
        "id": "77c5fdbf"
      },
      "outputs": [],
      "source": [
        "x = 5\n",
        "\n",
        "def mutation_1(x):\n",
        "    x = 2*x\n",
        "    x += 1\n",
        "\n",
        "    return x\n",
        "\n",
        "x1 = mutation_1(x)"
      ]
    },
    {
      "cell_type": "code",
      "source": [
        "x"
      ],
      "metadata": {
        "colab": {
          "base_uri": "https://localhost:8080/"
        },
        "id": "Os32LJOFS5q4",
        "outputId": "b4872195-7550-44f6-8076-032490cb1791"
      },
      "execution_count": null,
      "outputs": [
        {
          "output_type": "execute_result",
          "data": {
            "text/plain": [
              "5"
            ]
          },
          "metadata": {},
          "execution_count": 3
        }
      ]
    },
    {
      "cell_type": "markdown",
      "source": [
        "---"
      ],
      "metadata": {
        "id": "kOIcUB8HGQUR"
      }
    },
    {
      "cell_type": "markdown",
      "metadata": {
        "id": "486e321b"
      },
      "source": [
        "## Map\n",
        "\n",
        "The `map()` function can take multiple iterables and return a map object that can be converted to other iterables.\n",
        "\n",
        "```python\n",
        "map(function_to_perform, *iterables)\n",
        "```"
      ]
    },
    {
      "cell_type": "markdown",
      "source": [
        "#### Given a list, create another list which contains the square of the elements of given list."
      ],
      "metadata": {
        "id": "mPWc_dPiP9qr"
      }
    },
    {
      "cell_type": "code",
      "execution_count": null,
      "metadata": {
        "id": "7623e8a9"
      },
      "outputs": [],
      "source": [
        "a = [1,2,3,4,5]"
      ]
    },
    {
      "cell_type": "code",
      "execution_count": null,
      "metadata": {
        "id": "cef90e48",
        "colab": {
          "base_uri": "https://localhost:8080/"
        },
        "outputId": "745f7c19-2676-4b7e-8e9e-bffd4dff41e9"
      },
      "outputs": [
        {
          "output_type": "execute_result",
          "data": {
            "text/plain": [
              "[1, 4, 9, 16, 25]"
            ]
          },
          "metadata": {},
          "execution_count": 10
        }
      ],
      "source": [
        "# Using list comprehension\n",
        "\n",
        "res1 = [ i**2 for i in a ]\n",
        "res1"
      ]
    },
    {
      "cell_type": "code",
      "execution_count": null,
      "metadata": {
        "id": "65af2939",
        "colab": {
          "base_uri": "https://localhost:8080/"
        },
        "outputId": "7e2d8ea6-2530-4cb4-c199-30e7fa37c3f8"
      },
      "outputs": [
        {
          "output_type": "execute_result",
          "data": {
            "text/plain": [
              "[1, 4, 9, 16, 25]"
            ]
          },
          "metadata": {},
          "execution_count": 11
        }
      ],
      "source": [
        "# Using map() function\n",
        "\n",
        "m = map(lambda x: x**2, a)\n",
        "m_list = list(m)\n",
        "m_list"
      ]
    },
    {
      "cell_type": "code",
      "execution_count": null,
      "metadata": {
        "id": "67660ec5",
        "colab": {
          "base_uri": "https://localhost:8080/"
        },
        "outputId": "a16ba660-a97c-470b-accd-3adc2188e087"
      },
      "outputs": [
        {
          "output_type": "execute_result",
          "data": {
            "text/plain": [
              "[1, 4, 9, 16, 25]"
            ]
          },
          "metadata": {},
          "execution_count": 12
        }
      ],
      "source": [
        "m_direct = list(map(lambda x: x**2, a))\n",
        "m_direct"
      ]
    },
    {
      "cell_type": "markdown",
      "source": [
        "#### Convert the given heights from a list into to t-shirt sizes.\n",
        "\n",
        "* h < 150 $\\rightarrow$ S\n",
        "* h >= 150 and h < 180 $\\rightarrow$ M\n",
        "* h >= 180 $\\rightarrow$ L"
      ],
      "metadata": {
        "id": "4aLR4Bl_jmTW"
      }
    },
    {
      "cell_type": "code",
      "execution_count": null,
      "metadata": {
        "id": "b8e39004"
      },
      "outputs": [],
      "source": [
        "heights = [144, 167, 189, 170, 190, 150, 165, 178, 200, 130]"
      ]
    },
    {
      "cell_type": "code",
      "execution_count": null,
      "metadata": {
        "id": "60993ca7"
      },
      "outputs": [],
      "source": [
        "def complex_logic(height):\n",
        "    if height < 150:\n",
        "        return \"S\"\n",
        "    elif height >= 150 and height < 180:\n",
        "        return \"M\"\n",
        "    elif height > 180:\n",
        "        return \"L\""
      ]
    },
    {
      "cell_type": "code",
      "execution_count": null,
      "metadata": {
        "id": "2bee8228",
        "colab": {
          "base_uri": "https://localhost:8080/"
        },
        "outputId": "4bc3f1e2-945e-436d-9287-af0ebbcbd657"
      },
      "outputs": [
        {
          "output_type": "execute_result",
          "data": {
            "text/plain": [
              "['S', 'M', 'L', 'M', 'L', 'M', 'M', 'M', 'L', 'S']"
            ]
          },
          "metadata": {},
          "execution_count": 19
        }
      ],
      "source": [
        "sizes = list(map(complex_logic, heights))\n",
        "sizes"
      ]
    },
    {
      "cell_type": "code",
      "execution_count": null,
      "metadata": {
        "id": "e7c5532f",
        "colab": {
          "base_uri": "https://localhost:8080/"
        },
        "outputId": "165be464-e6e1-4b6b-98c2-1b29cd1e7a01"
      },
      "outputs": [
        {
          "output_type": "execute_result",
          "data": {
            "text/plain": [
              "['S', 'M', 'L', 'M', 'L', 'M', 'M', 'M', 'L', 'S']"
            ]
          },
          "metadata": {},
          "execution_count": 20
        }
      ],
      "source": [
        "sizes_2 = list(map(lambda x: \"S\" if x < 150 else \"M\" if x >= 150 and x < 180 else \"L\", heights))\n",
        "sizes_2"
      ]
    },
    {
      "cell_type": "markdown",
      "source": [
        "#### Given two lists A and B having 1s and 0s, find another list with element at index `i` as `True` if `A[i] == B[i]` else False."
      ],
      "metadata": {
        "id": "HcXyXrAcj8iC"
      }
    },
    {
      "cell_type": "code",
      "execution_count": null,
      "metadata": {
        "id": "41104fe3"
      },
      "outputs": [],
      "source": [
        "A = [1,0,0,1,1,1,0,0,0,1,0,1]\n",
        "B = [0,0,1,1,0,1,1,1,0,0,0,0]\n",
        "\n",
        "# C = [True, True, False, ...]\n",
        "# If both A and B have same element, then C=True; else C=False."
      ]
    },
    {
      "cell_type": "code",
      "execution_count": null,
      "metadata": {
        "id": "38097de3",
        "colab": {
          "base_uri": "https://localhost:8080/"
        },
        "outputId": "39c5631c-be2b-405c-e5d6-29799440cedf"
      },
      "outputs": [
        {
          "output_type": "execute_result",
          "data": {
            "text/plain": [
              "[False, True, False, True, False, True, False, False, True, False, True, False]"
            ]
          },
          "metadata": {},
          "execution_count": 22
        }
      ],
      "source": [
        "C = list(map(lambda x, y: x==y, A, B))\n",
        "C"
      ]
    },
    {
      "cell_type": "markdown",
      "source": [
        "---"
      ],
      "metadata": {
        "id": "7YRMxgbLGL5z"
      }
    },
    {
      "cell_type": "markdown",
      "metadata": {
        "id": "83162e46"
      },
      "source": [
        "## Filter\n",
        "\n",
        "<img src=\"https://d2beiqkhq929f0.cloudfront.net/public_assets/assets/000/016/064/original/Screenshot_2022-10-11_at_11.14.51_AM.png?1665467068\">"
      ]
    },
    {
      "cell_type": "code",
      "execution_count": null,
      "metadata": {
        "id": "f6b27092",
        "outputId": "c2f5c740-fd32-48f9-932f-b6cbdb1c4683",
        "colab": {
          "base_uri": "https://localhost:8080/"
        }
      },
      "outputs": [
        {
          "output_type": "stream",
          "name": "stdout",
          "text": [
            "[1, 2, 3, 4, 5, 6, 7, 8, 9, 10]\n"
          ]
        }
      ],
      "source": [
        "a = list(range(1,11))\n",
        "\n",
        "print(a)"
      ]
    },
    {
      "cell_type": "code",
      "execution_count": null,
      "metadata": {
        "id": "9c19d8dd"
      },
      "outputs": [],
      "source": [
        "f = filter(lambda x: x%2 == 0, a)"
      ]
    },
    {
      "cell_type": "code",
      "execution_count": null,
      "metadata": {
        "id": "24fcea7f",
        "colab": {
          "base_uri": "https://localhost:8080/"
        },
        "outputId": "6b8a35e3-80f9-422f-b159-67a2fb1fe2f8"
      },
      "outputs": [
        {
          "output_type": "execute_result",
          "data": {
            "text/plain": [
              "[2, 4, 6, 8, 10]"
            ]
          },
          "metadata": {},
          "execution_count": 25
        }
      ],
      "source": [
        "f_list = list(f)\n",
        "\n",
        "f_list"
      ]
    },
    {
      "cell_type": "markdown",
      "source": [
        "---"
      ],
      "metadata": {
        "id": "g8k_q7JuGHpG"
      }
    },
    {
      "cell_type": "markdown",
      "metadata": {
        "id": "9c32123f"
      },
      "source": [
        "## Zip"
      ]
    },
    {
      "cell_type": "code",
      "execution_count": null,
      "metadata": {
        "id": "18fc3d39"
      },
      "outputs": [],
      "source": [
        "a = [1,2,3]\n",
        "b = [\"a\", \"b\", \"c\", \"d\", \"e\"]"
      ]
    },
    {
      "cell_type": "code",
      "execution_count": null,
      "metadata": {
        "id": "5a096cbe",
        "colab": {
          "base_uri": "https://localhost:8080/"
        },
        "outputId": "4bc27874-9efd-4116-ac38-91971b733898"
      },
      "outputs": [
        {
          "output_type": "execute_result",
          "data": {
            "text/plain": [
              "[('a', 1), ('b', 2), ('c', 3)]"
            ]
          },
          "metadata": {},
          "execution_count": 27
        }
      ],
      "source": [
        "result = list(zip(b,a))\n",
        "result"
      ]
    },
    {
      "cell_type": "code",
      "source": [
        "a = [1,2,3]\n",
        "b = [\"a\", \"b\", \"c\", \"d\", \"e\"]\n",
        "c = [\"x\", \"y\", \"z\", \"m\", \"n\"]"
      ],
      "metadata": {
        "id": "I-DpznCClj72"
      },
      "execution_count": null,
      "outputs": []
    },
    {
      "cell_type": "code",
      "source": [
        "result = list(zip(c, b,a))\n",
        "result"
      ],
      "metadata": {
        "id": "fb5CZ0mRllri",
        "colab": {
          "base_uri": "https://localhost:8080/"
        },
        "outputId": "92e5cb85-250c-48a7-9fad-565e6f762111"
      },
      "execution_count": null,
      "outputs": [
        {
          "output_type": "execute_result",
          "data": {
            "text/plain": [
              "[('x', 'a', 1), ('y', 'b', 2), ('z', 'c', 3)]"
            ]
          },
          "metadata": {},
          "execution_count": 29
        }
      ]
    },
    {
      "cell_type": "markdown",
      "source": [
        "---"
      ],
      "metadata": {
        "id": "fhV1Da_xGBtR"
      }
    },
    {
      "cell_type": "markdown",
      "metadata": {
        "id": "0590fa0f"
      },
      "source": [
        "## Reduce\n",
        "\n",
        "<img src=\"https://d2beiqkhq929f0.cloudfront.net/public_assets/assets/000/016/065/original/Screenshot_2022-10-11_at_11.16.30_AM.png?1665467168\">\n",
        "\n",
        "<img src=\"https://d2beiqkhq929f0.cloudfront.net/public_assets/assets/000/016/066/original/Screenshot_2022-10-11_at_11.16.52_AM.png?1665467200\">"
      ]
    },
    {
      "cell_type": "code",
      "execution_count": null,
      "metadata": {
        "id": "dd011eeb"
      },
      "outputs": [],
      "source": [
        "# This lines brings the reduce function into current code -\n",
        "\n",
        "from functools import reduce"
      ]
    },
    {
      "cell_type": "code",
      "execution_count": null,
      "metadata": {
        "id": "b630bf05"
      },
      "outputs": [],
      "source": [
        "a = [1,2,3,4,5]"
      ]
    },
    {
      "cell_type": "code",
      "execution_count": null,
      "metadata": {
        "id": "877db7d0",
        "colab": {
          "base_uri": "https://localhost:8080/"
        },
        "outputId": "a54986c5-56cd-470f-c647-c1749114141a"
      },
      "outputs": [
        {
          "output_type": "execute_result",
          "data": {
            "text/plain": [
              "15"
            ]
          },
          "metadata": {},
          "execution_count": 32
        }
      ],
      "source": [
        "result = reduce(lambda x, y: x + y, a)\n",
        "result"
      ]
    },
    {
      "cell_type": "code",
      "execution_count": null,
      "metadata": {
        "id": "7f1c1d3a"
      },
      "outputs": [],
      "source": [
        "a = list(range(1,11))\n",
        "b = list(reversed(a))"
      ]
    },
    {
      "cell_type": "code",
      "execution_count": null,
      "metadata": {
        "id": "443d5df3",
        "outputId": "cde1b2f5-ca49-4fff-899e-646a0a68b7f4",
        "colab": {
          "base_uri": "https://localhost:8080/"
        }
      },
      "outputs": [
        {
          "output_type": "execute_result",
          "data": {
            "text/plain": [
              "[1, 2, 3, 4, 5, 6, 7, 8, 9, 10]"
            ]
          },
          "metadata": {},
          "execution_count": 34
        }
      ],
      "source": [
        "a"
      ]
    },
    {
      "cell_type": "code",
      "execution_count": null,
      "metadata": {
        "id": "9a88d0f5",
        "outputId": "5e01eb08-5ac8-4288-8433-4f65e11462f7",
        "colab": {
          "base_uri": "https://localhost:8080/"
        }
      },
      "outputs": [
        {
          "output_type": "execute_result",
          "data": {
            "text/plain": [
              "[10, 9, 8, 7, 6, 5, 4, 3, 2, 1]"
            ]
          },
          "metadata": {},
          "execution_count": 35
        }
      ],
      "source": [
        "b"
      ]
    },
    {
      "cell_type": "code",
      "execution_count": null,
      "metadata": {
        "id": "708b739f",
        "outputId": "97811d42-02ab-4429-f2d0-eac131a69c3a",
        "colab": {
          "base_uri": "https://localhost:8080/"
        }
      },
      "outputs": [
        {
          "output_type": "stream",
          "name": "stdout",
          "text": [
            "True\n"
          ]
        }
      ],
      "source": [
        "print(reduce(lambda x,y: x*y, a) == reduce(lambda x,y: x*y, b))"
      ]
    },
    {
      "cell_type": "markdown",
      "source": [
        "#### Gives the element with maximum value from a given list of elements."
      ],
      "metadata": {
        "id": "B-hrCFTGepTU"
      }
    },
    {
      "cell_type": "code",
      "execution_count": null,
      "metadata": {
        "id": "dccca93a",
        "colab": {
          "base_uri": "https://localhost:8080/"
        },
        "outputId": "2fd49bfb-129e-44a1-9519-0ba1559276b4"
      },
      "outputs": [
        {
          "output_type": "execute_result",
          "data": {
            "text/plain": [
              "10"
            ]
          },
          "metadata": {},
          "execution_count": 5
        }
      ],
      "source": [
        "max_element = reduce(lambda x, y: x if x>y else y, a)\n",
        "max_element"
      ]
    },
    {
      "cell_type": "markdown",
      "source": [
        "#### Perform cumulative summation on the given list starting from an initial value 100."
      ],
      "metadata": {
        "id": "OmzEOrIieiMM"
      }
    },
    {
      "cell_type": "code",
      "execution_count": null,
      "metadata": {
        "id": "5d0a89b6",
        "outputId": "6a736f4c-ec19-48d7-c171-a0abca010ce4",
        "colab": {
          "base_uri": "https://localhost:8080/"
        }
      },
      "outputs": [
        {
          "output_type": "execute_result",
          "data": {
            "text/plain": [
              "155"
            ]
          },
          "metadata": {},
          "execution_count": 6
        }
      ],
      "source": [
        "a = list(range(1,11))\n",
        "\n",
        "reduce(lambda x, y: x + y, a, 100)"
      ]
    },
    {
      "cell_type": "markdown",
      "source": [
        "---"
      ],
      "metadata": {
        "id": "JqQq5BOhFvqk"
      }
    },
    {
      "cell_type": "markdown",
      "metadata": {
        "id": "4eca1676"
      },
      "source": [
        "## Args and Kwargs"
      ]
    },
    {
      "cell_type": "markdown",
      "source": [
        "#### Create a function that gives you the sum the input provided.\n",
        "\n",
        "A good summation function -\n",
        "- should take at least - 2 arguments\n",
        "- should take at max - infinite arguments"
      ],
      "metadata": {
        "id": "q-Nhf5hPptv5"
      }
    },
    {
      "cell_type": "code",
      "execution_count": null,
      "metadata": {
        "id": "2195604c"
      },
      "outputs": [],
      "source": [
        "def summation(x, y):\n",
        "    return x + y"
      ]
    },
    {
      "cell_type": "code",
      "execution_count": null,
      "metadata": {
        "id": "932e6e5e"
      },
      "outputs": [],
      "source": [
        "res = summation(6,7)\n",
        "res"
      ]
    },
    {
      "cell_type": "markdown",
      "source": [
        "> args are stored inside a `tuple`. </br>\n",
        "> kwargs are stored inside `dictionary` and these are keyword arguments."
      ],
      "metadata": {
        "id": "obz75f4qrdSI"
      }
    },
    {
      "cell_type": "code",
      "execution_count": null,
      "metadata": {
        "id": "c7da363b"
      },
      "outputs": [],
      "source": [
        "def summation(x, y, *args):\n",
        "    result = x + y\n",
        "    if args:\n",
        "        result += sum(args)\n",
        "\n",
        "    return result"
      ]
    },
    {
      "cell_type": "code",
      "execution_count": null,
      "metadata": {
        "id": "4a10d813",
        "outputId": "e9be23a9-7af8-4939-d21d-af450fe14bf9",
        "colab": {
          "base_uri": "https://localhost:8080/"
        }
      },
      "outputs": [
        {
          "output_type": "execute_result",
          "data": {
            "text/plain": [
              "126"
            ]
          },
          "metadata": {},
          "execution_count": 37
        }
      ],
      "source": [
        "summation(5,6,7,8,9,10,11,12,13,14,15,16)"
      ]
    },
    {
      "cell_type": "code",
      "execution_count": null,
      "metadata": {
        "id": "5305f8bd"
      },
      "outputs": [],
      "source": [
        "def create_person(name, age, gender):\n",
        "    Person = {\n",
        "        \"name\": name,\n",
        "        \"age\": age,\n",
        "        \"gender\": gender\n",
        "    }\n",
        "\n",
        "    return Person"
      ]
    },
    {
      "cell_type": "code",
      "execution_count": null,
      "metadata": {
        "id": "2df75967",
        "colab": {
          "base_uri": "https://localhost:8080/"
        },
        "outputId": "257c6331-f24e-4359-9523-e38731a9bfad"
      },
      "outputs": [
        {
          "output_type": "execute_result",
          "data": {
            "text/plain": [
              "{'name': 'Rohit', 'age': 1500, 'gender': 'Male'}"
            ]
          },
          "metadata": {},
          "execution_count": 43
        }
      ],
      "source": [
        "create_person(name = \"Rohit\", age = 1500, gender = \"Male\")"
      ]
    },
    {
      "cell_type": "code",
      "execution_count": null,
      "metadata": {
        "id": "536f1de3"
      },
      "outputs": [],
      "source": [
        "def create_person(name, age, gender, **extra_info):\n",
        "    Person = {\n",
        "        \"name\": name,\n",
        "        \"age\": age,\n",
        "        \"gender\": gender\n",
        "    }\n",
        "\n",
        "    if extra_info:\n",
        "        Person.update(extra_info)\n",
        "\n",
        "    return Person"
      ]
    },
    {
      "cell_type": "code",
      "execution_count": null,
      "metadata": {
        "id": "ef3c984e",
        "outputId": "d63294da-f903-4307-be8e-f76457fd6b5e",
        "colab": {
          "base_uri": "https://localhost:8080/"
        }
      },
      "outputs": [
        {
          "output_type": "execute_result",
          "data": {
            "text/plain": [
              "{'name': 'Rohit',\n",
              " 'age': 1500,\n",
              " 'gender': 'Male',\n",
              " 'color': 'blue',\n",
              " 'hobby': 'chess'}"
            ]
          },
          "metadata": {},
          "execution_count": 45
        }
      ],
      "source": [
        "create_person(name = \"Rohit\", age = 1500, gender = \"Male\", color = \"blue\", hobby = \"chess\")"
      ]
    },
    {
      "cell_type": "code",
      "execution_count": null,
      "metadata": {
        "id": "40dbc5e2"
      },
      "outputs": [],
      "source": [
        "def random(x, y, *args, **kwargs):\n",
        "    print(x)\n",
        "    print(args)\n",
        "    print(kwargs)"
      ]
    },
    {
      "cell_type": "code",
      "execution_count": null,
      "metadata": {
        "id": "1718a7e7",
        "outputId": "eaefa5f7-bdbb-4d2b-d6e9-3edc7c11cd0f",
        "colab": {
          "base_uri": "https://localhost:8080/",
          "height": 141
        }
      },
      "outputs": [
        {
          "output_type": "error",
          "ename": "SyntaxError",
          "evalue": "ignored",
          "traceback": [
            "\u001b[0;36m  File \u001b[0;32m\"<ipython-input-4-b223e418580d>\"\u001b[0;36m, line \u001b[0;32m1\u001b[0m\n\u001b[0;31m    random(1,2,4,5,6,m=1,n=2,o=3,8,9,0)\u001b[0m\n\u001b[0m                                      ^\u001b[0m\n\u001b[0;31mSyntaxError\u001b[0m\u001b[0;31m:\u001b[0m positional argument follows keyword argument\n"
          ]
        }
      ],
      "source": [
        "random(1,2,4,5,6,m=1,n=2,o=3,8,9,0)"
      ]
    },
    {
      "cell_type": "markdown",
      "source": [
        "#### Order of passing arguments -\n",
        "\n",
        "Positional -> Args -> Keyworded -> Kwargs"
      ],
      "metadata": {
        "id": "26Ir96DMsP6R"
      }
    },
    {
      "cell_type": "code",
      "execution_count": null,
      "metadata": {
        "id": "f3a33c7d",
        "outputId": "fa175b40-60ae-4afb-cdb7-03772220e219",
        "colab": {
          "base_uri": "https://localhost:8080/"
        }
      },
      "outputs": [
        {
          "output_type": "stream",
          "name": "stdout",
          "text": [
            "2\n",
            "(2, 3)\n",
            "{'z': 1}\n"
          ]
        }
      ],
      "source": [
        "random(2,1,2,3,z=1)"
      ]
    },
    {
      "cell_type": "code",
      "execution_count": null,
      "metadata": {
        "id": "00fe0aad",
        "outputId": "714c0e56-6674-44d7-9f84-994b0c299f2c",
        "colab": {
          "base_uri": "https://localhost:8080/"
        }
      },
      "outputs": [
        {
          "output_type": "stream",
          "name": "stdout",
          "text": [
            "1\n",
            "()\n",
            "{}\n"
          ]
        }
      ],
      "source": [
        "random(1,y=2)"
      ]
    },
    {
      "cell_type": "markdown",
      "source": [
        "---"
      ],
      "metadata": {
        "id": "8WFzQFgmFhsW"
      }
    },
    {
      "cell_type": "markdown",
      "source": [
        "---"
      ],
      "metadata": {
        "id": "tjsVgXYYFbpW"
      }
    },
    {
      "cell_type": "markdown",
      "source": [
        "# Lec 6: Modules and Exception Handling"
      ],
      "metadata": {
        "id": "GSkFqNLAme6k"
      }
    },
    {
      "cell_type": "markdown",
      "source": [
        "### Content\n",
        "\n",
        "* Modules in Python\n",
        "  * Random\n",
        "  * Math\n",
        "* Exception Handling\n",
        "  * Try & Except\n",
        "  * Raising Custom Exceptions"
      ],
      "metadata": {
        "id": "8nZ0yO67Dj9X"
      }
    },
    {
      "cell_type": "markdown",
      "source": [
        "---"
      ],
      "metadata": {
        "id": "aVhOeirAsDRn"
      }
    },
    {
      "cell_type": "markdown",
      "source": [
        "## Modules in Python"
      ],
      "metadata": {
        "id": "pRbmtU0DoALp"
      }
    },
    {
      "cell_type": "markdown",
      "source": [
        "A module is a collection of python files that contains re-usable functions which can be imported to other files for use.\n",
        "\n",
        "A collection of such modules is known as Package.\n",
        "\n",
        "<img src=\"https://d2beiqkhq929f0.cloudfront.net/public_assets/assets/000/019/835/original/Screenshot_2022-11-16_at_9.53.30_AM.png?1668572626\">"
      ],
      "metadata": {
        "id": "zCfcZPWIrhow"
      }
    },
    {
      "cell_type": "code",
      "source": [
        "# math is an built-in module in Python\n",
        "import math"
      ],
      "metadata": {
        "id": "YEbaHjSwowgp"
      },
      "execution_count": null,
      "outputs": []
    },
    {
      "cell_type": "code",
      "source": [
        "# Getting documentation of a module\n",
        "# help(math)"
      ],
      "metadata": {
        "id": "oCFdSk9Ooycn"
      },
      "execution_count": null,
      "outputs": []
    },
    {
      "cell_type": "code",
      "source": [
        "# Calculating square root\n",
        "math.sqrt(25)"
      ],
      "metadata": {
        "colab": {
          "base_uri": "https://localhost:8080/"
        },
        "id": "EI5eXflNo74R",
        "outputId": "f97bc1a4-e7d7-409b-b0e0-05018d34614e"
      },
      "execution_count": null,
      "outputs": [
        {
          "output_type": "execute_result",
          "data": {
            "text/plain": [
              "5.0"
            ]
          },
          "metadata": {},
          "execution_count": 7
        }
      ]
    },
    {
      "cell_type": "code",
      "source": [
        "# random is a built-in module in Python\n",
        "import random"
      ],
      "metadata": {
        "id": "c5PKwqDsai9R"
      },
      "execution_count": null,
      "outputs": []
    },
    {
      "cell_type": "code",
      "source": [
        "# Getting documentation of a module\n",
        "# help(random)"
      ],
      "metadata": {
        "id": "OfwgnpKlpIrS"
      },
      "execution_count": null,
      "outputs": []
    },
    {
      "cell_type": "code",
      "source": [
        "# Generating a random number between 0 and 100\n",
        "random.randint(0,100)"
      ],
      "metadata": {
        "id": "Qhas4iSPY5Li",
        "colab": {
          "base_uri": "https://localhost:8080/"
        },
        "outputId": "07e3b278-45a5-4857-8589-1130eaa23299"
      },
      "execution_count": null,
      "outputs": [
        {
          "output_type": "execute_result",
          "data": {
            "text/plain": [
              "88"
            ]
          },
          "metadata": {},
          "execution_count": 15
        }
      ]
    },
    {
      "cell_type": "markdown",
      "source": [
        "---"
      ],
      "metadata": {
        "id": "iNmJOaBlYvp4"
      }
    },
    {
      "cell_type": "markdown",
      "source": [
        "### Random\n",
        "\n",
        "<img src=\"https://d2beiqkhq929f0.cloudfront.net/public_assets/assets/000/019/836/original/Screenshot_2022-11-16_at_9.57.27_AM.png?1668572857\">\n",
        "\n",
        "<img src=\"https://d2beiqkhq929f0.cloudfront.net/public_assets/assets/000/019/837/original/Screenshot_2022-11-16_at_9.57.37_AM.png?1668572876\">\n",
        "\n",
        "Timestamp is a unique number that represents all the information regarding time and location and it keeps changing every unit time."
      ],
      "metadata": {
        "id": "IeOZORShsMOj"
      }
    },
    {
      "cell_type": "code",
      "source": [
        "import random"
      ],
      "metadata": {
        "id": "EOV8D8dWdOo6"
      },
      "execution_count": null,
      "outputs": []
    },
    {
      "cell_type": "code",
      "source": [
        "random.seed(100)\n",
        "print(random.randint(0,10))\n",
        "print(random.randint(0,10))\n",
        "print(random.randint(0,10))\n",
        "print(random.randint(0,10))\n",
        "print(random.randint(0,10))"
      ],
      "metadata": {
        "colab": {
          "base_uri": "https://localhost:8080/"
        },
        "id": "mDQT0akDs3BZ",
        "outputId": "14a038fc-a480-40df-d58b-1503e885fc69"
      },
      "execution_count": null,
      "outputs": [
        {
          "output_type": "stream",
          "name": "stdout",
          "text": [
            "2\n",
            "7\n",
            "7\n",
            "2\n",
            "6\n"
          ]
        }
      ]
    },
    {
      "cell_type": "code",
      "source": [
        "# Keeping the seed same will give the same set of random values.\n",
        "\n",
        "random.seed(100)\n",
        "print(random.randint(0,10))\n",
        "print(random.randint(0,10))\n",
        "print(random.randint(0,10))\n",
        "print(random.randint(0,10))\n",
        "print(random.randint(0,10))"
      ],
      "metadata": {
        "colab": {
          "base_uri": "https://localhost:8080/"
        },
        "id": "zYsj1p1LtGKs",
        "outputId": "2e90f85b-2309-4d8b-ce42-debc26dbc772"
      },
      "execution_count": null,
      "outputs": [
        {
          "output_type": "stream",
          "name": "stdout",
          "text": [
            "2\n",
            "7\n",
            "7\n",
            "2\n",
            "6\n"
          ]
        }
      ]
    },
    {
      "cell_type": "code",
      "source": [
        "# Changing the seed will change the pattern of the values being generated.\n",
        "\n",
        "random.seed(10)\n",
        "print(random.randint(0,10))\n",
        "print(random.randint(0,10))\n",
        "print(random.randint(0,10))\n",
        "print(random.randint(0,10))\n",
        "print(random.randint(0,10))"
      ],
      "metadata": {
        "colab": {
          "base_uri": "https://localhost:8080/"
        },
        "id": "HiWWr5ultBtx",
        "outputId": "e2690d7b-40d6-484f-eaa5-d17648149060"
      },
      "execution_count": null,
      "outputs": [
        {
          "output_type": "stream",
          "name": "stdout",
          "text": [
            "9\n",
            "0\n",
            "6\n",
            "7\n",
            "9\n"
          ]
        }
      ]
    },
    {
      "cell_type": "markdown",
      "source": [
        "---"
      ],
      "metadata": {
        "id": "iy3betJkbtIC"
      }
    },
    {
      "cell_type": "markdown",
      "source": [
        "### Math"
      ],
      "metadata": {
        "id": "ulQIU7pnbuYb"
      }
    },
    {
      "cell_type": "code",
      "source": [
        "# import math\n",
        "from math import *"
      ],
      "metadata": {
        "id": "XGbDJmGwpLMw"
      },
      "execution_count": null,
      "outputs": []
    },
    {
      "cell_type": "markdown",
      "source": [
        "Above syntax imported all the functions and classes present inside the `math` module."
      ],
      "metadata": {
        "id": "WG9ZZYWFtZeY"
      }
    },
    {
      "cell_type": "code",
      "source": [
        "sqrt(16)"
      ],
      "metadata": {
        "colab": {
          "base_uri": "https://localhost:8080/"
        },
        "id": "LrNgw679pM_E",
        "outputId": "c03215b1-9d2a-479a-c290-96fe124ac868"
      },
      "execution_count": null,
      "outputs": [
        {
          "output_type": "execute_result",
          "data": {
            "text/plain": [
              "4.0"
            ]
          },
          "metadata": {},
          "execution_count": 2
        }
      ]
    },
    {
      "cell_type": "code",
      "source": [
        "floor(90.5)"
      ],
      "metadata": {
        "colab": {
          "base_uri": "https://localhost:8080/"
        },
        "id": "c_eASOxupO_-",
        "outputId": "ebca4e07-5322-49e6-a51c-e872e5e870c5"
      },
      "execution_count": null,
      "outputs": [
        {
          "output_type": "execute_result",
          "data": {
            "text/plain": [
              "90"
            ]
          },
          "metadata": {},
          "execution_count": 3
        }
      ]
    },
    {
      "cell_type": "code",
      "source": [
        "ceil(1.43)"
      ],
      "metadata": {
        "colab": {
          "base_uri": "https://localhost:8080/"
        },
        "id": "i4V53oEGb0nL",
        "outputId": "e30937df-0918-4c9e-8c69-da49b30eff76"
      },
      "execution_count": null,
      "outputs": [
        {
          "output_type": "execute_result",
          "data": {
            "text/plain": [
              "2"
            ]
          },
          "metadata": {},
          "execution_count": 4
        }
      ]
    },
    {
      "cell_type": "markdown",
      "source": [
        "Problem with above syntax occur when you have multiple functions with same name.\n",
        "\n",
        "Importing all will cause problem because Python will override the first import by second.\n",
        "\n",
        "**Solution:** Importing using diffferent alias names.\n",
        "\n",
        "\\\n",
        "<img src=\"https://d2beiqkhq929f0.cloudfront.net/public_assets/assets/000/019/838/original/Screenshot_2022-11-16_at_10.05.07_AM.png?1668573309\">"
      ],
      "metadata": {
        "id": "n-Hd3HOOtw-T"
      }
    },
    {
      "cell_type": "code",
      "source": [
        "import math as m\n",
        "# m is known as an alias for the math module"
      ],
      "metadata": {
        "id": "2zRioE8lpTBA"
      },
      "execution_count": null,
      "outputs": []
    },
    {
      "cell_type": "markdown",
      "source": [
        "Above syntax is importing the `math` module under a different alias name."
      ],
      "metadata": {
        "id": "L7VUjx_ntl7Q"
      }
    },
    {
      "cell_type": "code",
      "source": [
        "help(m)"
      ],
      "metadata": {
        "id": "wgn7i9cKpVgI"
      },
      "execution_count": null,
      "outputs": []
    },
    {
      "cell_type": "code",
      "source": [
        "m.sqrt(9)"
      ],
      "metadata": {
        "colab": {
          "base_uri": "https://localhost:8080/"
        },
        "id": "51aGK_4PpbUB",
        "outputId": "337e2cc2-b6a7-4074-ab2d-54fcfae78c8c"
      },
      "execution_count": null,
      "outputs": [
        {
          "output_type": "execute_result",
          "data": {
            "text/plain": [
              "3.1622776601683795"
            ]
          },
          "metadata": {},
          "execution_count": 16
        }
      ]
    },
    {
      "cell_type": "code",
      "source": [
        "# import numpy as np\n",
        "# import pandas as pd\n",
        "# import matplotlib.pyplot as plt\n",
        "# import seaborn as sns"
      ],
      "metadata": {
        "id": "0M3DdbhCpiB9"
      },
      "execution_count": null,
      "outputs": []
    },
    {
      "cell_type": "markdown",
      "source": [
        "## Exception Handling"
      ],
      "metadata": {
        "id": "CatUcfFCqE8o"
      }
    },
    {
      "cell_type": "markdown",
      "source": [
        "When we make some errors in our code\n",
        "* If Python knows what's causing it then that is known as an `Exception`.\n",
        "* Rest all the errors that are unknown to Python are simply called `Errors`."
      ],
      "metadata": {
        "id": "4EGH-wUbuq68"
      }
    },
    {
      "cell_type": "code",
      "source": [
        "1 / 0"
      ],
      "metadata": {
        "colab": {
          "base_uri": "https://localhost:8080/",
          "height": 169
        },
        "id": "EuuCLn0_qDhf",
        "outputId": "8a87f58e-7f8d-4085-8ff6-df433991cfdd"
      },
      "execution_count": null,
      "outputs": [
        {
          "output_type": "error",
          "ename": "ZeroDivisionError",
          "evalue": "ignored",
          "traceback": [
            "\u001b[0;31m---------------------------------------------------------------------------\u001b[0m",
            "\u001b[0;31mZeroDivisionError\u001b[0m                         Traceback (most recent call last)",
            "\u001b[0;32m<ipython-input-34-b971f1464605>\u001b[0m in \u001b[0;36m<module>\u001b[0;34m\u001b[0m\n\u001b[0;32m----> 1\u001b[0;31m \u001b[0;36m1\u001b[0m \u001b[0;34m/\u001b[0m \u001b[0;36m0\u001b[0m\u001b[0;34m\u001b[0m\u001b[0;34m\u001b[0m\u001b[0m\n\u001b[0m",
            "\u001b[0;31mZeroDivisionError\u001b[0m: division by zero"
          ]
        }
      ]
    },
    {
      "cell_type": "code",
      "source": [
        "print(a_not_defined)"
      ],
      "metadata": {
        "colab": {
          "base_uri": "https://localhost:8080/",
          "height": 169
        },
        "id": "Cw0shWqXujNL",
        "outputId": "9fb7ad76-c365-4726-f6e0-3c747b5760fc"
      },
      "execution_count": null,
      "outputs": [
        {
          "output_type": "error",
          "ename": "NameError",
          "evalue": "ignored",
          "traceback": [
            "\u001b[0;31m---------------------------------------------------------------------------\u001b[0m",
            "\u001b[0;31mNameError\u001b[0m                                 Traceback (most recent call last)",
            "\u001b[0;32m<ipython-input-35-2bfecbfb1f8c>\u001b[0m in \u001b[0;36m<module>\u001b[0;34m\u001b[0m\n\u001b[0;32m----> 1\u001b[0;31m \u001b[0mprint\u001b[0m\u001b[0;34m(\u001b[0m\u001b[0ma_not_defined\u001b[0m\u001b[0;34m)\u001b[0m\u001b[0;34m\u001b[0m\u001b[0;34m\u001b[0m\u001b[0m\n\u001b[0m",
            "\u001b[0;31mNameError\u001b[0m: name 'a_not_defined' is not defined"
          ]
        }
      ]
    },
    {
      "cell_type": "code",
      "source": [
        "if 573:"
      ],
      "metadata": {
        "colab": {
          "base_uri": "https://localhost:8080/",
          "height": 133
        },
        "id": "Lf5gJB7-ukxt",
        "outputId": "6459bb10-d3cc-47af-db9d-4edc5d6a7216"
      },
      "execution_count": null,
      "outputs": [
        {
          "output_type": "error",
          "ename": "SyntaxError",
          "evalue": "ignored",
          "traceback": [
            "\u001b[0;36m  File \u001b[0;32m\"<ipython-input-36-236e0dbab875>\"\u001b[0;36m, line \u001b[0;32m1\u001b[0m\n\u001b[0;31m    if 573:\u001b[0m\n\u001b[0m           ^\u001b[0m\n\u001b[0;31mSyntaxError\u001b[0m\u001b[0;31m:\u001b[0m unexpected EOF while parsing\n"
          ]
        }
      ]
    },
    {
      "cell_type": "code",
      "source": [
        "import module_which_does_not_exist"
      ],
      "metadata": {
        "colab": {
          "base_uri": "https://localhost:8080/",
          "height": 312
        },
        "id": "r11AgFaFumRA",
        "outputId": "20bda2c7-1b5f-4ea8-9e6b-95680a60cb69"
      },
      "execution_count": null,
      "outputs": [
        {
          "output_type": "error",
          "ename": "ModuleNotFoundError",
          "evalue": "ignored",
          "traceback": [
            "\u001b[0;31m---------------------------------------------------------------------------\u001b[0m",
            "\u001b[0;31mModuleNotFoundError\u001b[0m                       Traceback (most recent call last)",
            "\u001b[0;32m<ipython-input-37-a132a4a652e6>\u001b[0m in \u001b[0;36m<module>\u001b[0;34m\u001b[0m\n\u001b[0;32m----> 1\u001b[0;31m \u001b[0;32mimport\u001b[0m \u001b[0mmodule_random_which_does_not_exist\u001b[0m\u001b[0;34m\u001b[0m\u001b[0;34m\u001b[0m\u001b[0m\n\u001b[0m",
            "\u001b[0;31mModuleNotFoundError\u001b[0m: No module named 'module_random_which_does_not_exist'",
            "",
            "\u001b[0;31m---------------------------------------------------------------------------\u001b[0;32m\nNOTE: If your import is failing due to a missing package, you can\nmanually install dependencies using either !pip or !apt.\n\nTo view examples of installing some common dependencies, click the\n\"Open Examples\" button below.\n\u001b[0;31m---------------------------------------------------------------------------\u001b[0m\n"
          ],
          "errorDetails": {
            "actions": [
              {
                "action": "open_url",
                "actionText": "Open Examples",
                "url": "/notebooks/snippets/importing_libraries.ipynb"
              }
            ]
          }
        }
      ]
    },
    {
      "cell_type": "code",
      "source": [
        "\"random i am\".sort()"
      ],
      "metadata": {
        "colab": {
          "base_uri": "https://localhost:8080/",
          "height": 169
        },
        "id": "1D2r2H9ku7kl",
        "outputId": "f3ccc38f-c064-417c-c2fb-57a707356c36"
      },
      "execution_count": null,
      "outputs": [
        {
          "output_type": "error",
          "ename": "AttributeError",
          "evalue": "ignored",
          "traceback": [
            "\u001b[0;31m---------------------------------------------------------------------------\u001b[0m",
            "\u001b[0;31mAttributeError\u001b[0m                            Traceback (most recent call last)",
            "\u001b[0;32m<ipython-input-38-a913f33d29b2>\u001b[0m in \u001b[0;36m<module>\u001b[0;34m\u001b[0m\n\u001b[0;32m----> 1\u001b[0;31m \u001b[0;34m\"random i am\"\u001b[0m\u001b[0;34m.\u001b[0m\u001b[0msort\u001b[0m\u001b[0;34m(\u001b[0m\u001b[0;34m)\u001b[0m\u001b[0;34m\u001b[0m\u001b[0;34m\u001b[0m\u001b[0m\n\u001b[0m",
            "\u001b[0;31mAttributeError\u001b[0m: 'str' object has no attribute 'sort'"
          ]
        }
      ]
    },
    {
      "cell_type": "code",
      "source": [
        "def something():\n",
        "    1 / 0\n",
        "    print(\"A\")\n",
        "\n",
        "something()\n",
        "print(\"B\")"
      ],
      "metadata": {
        "colab": {
          "base_uri": "https://localhost:8080/",
          "height": 347
        },
        "id": "EN316Pbdu9c5",
        "outputId": "7fad0942-f902-418a-bcd7-0e547d613b22"
      },
      "execution_count": null,
      "outputs": [
        {
          "output_type": "error",
          "ename": "ZeroDivisionError",
          "evalue": "ignored",
          "traceback": [
            "\u001b[0;31m---------------------------------------------------------------------------\u001b[0m",
            "\u001b[0;31mZeroDivisionError\u001b[0m                         Traceback (most recent call last)",
            "\u001b[0;32m<ipython-input-39-048d748fc344>\u001b[0m in \u001b[0;36m<module>\u001b[0;34m\u001b[0m\n\u001b[1;32m      3\u001b[0m     \u001b[0mprint\u001b[0m\u001b[0;34m(\u001b[0m\u001b[0;34m\"A\"\u001b[0m\u001b[0;34m)\u001b[0m\u001b[0;34m\u001b[0m\u001b[0;34m\u001b[0m\u001b[0m\n\u001b[1;32m      4\u001b[0m \u001b[0;34m\u001b[0m\u001b[0m\n\u001b[0;32m----> 5\u001b[0;31m \u001b[0msomething\u001b[0m\u001b[0;34m(\u001b[0m\u001b[0;34m)\u001b[0m\u001b[0;34m\u001b[0m\u001b[0;34m\u001b[0m\u001b[0m\n\u001b[0m\u001b[1;32m      6\u001b[0m \u001b[0mprint\u001b[0m\u001b[0;34m(\u001b[0m\u001b[0;34m\"B\"\u001b[0m\u001b[0;34m)\u001b[0m\u001b[0;34m\u001b[0m\u001b[0;34m\u001b[0m\u001b[0m\n",
            "\u001b[0;32m<ipython-input-39-048d748fc344>\u001b[0m in \u001b[0;36msomething\u001b[0;34m()\u001b[0m\n\u001b[1;32m      1\u001b[0m \u001b[0;32mdef\u001b[0m \u001b[0msomething\u001b[0m\u001b[0;34m(\u001b[0m\u001b[0;34m)\u001b[0m\u001b[0;34m:\u001b[0m\u001b[0;34m\u001b[0m\u001b[0;34m\u001b[0m\u001b[0m\n\u001b[0;32m----> 2\u001b[0;31m     \u001b[0;36m1\u001b[0m \u001b[0;34m/\u001b[0m \u001b[0;36m0\u001b[0m\u001b[0;34m\u001b[0m\u001b[0;34m\u001b[0m\u001b[0m\n\u001b[0m\u001b[1;32m      3\u001b[0m     \u001b[0mprint\u001b[0m\u001b[0;34m(\u001b[0m\u001b[0;34m\"A\"\u001b[0m\u001b[0;34m)\u001b[0m\u001b[0;34m\u001b[0m\u001b[0;34m\u001b[0m\u001b[0m\n\u001b[1;32m      4\u001b[0m \u001b[0;34m\u001b[0m\u001b[0m\n\u001b[1;32m      5\u001b[0m \u001b[0msomething\u001b[0m\u001b[0;34m(\u001b[0m\u001b[0;34m)\u001b[0m\u001b[0;34m\u001b[0m\u001b[0;34m\u001b[0m\u001b[0m\n",
            "\u001b[0;31mZeroDivisionError\u001b[0m: division by zero"
          ]
        }
      ]
    },
    {
      "cell_type": "markdown",
      "source": [
        "**Note:** As the exception occurs, the rest of the code will not be executed."
      ],
      "metadata": {
        "id": "1IfeTlEDvBaU"
      }
    },
    {
      "cell_type": "markdown",
      "source": [
        "---"
      ],
      "metadata": {
        "id": "xIfVYD0011-j"
      }
    },
    {
      "cell_type": "markdown",
      "source": [
        "## Try & Except\n",
        "\n",
        "In order to handle such `exceptions`, we need some conditional functions that can deal with them whenever they occur.\n",
        "\n",
        "<img src=\"https://d2beiqkhq929f0.cloudfront.net/public_assets/assets/000/019/839/original/Screenshot_2022-11-16_at_10.11.15_AM.png?1668573710\">"
      ],
      "metadata": {
        "id": "uADm1RsGvRrc"
      }
    },
    {
      "cell_type": "code",
      "source": [
        "def i_divide_by_zero(a):\n",
        "    return a / 0\n",
        "\n",
        "try:\n",
        "    i_divide_by_zero(5)\n",
        "    5 + 4\n",
        "    # any amount of code\n",
        "except:\n",
        "    print(\"Why are you dividing by zero?\")"
      ],
      "metadata": {
        "colab": {
          "base_uri": "https://localhost:8080/"
        },
        "id": "_NPq1Uxndiip",
        "outputId": "3e335603-2bb2-4de0-c6d8-b3219a53bceb"
      },
      "execution_count": null,
      "outputs": [
        {
          "output_type": "stream",
          "name": "stdout",
          "text": [
            "Why are you dividing by zero?\n"
          ]
        }
      ]
    },
    {
      "cell_type": "code",
      "source": [
        "def i_divide_by_zero(a):\n",
        "    return a / 0\n",
        "\n",
        "try:\n",
        "    # i_divide_by_zero(5)\n",
        "    print(5 + 4)\n",
        "    # any amount of code\n",
        "except:\n",
        "    print(\"Why are you dividing by zero?\")"
      ],
      "metadata": {
        "colab": {
          "base_uri": "https://localhost:8080/"
        },
        "id": "DbYRLbVwvy98",
        "outputId": "2ef67e57-c5c1-4f5c-8365-d7b6d0f3e025"
      },
      "execution_count": null,
      "outputs": [
        {
          "output_type": "stream",
          "name": "stdout",
          "text": [
            "9\n"
          ]
        }
      ]
    },
    {
      "cell_type": "code",
      "source": [
        "# Getting what exception is occuring -\n",
        "\n",
        "l1 = [2, 0, \"hello\", None]\n",
        "\n",
        "for e in l1:\n",
        "    try:\n",
        "        print(f\"Current element - {e}\")\n",
        "        result = 5 / int(e)\n",
        "        print(f\"Result - {result}\")\n",
        "    except Exception as exp:\n",
        "        print(f\"Excpetion - {exp}\")\n",
        "\n",
        "    print(\"-\"*50)\n",
        "\n",
        "print(\"Execution Successful!\")"
      ],
      "metadata": {
        "colab": {
          "base_uri": "https://localhost:8080/"
        },
        "id": "MzjbFzwDv520",
        "outputId": "981c00ca-9861-4d2a-fbca-6cd0ca1f3280"
      },
      "execution_count": null,
      "outputs": [
        {
          "output_type": "stream",
          "name": "stdout",
          "text": [
            "Current element - 2\n",
            "Result - 2.5\n",
            "--------------------------------------------------\n",
            "Current element - 0\n",
            "Excpetion - division by zero\n",
            "--------------------------------------------------\n",
            "Current element - hello\n",
            "Excpetion - invalid literal for int() with base 10: 'hello'\n",
            "--------------------------------------------------\n",
            "Current element - None\n",
            "Excpetion - int() argument must be a string, a bytes-like object or a real number, not 'NoneType'\n",
            "--------------------------------------------------\n",
            "Execution Successful!\n"
          ]
        }
      ]
    },
    {
      "cell_type": "code",
      "source": [
        "# Handling different exceptions differently -\n",
        "\n",
        "l1 = [2, 0, \"hello\", None]\n",
        "\n",
        "for e in l1:\n",
        "    try:\n",
        "        print(f\"Current element - {e}\")\n",
        "        result = 5 / int(e)\n",
        "        print(f\"Result - {result}\")\n",
        "    except ZeroDivisionError as z:\n",
        "        print(f\"You divided by zero. Number is {e}!\")\n",
        "    except Exception as exp:\n",
        "        print(f\"Exception - {exp}\")\n",
        "\n",
        "    print(\"-\"*50)\n",
        "\n",
        "print(\"Execution Successful!\")"
      ],
      "metadata": {
        "colab": {
          "base_uri": "https://localhost:8080/"
        },
        "id": "0ID5q11Tv8tH",
        "outputId": "385d6a82-5df0-4e11-c70f-3f68a0e3b293"
      },
      "execution_count": null,
      "outputs": [
        {
          "output_type": "stream",
          "name": "stdout",
          "text": [
            "Current element - 2\n",
            "Result - 2.5\n",
            "--------------------------------------------------\n",
            "Current element - 0\n",
            "You divided by zero. Number is 0!\n",
            "--------------------------------------------------\n",
            "Current element - hello\n",
            "Exception - invalid literal for int() with base 10: 'hello'\n",
            "--------------------------------------------------\n",
            "Current element - None\n",
            "Exception - int() argument must be a string, a bytes-like object or a real number, not 'NoneType'\n",
            "--------------------------------------------------\n",
            "Execution Successful!\n"
          ]
        }
      ]
    },
    {
      "cell_type": "markdown",
      "source": [
        "#### Any code within the `finally` block will be executed irrespective of whether an exception occurs or not."
      ],
      "metadata": {
        "id": "sK0hYtYTxMvl"
      }
    },
    {
      "cell_type": "code",
      "source": [
        "try:\n",
        "    print(\"I am trying!\")\n",
        "    1/0\n",
        "except:\n",
        "    print(\"Exception\")\n",
        "finally:\n",
        "    print(\"FINALLY\")"
      ],
      "metadata": {
        "colab": {
          "base_uri": "https://localhost:8080/"
        },
        "id": "-G8Io8BKwAYR",
        "outputId": "0a721c9c-f0da-4d72-dd66-b7d8c6965064"
      },
      "execution_count": null,
      "outputs": [
        {
          "output_type": "stream",
          "name": "stdout",
          "text": [
            "I am trying!\n",
            "Exception\n",
            "FINALLY\n"
          ]
        }
      ]
    },
    {
      "cell_type": "code",
      "source": [
        "try:\n",
        "    print(\"I am trying!\")\n",
        "    print(1/2)\n",
        "except:\n",
        "    print(\"Except\")\n",
        "\n",
        "print(\"FINALLYYY!\")"
      ],
      "metadata": {
        "colab": {
          "base_uri": "https://localhost:8080/"
        },
        "id": "_1B1b0vFwCGs",
        "outputId": "6f1fdf9e-d08f-4c44-b87d-ce2f770fc4a5"
      },
      "execution_count": null,
      "outputs": [
        {
          "output_type": "stream",
          "name": "stdout",
          "text": [
            "I am trying!\n",
            "0.5\n",
            "FINALLYYY!\n"
          ]
        }
      ]
    },
    {
      "cell_type": "markdown",
      "source": [
        "---"
      ],
      "metadata": {
        "id": "ii2ipDYk2ITo"
      }
    },
    {
      "cell_type": "markdown",
      "source": [
        "## Raising Custom Exceptions"
      ],
      "metadata": {
        "id": "adt-GPGExzyC"
      }
    },
    {
      "cell_type": "code",
      "source": [
        "raise Exception(\"This password is incorrect!\")"
      ],
      "metadata": {
        "colab": {
          "base_uri": "https://localhost:8080/",
          "height": 169
        },
        "id": "IQpe9oovwKK2",
        "outputId": "dc4a5936-27fc-440a-b70c-1a7d1b5abeb5"
      },
      "execution_count": null,
      "outputs": [
        {
          "output_type": "error",
          "ename": "Exception",
          "evalue": "ignored",
          "traceback": [
            "\u001b[0;31m---------------------------------------------------------------------------\u001b[0m",
            "\u001b[0;31mException\u001b[0m                                 Traceback (most recent call last)",
            "\u001b[0;32m<ipython-input-50-06bd7c35b8f2>\u001b[0m in \u001b[0;36m<module>\u001b[0;34m\u001b[0m\n\u001b[0;32m----> 1\u001b[0;31m \u001b[0;32mraise\u001b[0m \u001b[0mException\u001b[0m\u001b[0;34m(\u001b[0m\u001b[0;34m\"This password is incorrect!\"\u001b[0m\u001b[0;34m)\u001b[0m\u001b[0;34m\u001b[0m\u001b[0;34m\u001b[0m\u001b[0m\n\u001b[0m",
            "\u001b[0;31mException\u001b[0m: This password is incorrect!"
          ]
        }
      ]
    },
    {
      "cell_type": "code",
      "source": [
        "raise ZeroDivisionError"
      ],
      "metadata": {
        "colab": {
          "base_uri": "https://localhost:8080/",
          "height": 169
        },
        "id": "9gQtkwp0wOZK",
        "outputId": "60942ef5-734a-49b0-8517-f6f9e4576806"
      },
      "execution_count": null,
      "outputs": [
        {
          "output_type": "error",
          "ename": "ZeroDivisionError",
          "evalue": "ignored",
          "traceback": [
            "\u001b[0;31m---------------------------------------------------------------------------\u001b[0m",
            "\u001b[0;31mZeroDivisionError\u001b[0m                         Traceback (most recent call last)",
            "\u001b[0;32m<ipython-input-53-c62fc6984c64>\u001b[0m in \u001b[0;36m<module>\u001b[0;34m\u001b[0m\n\u001b[0;32m----> 1\u001b[0;31m \u001b[0;32mraise\u001b[0m \u001b[0mZeroDivisionError\u001b[0m\u001b[0;34m\u001b[0m\u001b[0;34m\u001b[0m\u001b[0m\n\u001b[0m",
            "\u001b[0;31mZeroDivisionError\u001b[0m: "
          ]
        }
      ]
    },
    {
      "cell_type": "code",
      "source": [
        "num = 5\n",
        "if num%2 != 0:\n",
        "    raise Exception(\"Number is odd!\")"
      ],
      "metadata": {
        "colab": {
          "base_uri": "https://localhost:8080/",
          "height": 204
        },
        "id": "-Hj7j_9uwP9s",
        "outputId": "3913b7b1-ba7e-45c9-c4e8-cbb419057f0c"
      },
      "execution_count": null,
      "outputs": [
        {
          "output_type": "error",
          "ename": "Exception",
          "evalue": "ignored",
          "traceback": [
            "\u001b[0;31m---------------------------------------------------------------------------\u001b[0m",
            "\u001b[0;31mException\u001b[0m                                 Traceback (most recent call last)",
            "\u001b[0;32m<ipython-input-54-9e98b5a32062>\u001b[0m in \u001b[0;36m<module>\u001b[0;34m\u001b[0m\n\u001b[1;32m      1\u001b[0m \u001b[0mnum\u001b[0m \u001b[0;34m=\u001b[0m \u001b[0;36m5\u001b[0m\u001b[0;34m\u001b[0m\u001b[0;34m\u001b[0m\u001b[0m\n\u001b[1;32m      2\u001b[0m \u001b[0;32mif\u001b[0m \u001b[0mnum\u001b[0m\u001b[0;34m%\u001b[0m\u001b[0;36m2\u001b[0m \u001b[0;34m!=\u001b[0m \u001b[0;36m0\u001b[0m\u001b[0;34m:\u001b[0m\u001b[0;34m\u001b[0m\u001b[0;34m\u001b[0m\u001b[0m\n\u001b[0;32m----> 3\u001b[0;31m     \u001b[0;32mraise\u001b[0m \u001b[0mException\u001b[0m\u001b[0;34m(\u001b[0m\u001b[0;34m\"Number is odd!\"\u001b[0m\u001b[0;34m)\u001b[0m\u001b[0;34m\u001b[0m\u001b[0;34m\u001b[0m\u001b[0m\n\u001b[0m",
            "\u001b[0;31mException\u001b[0m: Number is odd!"
          ]
        }
      ]
    },
    {
      "cell_type": "code",
      "source": [
        "class MyCustomException(Exception):\n",
        "    def __init__(self, message):\n",
        "        super().__init__(message)\n",
        "\n",
        "name = \"Sach\"\n",
        "try:\n",
        "    if len(name)<5:\n",
        "        raise MyCustomException(\"Length of name must be >4 characters\")\n",
        "    else:\n",
        "        print(\"Name:\", name)\n",
        "\n",
        "except MyCustomException as e:\n",
        "    print(e)"
      ],
      "metadata": {
        "id": "xKR61tZJwL7X",
        "outputId": "42242640-9a9a-4943-b397-3127c78ff77d",
        "colab": {
          "base_uri": "https://localhost:8080/"
        }
      },
      "execution_count": null,
      "outputs": [
        {
          "output_type": "stream",
          "name": "stdout",
          "text": [
            "Length of name must be >4 characters\n"
          ]
        }
      ]
    },
    {
      "cell_type": "markdown",
      "source": [
        "---"
      ],
      "metadata": {
        "id": "xMliSJkggMz8"
      }
    },
    {
      "cell_type": "code",
      "source": [],
      "metadata": {
        "id": "95p-lbOImtkR"
      },
      "execution_count": null,
      "outputs": []
    },
    {
      "cell_type": "markdown",
      "source": [
        "# Lec 7: Basics of Time & Space Complexity"
      ],
      "metadata": {
        "id": "vjY_EMAw3ASB"
      }
    },
    {
      "cell_type": "markdown",
      "source": [
        "## Content\n",
        "\n",
        "- Arithmetic & Geometric Progression\n",
        "- Time Complexity\n",
        "  - Big O notation\n",
        "  - Comparison of order of time complexities\n",
        "- Space Complexity"
      ],
      "metadata": {
        "id": "OdsbXEkYMpxF"
      }
    },
    {
      "cell_type": "markdown",
      "source": [
        "---"
      ],
      "metadata": {
        "id": "6NMQcONbHvGc"
      }
    },
    {
      "cell_type": "markdown",
      "source": [
        "## Basic mathematical prerequisites -\n",
        "\n",
        "### Concept 1\n",
        "For the following series on some number N, how many steps it'll take to reach 1?\n",
        "```\n",
        "N -> N/2 -> N/4 -> N/8 -> ..... -> 1\n",
        "```\n",
        "\n",
        "<img src=\"https://d2beiqkhq929f0.cloudfront.net/public_assets/assets/000/064/973/original/i.png?1707903779\">\n",
        "\n",
        "### Concept 2\n",
        "\n",
        "Given two numbers say 3 and 10, how many numbers are in between those numbers (inclusive)?\n",
        "\n",
        "<img src=\"https://d2beiqkhq929f0.cloudfront.net/public_assets/assets/000/064/974/original/2.png?1707903954\">\n",
        "\n",
        "### Concept 3 (`Arithmetic Progression`)\n",
        "\n",
        "What is the sum of `N` numbers of AP?\n",
        "\n",
        "<img src=\"https://d2beiqkhq929f0.cloudfront.net/public_assets/assets/000/064/976/original/3.png?1707904203\">\n",
        "\n",
        "### Concept 4 (`Geometric Progression`)\n",
        "\n",
        "What is the sum of `N` terms of a GP?\n",
        "\n",
        "<img src=\"https://d2beiqkhq929f0.cloudfront.net/public_assets/assets/000/064/977/original/4.png?1707904266\">\n",
        "\n",
        "### Some useful logarithm properties -\n",
        "\n",
        "$\\log_{a}(a)^{x} = x$"
      ],
      "metadata": {
        "id": "9J-2WF47_QF3"
      }
    },
    {
      "cell_type": "markdown",
      "source": [
        "---"
      ],
      "metadata": {
        "id": "KtdefZAJJDiz"
      }
    },
    {
      "cell_type": "markdown",
      "source": [
        "## Time Complexity\n",
        "\n",
        "Time complexity is a measure of the efficiency of an algorithm, describing the relationship or trend between the number of operations performed by the algorithm and the size of its input.\n",
        "\n",
        "* It's a representation of time complexity, explaining the growth rate of an algorithm's running time as the input size increases.\n",
        "\n",
        "* It specifically focuses on the trend, ignoring constant factors and coefficients.\n",
        "\n",
        "* In Big O notation, only the polynomial term with the highest power is considered relevant."
      ],
      "metadata": {
        "id": "FmiyEYHED6br"
      }
    },
    {
      "cell_type": "markdown",
      "source": [
        "---"
      ],
      "metadata": {
        "id": "sJWyZaK7Lhsy"
      }
    },
    {
      "cell_type": "markdown",
      "source": [
        "#### Question: What will be the time complexity of the following program?\n",
        "\n",
        "```\n",
        "def fun(N):\n",
        "  s = 0\n",
        "  for i in range(1, N+1):\n",
        "    s += i\n",
        "  return s\n",
        "```\n",
        "\n",
        "<img src=\"https://d2beiqkhq929f0.cloudfront.net/public_assets/assets/000/064/990/original/5.png?1707907263\">\n",
        "\n",
        "**Note:** Basically O represents the order in which we can bound the time complexity of the algorithm.\n",
        "\n",
        "<img src=\"https://d2beiqkhq929f0.cloudfront.net/public_assets/assets/000/064/991/original/6.png?1707907588\">\n",
        "\n",
        "We primarily focus on the majority function due to its ability to prioritize significant contributions, particularly with large values of N. In the given example, only factors of substantial magnitude, such as the distance from Earth to the Moon, are considered relevant."
      ],
      "metadata": {
        "id": "b0OXdKMkMWln"
      }
    },
    {
      "cell_type": "markdown",
      "source": [
        "---"
      ],
      "metadata": {
        "id": "uGZuY6Y6LjRX"
      }
    },
    {
      "cell_type": "markdown",
      "source": [
        "#### Question: What will be the time complexity of the following program?\n",
        "\n",
        "```python\n",
        "def fun(N, M):\n",
        "  s = 0\n",
        "  for i in range(1, N+1):\n",
        "    s += i\n",
        "  for j in range(1, M+1):\n",
        "    s += j\n",
        "  return s\n",
        "```\n",
        "\n",
        "<img src=\"https://d2beiqkhq929f0.cloudfront.net/public_assets/assets/000/064/992/original/7.png?1707907678\">"
      ],
      "metadata": {
        "id": "50tGPwldKH6n"
      }
    },
    {
      "cell_type": "markdown",
      "source": [
        "---"
      ],
      "metadata": {
        "id": "7oynHOsOLkZ5"
      }
    },
    {
      "cell_type": "markdown",
      "source": [
        "#### Question: What will be the time complexity of the following program?\n",
        "\n",
        "```python\n",
        "def fun(N):\n",
        "  i = 1\n",
        "  while i < N:\n",
        "    i += 2\n",
        "```\n",
        "\n",
        "<img src=\"https://d2beiqkhq929f0.cloudfront.net/public_assets/assets/000/064/995/original/8.png?1707907989\">\n",
        "\n",
        "**Note:** Constant terms, coefficients are ignored. Only the order of magnitude matters."
      ],
      "metadata": {
        "id": "VrdK9rjEKMFN"
      }
    },
    {
      "cell_type": "markdown",
      "source": [
        "---"
      ],
      "metadata": {
        "id": "ubhDesCtLmLm"
      }
    },
    {
      "cell_type": "markdown",
      "source": [
        "#### Question: What will be the time complexity of the following program?\n",
        "\n",
        "```python\n",
        "def fun(N):\n",
        "  s = 0\n",
        "  for i in range(1, 101):\n",
        "    s += i\n",
        "  return s\n",
        "```\n",
        "\n",
        "In this case, since the number of iterations remains unchanged regardless of the input, this is an example of constant time complexity, denoted as `O(1)`."
      ],
      "metadata": {
        "id": "bXMHA_SZQQ0r"
      }
    },
    {
      "cell_type": "markdown",
      "source": [
        "---"
      ],
      "metadata": {
        "id": "D5C-Fd8DL6vM"
      }
    },
    {
      "cell_type": "markdown",
      "source": [
        "#### Question: What will be the time complexity of the following program?\n",
        "\n",
        "```python\n",
        "def fun(N):\n",
        "  s = 0\n",
        "  for i in range(1, int(N**0.5)):\n",
        "    s += i\n",
        "  return s\n",
        "```\n",
        "\n",
        "Here, the number of iterations are sqrt(N). Hence, the time complexity is `O(sqrt(N))`."
      ],
      "metadata": {
        "id": "NjCNjwEfRDS0"
      }
    },
    {
      "cell_type": "markdown",
      "source": [
        "---"
      ],
      "metadata": {
        "id": "oxbH_4kUMHpM"
      }
    },
    {
      "cell_type": "markdown",
      "source": [
        "#### Question: What will be the time complexity of the following program?\n",
        "\n",
        "```python\n",
        "def fun(N):\n",
        "  i = N\n",
        "  while i >= 1:\n",
        "    i = i // 2\n",
        "```\n",
        "\n",
        "<img src=\"https://d2beiqkhq929f0.cloudfront.net/public_assets/assets/000/064/996/original/9.png?1707908455\">"
      ],
      "metadata": {
        "id": "XLuHWrt0RoI6"
      }
    },
    {
      "cell_type": "markdown",
      "source": [
        "---"
      ],
      "metadata": {
        "id": "MKIyX2gEMbZi"
      }
    },
    {
      "cell_type": "markdown",
      "source": [
        "#### Question: What will be the time complexity of the following program?\n",
        "\n",
        "```python\n",
        "def fun(N):\n",
        "  i = 0\n",
        "  while i <= N:\n",
        "    i = i * 2\n",
        "```\n",
        "\n",
        "In this scenario, the value of i remains fixed at 0 throughout each iteration, leading to an infinite loop. This example highlights the importance of considering the iterative process and its implications."
      ],
      "metadata": {
        "id": "GIeVkBY1Sqsn"
      }
    },
    {
      "cell_type": "markdown",
      "source": [
        "---"
      ],
      "metadata": {
        "id": "_NDLtoJNNEgn"
      }
    },
    {
      "cell_type": "markdown",
      "source": [
        "#### Question: What will be the time complexity of the following program?\n",
        "\n",
        "```python\n",
        "def fun(N):\n",
        "  i = 1\n",
        "  while i <= N:\n",
        "    i = i * 2\n",
        "```\n",
        "\n",
        "<img src=\"https://d2beiqkhq929f0.cloudfront.net/public_assets/assets/000/064/998/original/10.png?1707908807\">"
      ],
      "metadata": {
        "id": "ogRt5ai8S8Lr"
      }
    },
    {
      "cell_type": "markdown",
      "source": [
        "---"
      ],
      "metadata": {
        "id": "kvkX73TtNH6q"
      }
    },
    {
      "cell_type": "markdown",
      "source": [
        "#### Question: What will be the time complexity of the following program?\n",
        "\n",
        "```python\n",
        "def fun(N):\n",
        "  s = 0\n",
        "  for i in range(N):\n",
        "    for j in range(N):\n",
        "      s += j\n",
        "  return s\n",
        "```\n",
        "\n",
        "<img src=\"https://d2beiqkhq929f0.cloudfront.net/public_assets/assets/000/064/999/original/11.png?1707908904\">"
      ],
      "metadata": {
        "id": "CtLldTJGThtg"
      }
    },
    {
      "cell_type": "markdown",
      "source": [
        "---"
      ],
      "metadata": {
        "id": "pQglHMO-NLSl"
      }
    },
    {
      "cell_type": "markdown",
      "source": [
        "#### Question: What will be the time complexity of the following program?\n",
        "\n",
        "```python\n",
        "def fun(N):\n",
        "  s = 0\n",
        "  for i in range(10):\n",
        "    for j in range(N):\n",
        "      s += j\n",
        "  return s\n",
        "```\n",
        "\n",
        "<img src=\"https://d2beiqkhq929f0.cloudfront.net/public_assets/assets/000/065/002/original/12.png?1707909045\">"
      ],
      "metadata": {
        "id": "SInISDbiUCZ9"
      }
    },
    {
      "cell_type": "markdown",
      "source": [
        "---"
      ],
      "metadata": {
        "id": "RkXmpAUQNN5I"
      }
    },
    {
      "cell_type": "markdown",
      "source": [
        "#### Question: What will be the time complexity of the following program?\n",
        "\n",
        "```python\n",
        "def fun(N):\n",
        "  s = 0\n",
        "  for i in range(N):\n",
        "    j = 1\n",
        "    while j <= N:\n",
        "      j = j * 2\n",
        "  return s\n",
        "```\n",
        "\n",
        "<img src=\"https://d2beiqkhq929f0.cloudfront.net/public_assets/assets/000/065/004/original/14.png?1707909210\">"
      ],
      "metadata": {
        "id": "l9w5BSZDUpu7"
      }
    },
    {
      "cell_type": "markdown",
      "source": [
        "---"
      ],
      "metadata": {
        "id": "_KWYiRStNRhC"
      }
    },
    {
      "cell_type": "markdown",
      "source": [
        "#### Question: What will be the time complexity of the following program?\n",
        "\n",
        "```python\n",
        "def fun(N):\n",
        "  s = 0\n",
        "  for i in range(N):\n",
        "    for j in range(N):\n",
        "      s += j\n",
        "  for i in range(N):\n",
        "    s += i\n",
        "  return s\n",
        "```\n",
        "\n",
        "<img src=\"https://d2beiqkhq929f0.cloudfront.net/public_assets/assets/000/065/005/original/15.png?1707909314\">\n",
        "\n",
        "We can disregard the magnitude terms within addition and solely concentrate on the term with the highest order of magnitude.\n",
        "\n",
        "However, we must not overlook any terms if they are being multiplied."
      ],
      "metadata": {
        "id": "DHq2V_58VF06"
      }
    },
    {
      "cell_type": "markdown",
      "source": [
        "---\n",
        "#### Question: What is the Big O form of the following time complexity iterations?\n",
        "\n",
        "$100N^2 + 32N^3 + 51N + 1000$\n",
        "\n",
        "**Answer:** `32(N^3)`"
      ],
      "metadata": {
        "id": "0aNnR65pV3NF"
      }
    },
    {
      "cell_type": "markdown",
      "source": [
        "---"
      ],
      "metadata": {
        "id": "afJkipy_NcQ9"
      }
    },
    {
      "cell_type": "markdown",
      "source": [
        "## Comparison of order of time complexities -\n",
        "\n",
        "<img src=\"https://d2beiqkhq929f0.cloudfront.net/public_assets/assets/000/065/006/original/16.png?1707909694\">\n",
        "\n",
        "<img src=\"https://d2beiqkhq929f0.cloudfront.net/public_assets/assets/000/065/007/original/17.png?1707909740\">"
      ],
      "metadata": {
        "id": "I8eHdDLTWU0p"
      }
    },
    {
      "cell_type": "markdown",
      "source": [
        "---"
      ],
      "metadata": {
        "id": "JsL0lWMONrI2"
      }
    },
    {
      "cell_type": "markdown",
      "source": [
        "## Space Complexity\n",
        "\n",
        "* Space complexity in Python refers to the amount of memory a program needs to complete its execution.\n",
        "* It is the analysis of memory usage with respect to the input size.\n",
        "* Similar to time complexity, space complexity is also expressed using `Big O` notation."
      ],
      "metadata": {
        "id": "eFh2T5YzWyvB"
      }
    },
    {
      "cell_type": "markdown",
      "source": [
        "#### Question: What will be the space complexity of the following program?\n",
        "\n",
        "```python\n",
        "def fun(N):\n",
        "  s = 0\n",
        "  for i in range(1, N+1):\n",
        "    s += i\n",
        "  return s\n",
        "```\n",
        "\n",
        "This code utilizes constant space complexity as it does not allocate any additional memory corresponding to the size of the input.\n",
        "\n",
        "<img src=\"https://d2beiqkhq929f0.cloudfront.net/public_assets/assets/000/065/008/original/18.png?1707909915\">"
      ],
      "metadata": {
        "id": "8B0I36E8W_Uy"
      }
    },
    {
      "cell_type": "markdown",
      "source": [
        "---"
      ],
      "metadata": {
        "id": "2tUdH1A6gq2I"
      }
    },
    {
      "cell_type": "markdown",
      "source": [
        "#### Question: What will be the space complexity of the following program?\n",
        "\n",
        "```python\n",
        "def fun(N):\n",
        "  s = [0]*N\n",
        "  for i in range(1, N+1):\n",
        "    s[i] = i\n",
        "  return sum(s)\n",
        "```\n",
        "\n",
        "Here, an additional list is created with the same size as the input, resulting in an extra order of N space being consumed.\n",
        "\n",
        "<img src=\"https://d2beiqkhq929f0.cloudfront.net/public_assets/assets/000/065/009/original/19.png?1707910041\">"
      ],
      "metadata": {
        "id": "myc8zVqhXYR9"
      }
    },
    {
      "cell_type": "markdown",
      "source": [
        "---"
      ],
      "metadata": {
        "id": "vbj183zMg6-q"
      }
    },
    {
      "cell_type": "markdown",
      "source": [
        "# Lec8: Regex"
      ],
      "metadata": {
        "id": "CFHTw2iFnAQ4"
      }
    },
    {
      "cell_type": "markdown",
      "source": [
        "## Content\n",
        "\n",
        "- Regular Expressions\n",
        "  - Simple pattern matching\n",
        "  - `.` character\n",
        "  - `\\` character\n",
        "- Metacharacters\n",
        "  - Matching digits (and non digits) - \\d , \\D\n",
        "  - Matching word (and non-word) characters - \\w , \\W\n",
        "  - Matching whitespace characters - \\s , \\S\n",
        "- Anchors\n",
        "  - Word boundary (and non-boundary) anchors - \\b , \\B\n",
        "  - Beginning and end anchors - ^ , $\n",
        "- Character Set\n",
        "  - Range notation - [a-z] , [A-Z] , [1-6]\n",
        "  - Negation - [^a-z]\n",
        "- Quantifiers\n",
        "  - *, +, ?, {3}, {3, 4}\n",
        "- Groups\n",
        "  - `()` and `|`\n",
        "- Functions in `re` library"
      ],
      "metadata": {
        "id": "q4PzOzoInSYN"
      }
    },
    {
      "cell_type": "markdown",
      "source": [
        "---"
      ],
      "metadata": {
        "id": "IXQh_4JlsTvK"
      }
    },
    {
      "cell_type": "markdown",
      "source": [
        "### Why do we study regex?\n",
        "\n",
        "- It helps in Natural Language Processing.\n",
        "- It comes handy for text analytics and text processing tasks.\n",
        "- It helps in searching, parsing and manipulating textual data."
      ],
      "metadata": {
        "id": "cpUgVg31rcpT"
      }
    },
    {
      "cell_type": "markdown",
      "source": [
        "### Business Use Case\n",
        "\n",
        "- Extracting customer information\n",
        "- Validating an email\n",
        "- Masking a phone number"
      ],
      "metadata": {
        "id": "P1ZOgrRqUOsI"
      }
    },
    {
      "cell_type": "markdown",
      "source": [
        "### Email Validation\n",
        "\n",
        "How can we check if an email address is valid?\n",
        "\n",
        "- There are a bunch of rules provided by the WWW.\n",
        "- Even if we have those rules, in order to validate an email, we will have to write a big if-elif-else based solution and still miss out on some conditions.\n",
        "\n",
        "This is where **regex** comes into action."
      ],
      "metadata": {
        "id": "wqolnDH-vCDl"
      }
    },
    {
      "cell_type": "code",
      "source": [
        "import re # importing regex library\n",
        "\n",
        "def is_vemail(s):\n",
        "  email_pattern = \"^\\w+([\\.-]?\\w+)*@\\w+([|.-]?\\w+)*(\\.\\w{2,3})+$\"\n",
        "  res = re.search(email_pattern, s)\n",
        "  # scans through string looking for the first location where pattern is found\n",
        "  if res:\n",
        "    return True\n",
        "  else:\n",
        "    return False"
      ],
      "metadata": {
        "id": "12HHmVK4usjS"
      },
      "execution_count": null,
      "outputs": []
    },
    {
      "cell_type": "code",
      "source": [
        "is_vemail(\"abcd@gmail\")"
      ],
      "metadata": {
        "colab": {
          "base_uri": "https://localhost:8080/"
        },
        "id": "bpuGTMonwBOi",
        "outputId": "c3ba9c10-845b-48ce-86a9-0b96dc815b20"
      },
      "execution_count": null,
      "outputs": [
        {
          "output_type": "execute_result",
          "data": {
            "text/plain": [
              "False"
            ]
          },
          "metadata": {},
          "execution_count": 8
        }
      ]
    },
    {
      "cell_type": "code",
      "source": [
        "is_vemail(\"abcd@xy.sx\")"
      ],
      "metadata": {
        "colab": {
          "base_uri": "https://localhost:8080/"
        },
        "id": "t6HhfMn3wKqs",
        "outputId": "a49c0597-27bd-4b8c-e18c-95ea08f4f986"
      },
      "execution_count": null,
      "outputs": [
        {
          "output_type": "execute_result",
          "data": {
            "text/plain": [
              "True"
            ]
          },
          "metadata": {},
          "execution_count": 9
        }
      ]
    },
    {
      "cell_type": "code",
      "source": [
        "is_vemail(\"nikhil.sanghi@scaler-academy.co.in\")"
      ],
      "metadata": {
        "colab": {
          "base_uri": "https://localhost:8080/"
        },
        "id": "NegbjLBCwN1b",
        "outputId": "d1c97b9a-bcb5-41ec-df07-e612ce597fcf"
      },
      "execution_count": null,
      "outputs": [
        {
          "output_type": "execute_result",
          "data": {
            "text/plain": [
              "True"
            ]
          },
          "metadata": {},
          "execution_count": 10
        }
      ]
    },
    {
      "cell_type": "markdown",
      "source": [
        "#### The string `^\\w+([\\.-]?\\w+)*@\\w+([\\.-]?\\w+)*(\\.\\w{2,3})+$` is called a **Regular Expression**.\n",
        "\n",
        "1. `^` means start and `$` means end\n",
        "2. `\\w+` means alphanumeric, one or more times\n",
        "3. Then the group `([\\.-]?\\w+)*`\n",
        "4. Within the group, we have `[\\.-]?` which means either dot or dash, zero or one time.\n",
        "5. `(\\.\\w{2,3})+` - matches `.` followed by 2 or 3 letter word i.e. com, in etc."
      ],
      "metadata": {
        "id": "HRW7eP_8W5A0"
      }
    },
    {
      "cell_type": "markdown",
      "source": [
        "#### So, what is a Regular Expression (RegEx)?\n",
        "\n",
        "- RegEx can be thought of as a highly specialised programming language which can be used to find the patterns in the strings.\n",
        "\n",
        "#### How to write these regular expressions?\n",
        "- Rules for writing REs are programming language agnostic."
      ],
      "metadata": {
        "id": "1cbbOCdFVsin"
      }
    },
    {
      "cell_type": "code",
      "execution_count": null,
      "metadata": {
        "id": "L8p-P0TSm7Va"
      },
      "outputs": [],
      "source": [
        "# Importing necessary libraries -\n",
        "\n",
        "import re\n",
        "import pandas as pd\n",
        "import numpy as np"
      ]
    },
    {
      "cell_type": "code",
      "source": [
        "# Downloading dataset -\n",
        "\n",
        "!gdown 1sSDV5UspYZL3UUOGuiuxppSGcv1wS9ex"
      ],
      "metadata": {
        "colab": {
          "base_uri": "https://localhost:8080/"
        },
        "id": "4L-mW-97sI7l",
        "outputId": "090a2dcb-edb5-4aea-94c4-fcd895ede3ed"
      },
      "execution_count": null,
      "outputs": [
        {
          "output_type": "stream",
          "name": "stdout",
          "text": [
            "Downloading...\n",
            "From: https://drive.google.com/uc?id=1sSDV5UspYZL3UUOGuiuxppSGcv1wS9ex\n",
            "To: /content/data.txt\n",
            "\r  0% 0.00/9.33k [00:00<?, ?B/s]\r100% 9.33k/9.33k [00:00<00:00, 17.0MB/s]\n"
          ]
        }
      ]
    },
    {
      "cell_type": "code",
      "source": [
        "data = open(\"data.txt\", \"r\").read()\n",
        "print(data[:500]) # display some data"
      ],
      "metadata": {
        "colab": {
          "base_uri": "https://localhost:8080/"
        },
        "id": "lBjQnPQzsPKA",
        "outputId": "3db1a1db-ff20-43b0-daa5-57908a615a51"
      },
      "execution_count": null,
      "outputs": [
        {
          "output_type": "stream",
          "name": "stdout",
          "text": [
            "Dave Martin\n",
            "615-555-7164\n",
            "173 Main St., Springfield RI 55924\n",
            "davemartin@bogusemail.com\n",
            "\n",
            "Charles Harris\n",
            "800-555-5669\n",
            "969 High St., Atlantis VA 34075\n",
            "charlesharris@bogusemail.com\n",
            "\n",
            "Eric Williams\n",
            "560-555-5153\n",
            "806 1st St., Faketown AK 86847\n",
            "laurawilliams@bogusemail.com\n",
            "\n",
            "Corey Jefferson\n",
            "900-555-9340\n",
            "826 Elm St., Epicburg NE 10671\n",
            "coreyjefferson@bogusemail.com\n",
            "\n",
            "Jennifer Martin-White\n",
            "714-555-7405\n",
            "212 Cedar St., Sunnydale CT 74983\n",
            "jenniferwhite@bogusemail.com\n",
            "\n",
            "Erick Davis\n",
            "800-555-6771\n",
            "519 Washington St., \n"
          ]
        }
      ]
    },
    {
      "cell_type": "markdown",
      "source": [
        "### Online tool: https://regex101.com/\n",
        "\n",
        "**Sample Text :**\n",
        "\n",
        "```\n",
        "abcdefghijklmnopqurtuvwxyz\n",
        "ABCDEFGHIJKLMNOPQRSTUVWXYZ\n",
        "1234567890\n",
        "\n",
        "abcdef\n",
        "\n",
        ".[{()\\^$|?*+\n",
        "\n",
        "scaler.com\n",
        "\n",
        "321-555-4321\n",
        "123.555.1234\n",
        "\n",
        "Mr. Varma\n",
        "Mr Anant  \n",
        "Ms Nandini\n",
        "Mrs. Singh\n",
        "Mr. T\n",
        "```"
      ],
      "metadata": {
        "id": "k3LQCUksWpH9"
      }
    },
    {
      "cell_type": "markdown",
      "source": [
        "#### Finding simple patterns in this textual content :\n",
        "\n",
        "<img src=\"https://d2beiqkhq929f0.cloudfront.net/public_assets/assets/000/063/352/original/1.png?1706165253\" width=\"500\" height=\"550\">\n",
        "\n",
        "- Notice that it couldn't find \"ABC\". That means it is case sensitive.\n",
        "- **Regular Expressions are case-sensitive.**"
      ],
      "metadata": {
        "id": "umAU35mBXaOP"
      }
    },
    {
      "cell_type": "markdown",
      "source": [
        "#### Can it find the same string if we jumble up the characters in RE?\n",
        "\n",
        "<img src=\"https://d2beiqkhq929f0.cloudfront.net/public_assets/assets/000/063/353/original/2.png?1706165409\" width=\"500\" height=\"500\">\n",
        "\n",
        "- **Order matters (e.g. \"abc\" is different from \"cba\")**"
      ],
      "metadata": {
        "id": "tTw4m2ruW4Sj"
      }
    },
    {
      "cell_type": "markdown",
      "source": [
        "#### Finding period symbol (dot) \".\"\n",
        "\n",
        "<img src=\"https://d2beiqkhq929f0.cloudfront.net/public_assets/assets/000/063/355/original/3.png?1706165552\" width=\"500\" height=\"500\">\n",
        "\n",
        "- It highlights everything except newline.\n",
        "- Which means **dot has a special meaning in REs**."
      ],
      "metadata": {
        "id": "spHKvA-9Ys92"
      }
    },
    {
      "cell_type": "markdown",
      "source": [
        "#### Use escape character (backslash) along with dot `.`\n",
        "\n",
        "<img src=\"https://d2beiqkhq929f0.cloudfront.net/public_assets/assets/000/063/356/original/4.png?1706165717\" width=\"500\" height=\"500\">\n",
        "\n",
        "- **escape sequence followed by dot matches with period character.**"
      ],
      "metadata": {
        "id": "UbAImi6UZe90"
      }
    },
    {
      "cell_type": "markdown",
      "source": [
        "### What are Metacharacters?\n",
        "\n",
        "- Special characters that don't match themselves.\n",
        "- Instead, they signal, some out-of-ordinary thing should be matched.\n",
        "- Example: `.[{()\\^$|?*+`\n",
        "- Note that backslash is also a meta-character, so to look for literal `\\` , we need to use `\\\\`\n",
        "\n",
        "<img src=\"https://d2beiqkhq929f0.cloudfront.net/public_assets/assets/000/063/358/original/5.png?1706165965\" width=\"500\" height=\"500\">"
      ],
      "metadata": {
        "id": "3mobPjCXYtR-"
      }
    },
    {
      "cell_type": "markdown",
      "source": [
        "#### Metacharacter - `\\d`\n",
        "- matches with all the digits\n",
        "\n",
        "<img src=\"https://d2beiqkhq929f0.cloudfront.net/public_assets/assets/000/063/359/original/6.png?1706166082\" width=\"500\" height=\"500\">"
      ],
      "metadata": {
        "id": "oRey-knfYt0-"
      }
    },
    {
      "cell_type": "markdown",
      "source": [
        "#### Metacharacter - `\\D`\n",
        "- matches for everything which is not a digit except newline\n",
        "\n",
        "<img src=\"https://d2beiqkhq929f0.cloudfront.net/public_assets/assets/000/063/360/original/7.png?1706166217\" width=\"500\" height=\"400\">"
      ],
      "metadata": {
        "id": "fW6UJNMfYuG5"
      }
    },
    {
      "cell_type": "markdown",
      "source": [
        "#### Metcharacter - `\\w`\n",
        "- looks for alphanumeric characters and underscore `(_)`\n",
        "\n",
        "<img src=\"https://d2beiqkhq929f0.cloudfront.net/public_assets/assets/000/063/362/original/8.png?1706166344\" width=\"500\" height=\"400\">"
      ],
      "metadata": {
        "id": "idjL2U3Db4PA"
      }
    },
    {
      "cell_type": "markdown",
      "source": [
        "#### Metcharacter - `\\W`\n",
        "\n",
        "- matches with non-alphanumeric characters\n",
        "\n",
        "<img src=\"https://d2beiqkhq929f0.cloudfront.net/public_assets/assets/000/063/363/original/9.png?1706166420\" width=\"500\" height=\"400\">"
      ],
      "metadata": {
        "id": "vK_-YF4fb4hz"
      }
    },
    {
      "cell_type": "markdown",
      "source": [
        "- upper-case counterparts negates the search\n",
        "- none of these meta-characeters matches for newline character."
      ],
      "metadata": {
        "id": "6yAl1EwDb4yU"
      }
    },
    {
      "cell_type": "markdown",
      "source": [
        "#### Matching whitespace characters\n",
        "\n",
        "- `\\s`\n",
        "<img src=\"https://d2beiqkhq929f0.cloudfront.net/public_assets/assets/000/063/364/original/10.png?1706166627\" width = \"500\" height = \"400\">\n",
        "\n",
        "- `\\S` <br>\n",
        "<img src=\"https://d2beiqkhq929f0.cloudfront.net/public_assets/assets/000/063/365/original/11.png?1706166657\" width = \"500\" height = \"400\">"
      ],
      "metadata": {
        "id": "3kfDi72Rb5H8"
      }
    },
    {
      "cell_type": "markdown",
      "source": [
        "### Other Special Characters\n",
        "\n",
        "<img src=\"https://d2beiqkhq929f0.cloudfront.net/public_assets/assets/000/063/366/original/12.png?1706166741\" width=\"500\" height=\"300\">\n",
        "\n",
        "**Documentation:** https://docs.python.org/3/howto/regex.html"
      ],
      "metadata": {
        "id": "8Xxbw_wnb5Yq"
      }
    },
    {
      "cell_type": "markdown",
      "source": [
        "### What are Anchors?\n",
        "\n",
        "- They don't match any characters.\n",
        "- They match invisible positions before or after the characters."
      ],
      "metadata": {
        "id": "g9-50bP_b53j"
      }
    },
    {
      "cell_type": "markdown",
      "source": [
        "#### `\\b` - word boundary\n",
        "\n",
        "<img src=\"https://d2beiqkhq929f0.cloudfront.net/public_assets/assets/000/063/368/original/13.png?1706166971\" width=\"500\" height=\"400\"><br>\n",
        "\n",
        "- Notice that if we're checking word boundary with Ha, it only matches with first two Ha.\n",
        "- Both start of the **line and whitespace are considered as word boundaries**.\n",
        "<br>\n",
        "\n",
        "<img src=\"https://d2beiqkhq929f0.cloudfront.net/public_assets/assets/000/063/369/original/14.png?1706166984\" width=\"500\" height=\"400\">"
      ],
      "metadata": {
        "id": "zkafBVpqeBpA"
      }
    },
    {
      "cell_type": "markdown",
      "source": [
        "Lets see two very important anchors `^` and  `$`\n",
        "\n",
        " - `^` matches for a pattern only if it's in the begining of the string.\n",
        " - `$` matches for a pattern only if it's in the end of the string.\n",
        "\n",
        "<img src=\"https://d2beiqkhq929f0.cloudfront.net/public_assets/assets/000/063/370/original/15.png?1706167186\" width=\"500\" height=\"400\">"
      ],
      "metadata": {
        "id": "EPzeb-GPeB9f"
      }
    },
    {
      "cell_type": "markdown",
      "source": [
        "#### Parse phone numbers in the given sample text -\n",
        "\n",
        "**Sample Text :**\n",
        "\n",
        "```\n",
        "abcdefghijklmnopqurtuvwxyz\n",
        "ABCDEFGHIJKLMNOPQRSTUVWXYZ\n",
        "1234567890\n",
        "\n",
        "Ha HaHa\n",
        "\n",
        ".[{()^$|?*+\n",
        "\n",
        "\n",
        "scaler.com\n",
        "321-555-4321\n",
        "123.555.1234\n",
        "\n",
        "\n",
        "Mr. Varma\n",
        "Mr Anant\n",
        "Ms Nandini\n",
        "Mrs. Singh\n",
        "Mr. T\n",
        "```\n",
        "\n",
        "<img src=\"https://d2beiqkhq929f0.cloudfront.net/public_assets/assets/000/063/371/original/16.png?1706167394\" width=\"500\" height=\"400\"> <br>\n",
        "\n",
        "Replace \"1234567890\" with \"123456789012\"\n",
        "\n",
        "<img src=\"https://d2beiqkhq929f0.cloudfront.net/public_assets/assets/000/063/372/original/17.png?1706167532\" width=\"500\" height=\"400\"> <br>\n",
        "\n",
        "- We need to be more specific about only allowing dot or dash.\n",
        "- Currently, it matches the wrong pattern rather than what we actually want."
      ],
      "metadata": {
        "id": "MQr4y_fweCJ2"
      }
    },
    {
      "cell_type": "markdown",
      "source": [
        "### Character Set\n",
        "\n",
        "- Character Set matches for one of the possible characters defined in the set.\n",
        "- For example : `[.-]`"
      ],
      "metadata": {
        "id": "Es0H23JHeCeG"
      }
    },
    {
      "cell_type": "markdown",
      "source": [
        "<img src=\"https://d2beiqkhq929f0.cloudfront.net/public_assets/assets/000/063/373/original/18.png?1706167850\" width = \"500\" height = \"400\">"
      ],
      "metadata": {
        "id": "AToJOvJWeCsy"
      }
    },
    {
      "cell_type": "markdown",
      "source": [
        "**Note:** Instead of listing all potential characters that you want to match, you can also provide the range.\n",
        "1. `[1-6]` - Looks for digit between 1 and 6.\n",
        "2. `[a-z]` - Looks for any alphabet between a and z."
      ],
      "metadata": {
        "id": "grFBXhcjeC5i"
      }
    },
    {
      "cell_type": "markdown",
      "source": [
        "#### What if want to match the chars/numbers except the ones mentioned in the set?\n",
        "\n",
        "- Use `^` to negate the set like `[^a-z]` to match everything which is not a lowercase character. <br>\n",
        "\n",
        "<img src=\"https://d2beiqkhq929f0.cloudfront.net/public_assets/assets/000/063/375/original/19.png?1706168031\" width=\"500\" height=\"400\">"
      ],
      "metadata": {
        "id": "SOlYDroleDJD"
      }
    },
    {
      "cell_type": "markdown",
      "source": [
        "### Quantifiers\n",
        "\n",
        "- match more than one characters at a time\n",
        "\n",
        "```\n",
        "* - 0 or More\n",
        "+ - 1 or More\n",
        "? - 0 or One\n",
        "{3} - Exact Number\n",
        "{3,4} - Range of Numbers (Minimum, Maximum)\n",
        "```\n",
        "\n",
        "Example: `\\d{3}[.-]\\d{3}[-.]\\d{4}`\n",
        "\n",
        "<img src=\"https://d2beiqkhq929f0.cloudfront.net/public_assets/assets/000/063/376/original/20.png?1706168167\" width=\"500\" height=\"400\">"
      ],
      "metadata": {
        "id": "rbEPxfkweDYr"
      }
    },
    {
      "cell_type": "markdown",
      "source": [
        "#### Special Characters\n",
        "\n",
        "- `+` - 1 or more. It ensures that the preceeding token occurs atleast once.\n",
        "\n",
        "<img src=\"https://d2beiqkhq929f0.cloudfront.net/public_assets/assets/000/062/015/original/9.png?1705320374\" width=\"300\" height=\"200\">\n",
        "\n",
        "- `*` - 0 or more. It ensures that the preceeding token occurs 0 or more times.\n",
        "<img src=\"https://d2beiqkhq929f0.cloudfront.net/public_assets/assets/000/062/017/original/10.png?1705320405\" width=\"300\" height=\"200\">\n",
        "\n",
        "- `?` - 0 or 1. It ensures that the preceeding token occurs once or doesn't occur.\n",
        "\n",
        "- `()` - Matches from a group of words.\n",
        "\n",
        "<img src=\"https://d2beiqkhq929f0.cloudfront.net/public_assets/assets/000/062/018/original/11.png?1705320435\" width=\"300\" height=\"200\">"
      ],
      "metadata": {
        "id": "29qWjbnw-nHr"
      }
    },
    {
      "cell_type": "markdown",
      "source": [
        "---"
      ],
      "metadata": {
        "id": "z0tnGzvaF3AZ"
      }
    },
    {
      "cell_type": "markdown",
      "source": [
        "#### Search for names starting with Mr -\n",
        "\n",
        "- `\\bMr\\.?\\s[A-Z][a-z]*`\n",
        "\n",
        "<img src=\"https://d2beiqkhq929f0.cloudfront.net/public_assets/assets/000/063/377/original/21.png?1706168240\" width=\"500\" height=\"400\">"
      ],
      "metadata": {
        "id": "E-RphqXLivVW"
      }
    },
    {
      "cell_type": "markdown",
      "source": [
        "**Question:** How to add Ms and Mrs to search pattern?\n",
        "- Using Groups"
      ],
      "metadata": {
        "id": "xl9sbkKTiv7m"
      }
    },
    {
      "cell_type": "markdown",
      "source": [
        "### What are Groups?\n",
        "\n",
        "- Groups allow us to match several different patterns.\n",
        "- We can create groups using paranthesis `()`.\n",
        "- Example: `M(r|s|rs)\\.?\\s[A-Z]\\w*`\n",
        "\n",
        "<img src=\"https://d2beiqkhq929f0.cloudfront.net/public_assets/assets/000/063/379/original/22.png?1706168368\" width=\"500\" height=\"400\">"
      ],
      "metadata": {
        "id": "xL7Zd2Y_iwHr"
      }
    },
    {
      "cell_type": "markdown",
      "source": [
        "### Important `re` functions -\n",
        "\n",
        "- `match` : Checks for a match only at the beginning of the string.\n",
        "- `search` : Finds out the first occurence of the pattern in data.\n",
        "- `findall` : Finds all the occurences of the pattern in data\n",
        "- `finditer` : Finds all occurrences of a pattern in a string and return an iterator that produces match objects for each match found.\n",
        "\n",
        "#### Function to do string manipulation:\n",
        "\n",
        "- `sub` : Searches and replaces a string.\n",
        "- `split` : Split the text by the given regular expression pattern."
      ],
      "metadata": {
        "id": "9LvXgQXciwc2"
      }
    },
    {
      "cell_type": "markdown",
      "source": [
        "### Extracting phone number -"
      ],
      "metadata": {
        "id": "Q7roBMfcldgL"
      }
    },
    {
      "cell_type": "markdown",
      "source": [
        "#### `re.match()` -"
      ],
      "metadata": {
        "id": "mFkGR92rbTPr"
      }
    },
    {
      "cell_type": "code",
      "source": [
        "pattern = \"\\d{3}-\\d{3}-\\d{4}\"\n",
        "print(re.match(pattern, data))"
      ],
      "metadata": {
        "colab": {
          "base_uri": "https://localhost:8080/"
        },
        "id": "kQsgzxcgKAL8",
        "outputId": "878b52c2-4896-4ad8-86b0-aa8da0dbd9de"
      },
      "execution_count": null,
      "outputs": [
        {
          "output_type": "stream",
          "name": "stdout",
          "text": [
            "None\n"
          ]
        }
      ]
    },
    {
      "cell_type": "markdown",
      "source": [
        "#### `re.search()` -"
      ],
      "metadata": {
        "id": "h02F1idYbrdP"
      }
    },
    {
      "cell_type": "code",
      "source": [
        "pattern = \"\\d{3}-\\d{3}-\\d{4}\"\n",
        "print(re.search(pattern, data))"
      ],
      "metadata": {
        "colab": {
          "base_uri": "https://localhost:8080/"
        },
        "id": "ORj-_9GvbqZE",
        "outputId": "1eda2090-40a4-4b00-c264-1757c10e6a4f"
      },
      "execution_count": null,
      "outputs": [
        {
          "output_type": "stream",
          "name": "stdout",
          "text": [
            "<re.Match object; span=(12, 24), match='615-555-7164'>\n"
          ]
        }
      ]
    },
    {
      "cell_type": "markdown",
      "source": [
        "#### `re.findall()` -"
      ],
      "metadata": {
        "id": "n7t0QklTb9cB"
      }
    },
    {
      "cell_type": "code",
      "source": [
        "pattern = \"\\d{3}-\\d{3}-\\d{4}\"\n",
        "phone_numbers = re.findall(pattern, data)\n",
        "print(phone_numbers)"
      ],
      "metadata": {
        "colab": {
          "base_uri": "https://localhost:8080/"
        },
        "id": "Ba3-5NbCb6_K",
        "outputId": "4e91f14f-1b7b-4fb0-ec25-64aed9ecd357"
      },
      "execution_count": null,
      "outputs": [
        {
          "output_type": "stream",
          "name": "stdout",
          "text": [
            "['615-555-7164', '800-555-5669', '560-555-5153', '900-555-9340', '714-555-7405', '800-555-6771', '783-555-4799', '516-555-4615', '127-555-1867', '608-555-4938', '568-555-6051', '292-555-1875', '900-555-3205', '614-555-1166', '530-555-2676', '470-555-2750', '800-555-6089', '880-555-8319', '777-555-8378', '998-555-7385', '800-555-7100', '903-555-8277', '196-555-5674', '900-555-5118', '905-555-1630', '203-555-3475', '884-555-8444', '904-555-8559', '889-555-7393', '195-555-2405', '321-555-9053', '133-555-1711', '900-555-5428', '760-555-7147', '391-555-6621', '932-555-7724', '609-555-7908', '800-555-8810', '149-555-7657', '130-555-9709', '143-555-9295', '903-555-9878', '574-555-3194', '496-555-7533', '210-555-3757', '900-555-9598', '866-555-9844', '669-555-7159', '152-555-7417', '893-555-9832', '217-555-7123', '786-555-6544', '780-555-2574', '926-555-8735', '895-555-3539', '874-555-3949', '800-555-2420', '936-555-6340', '372-555-9809', '890-555-5618', '670-555-3005', '509-555-5997', '721-555-5632', '900-555-3567', '147-555-6830', '582-555-3426', '400-555-1706', '525-555-1793', '317-555-6700', '974-555-8301', '800-555-3216', '746-555-4094', '922-555-1773', '711-555-4427', '355-555-1872', '852-555-6521', '691-555-5773', '332-555-5441', '900-555-7755', '379-555-3685', '127-555-9682', '789-555-7032', '783-555-5135', '315-555-6507', '481-555-5835', '365-555-8287', '911-555-7535', '681-555-2460', '274-555-9800', '800-555-1372', '300-555-7821', '133-555-3889', '705-555-6863', '215-555-9449', '988-555-6112', '623-555-3006', '192-555-4977', '178-555-4899', '952-555-3089', '900-555-6426']\n"
          ]
        }
      ]
    },
    {
      "cell_type": "markdown",
      "source": [
        "#### `re.finditer()` -"
      ],
      "metadata": {
        "id": "_X3WXMmVcRVu"
      }
    },
    {
      "cell_type": "code",
      "source": [
        "pattern = \"\\d{3}-\\d{3}-\\d{4}\"\n",
        "numbers = re.finditer(pattern, data)\n",
        "for i, num in enumerate(numbers):\n",
        "  print(num)\n",
        "  if(i==5):\n",
        "    break"
      ],
      "metadata": {
        "colab": {
          "base_uri": "https://localhost:8080/"
        },
        "id": "p-yvBN19cI1T",
        "outputId": "f167d5c0-fb12-480d-b5bf-729649e0fe0c"
      },
      "execution_count": null,
      "outputs": [
        {
          "output_type": "stream",
          "name": "stdout",
          "text": [
            "<re.Match object; span=(12, 24), match='615-555-7164'>\n",
            "<re.Match object; span=(102, 114), match='800-555-5669'>\n",
            "<re.Match object; span=(191, 203), match='560-555-5153'>\n",
            "<re.Match object; span=(281, 293), match='900-555-9340'>\n",
            "<re.Match object; span=(378, 390), match='714-555-7405'>\n",
            "<re.Match object; span=(467, 479), match='800-555-6771'>\n"
          ]
        }
      ]
    },
    {
      "cell_type": "markdown",
      "source": [
        "#### How can we extract the location and content from these `re.Match` objects?"
      ],
      "metadata": {
        "id": "jSjbVlvZl_oq"
      }
    },
    {
      "cell_type": "code",
      "source": [
        "pattern = \"\\d{3}-\\d{3}-\\d{4}\"\n",
        "numbers = re.finditer(pattern, data)\n",
        "for i, num in enumerate(numbers):\n",
        "  print(num.group(), num.start(), num.end()) # num.group returns the matching data, num.start() and num.end() returns the span\n",
        "  if(i==5):\n",
        "    break"
      ],
      "metadata": {
        "colab": {
          "base_uri": "https://localhost:8080/"
        },
        "id": "djdCAIVecpVq",
        "outputId": "22fe9167-99da-4818-bbc8-ff43c1f6a5ef"
      },
      "execution_count": null,
      "outputs": [
        {
          "output_type": "stream",
          "name": "stdout",
          "text": [
            "615-555-7164 12 24\n",
            "800-555-5669 102 114\n",
            "560-555-5153 191 203\n",
            "900-555-9340 281 293\n",
            "714-555-7405 378 390\n",
            "800-555-6771 467 479\n"
          ]
        }
      ]
    },
    {
      "cell_type": "markdown",
      "source": [
        "### Extracting email -\n",
        "\n",
        "general structure - `(string1)@(string2).(2+characters)`"
      ],
      "metadata": {
        "id": "n3arlv4smNAn"
      }
    },
    {
      "cell_type": "code",
      "source": [
        "pattern = '\\w+@\\w+\\.\\w{2,3}'\n",
        "emails = re.finditer(pattern, data)\n",
        "for i, email in enumerate(emails):\n",
        "  print(email)\n",
        "  if(i==5):\n",
        "    break"
      ],
      "metadata": {
        "colab": {
          "base_uri": "https://localhost:8080/"
        },
        "id": "hXRs_nUUdWxY",
        "outputId": "d27221d6-50df-48ce-98da-6dddcff25ec7"
      },
      "execution_count": null,
      "outputs": [
        {
          "output_type": "stream",
          "name": "stdout",
          "text": [
            "<re.Match object; span=(60, 85), match='davemartin@bogusemail.com'>\n",
            "<re.Match object; span=(147, 175), match='charlesharris@bogusemail.com'>\n",
            "<re.Match object; span=(235, 263), match='laurawilliams@bogusemail.com'>\n",
            "<re.Match object; span=(325, 354), match='coreyjefferson@bogusemail.com'>\n",
            "<re.Match object; span=(425, 453), match='jenniferwhite@bogusemail.com'>\n",
            "<re.Match object; span=(517, 540), match='tomdavis@bogusemail.com'>\n"
          ]
        }
      ]
    },
    {
      "cell_type": "markdown",
      "source": [
        "Let's see if our old generic pattern would have worked or not -\n",
        "\n",
        "\n"
      ],
      "metadata": {
        "id": "Y-kroFEJmX6y"
      }
    },
    {
      "cell_type": "code",
      "source": [
        "pattern = '\\w+([\\.-]?\\w+)*@\\w+([\\.-]?\\w+)*(\\.\\w{2,3})+'\n",
        "emails = re.finditer(pattern, data)\n",
        "for i, email in enumerate(emails):\n",
        " print(email)\n",
        " if i==5:\n",
        "  break"
      ],
      "metadata": {
        "colab": {
          "base_uri": "https://localhost:8080/"
        },
        "id": "k6JejSBamZKn",
        "outputId": "6abbc57a-691d-49e1-c3dd-7d334c016b99"
      },
      "execution_count": null,
      "outputs": [
        {
          "output_type": "stream",
          "name": "stdout",
          "text": [
            "<re.Match object; span=(60, 85), match='davemartin@bogusemail.com'>\n",
            "<re.Match object; span=(147, 175), match='charlesharris@bogusemail.com'>\n",
            "<re.Match object; span=(235, 263), match='laurawilliams@bogusemail.com'>\n",
            "<re.Match object; span=(325, 354), match='coreyjefferson@bogusemail.com'>\n",
            "<re.Match object; span=(425, 453), match='jenniferwhite@bogusemail.com'>\n",
            "<re.Match object; span=(517, 540), match='tomdavis@bogusemail.com'>\n"
          ]
        }
      ]
    },
    {
      "cell_type": "markdown",
      "source": [
        "### Extracting name -\n",
        "\n",
        "Names follow the pattern: `String1 String2`\n",
        "- First alphabet of string 1 starts with upper case followed by lower case alphabets.\n",
        "- Followed by a whitespace character.\n",
        "- First alphabet of string 2 also starts with upper case followed by lower case alphabets."
      ],
      "metadata": {
        "id": "HIIv4l_2mdc0"
      }
    },
    {
      "cell_type": "code",
      "source": [
        "pattern = '[A-Z][a-z]*\\s[A-Z][a-z]*'\n",
        "\n",
        "names = re.finditer(pattern, data)\n",
        "for i, name in enumerate(names):\n",
        "  print(name)\n",
        "  if(i==5):\n",
        "    break"
      ],
      "metadata": {
        "colab": {
          "base_uri": "https://localhost:8080/"
        },
        "id": "NXsI4lgyeAgD",
        "outputId": "81a30233-61ff-4acc-cc65-55353b3878fc"
      },
      "execution_count": null,
      "outputs": [
        {
          "output_type": "stream",
          "name": "stdout",
          "text": [
            "<re.Match object; span=(0, 11), match='Dave Martin'>\n",
            "<re.Match object; span=(29, 36), match='Main St'>\n",
            "<re.Match object; span=(39, 52), match='Springfield R'>\n",
            "<re.Match object; span=(87, 101), match='Charles Harris'>\n",
            "<re.Match object; span=(119, 126), match='High St'>\n",
            "<re.Match object; span=(129, 139), match='Atlantis V'>\n"
          ]
        }
      ]
    },
    {
      "cell_type": "markdown",
      "source": [
        "**Takeaways?**\n",
        "- Along with names we are also getting some part of addresses as well eg Maple St, Oak St, etc.\n",
        "\n",
        "**Why?**\n",
        "- Because they are also following the pattern string i.e. 1 or more character followed by capital letter.\n",
        "- Therefore, we modify our pattern by adding one more `[a-z]` or using `{2,}`."
      ],
      "metadata": {
        "id": "_QxLvkFumzoT"
      }
    },
    {
      "cell_type": "code",
      "source": [
        "pattern = '[A-Z][a-z]*\\s[A-Z][a-z]{2,}'\n",
        "\n",
        "names = re.finditer(pattern, data)\n",
        "for i, name in enumerate(names):\n",
        "  print(name)\n",
        "  if(i==5):\n",
        "    break"
      ],
      "metadata": {
        "colab": {
          "base_uri": "https://localhost:8080/"
        },
        "id": "g_s1CGvxeger",
        "outputId": "a5f3c906-db6e-4de9-a752-ac88d92911f6"
      },
      "execution_count": null,
      "outputs": [
        {
          "output_type": "stream",
          "name": "stdout",
          "text": [
            "<re.Match object; span=(0, 11), match='Dave Martin'>\n",
            "<re.Match object; span=(87, 101), match='Charles Harris'>\n",
            "<re.Match object; span=(177, 190), match='Eric Williams'>\n",
            "<re.Match object; span=(265, 280), match='Corey Jefferson'>\n",
            "<re.Match object; span=(356, 371), match='Jennifer Martin'>\n",
            "<re.Match object; span=(455, 466), match='Erick Davis'>\n"
          ]
        }
      ]
    },
    {
      "cell_type": "markdown",
      "source": [
        "### Modifying RE with flags -"
      ],
      "metadata": {
        "id": "w_gB_waCnB5w"
      }
    },
    {
      "cell_type": "markdown",
      "source": [
        "#### `re.IGNORECASE or re.I`\n",
        "\n",
        "- ignore case senstivity\n",
        "- makes matching case insensitive"
      ],
      "metadata": {
        "id": "-G3YLTc3gPLY"
      }
    },
    {
      "cell_type": "code",
      "source": [
        "print(re.search('a+', 'aaaAAA'))\n",
        "print(re.search('A+', 'aaaAAA'))"
      ],
      "metadata": {
        "colab": {
          "base_uri": "https://localhost:8080/"
        },
        "id": "xUNXvPX0nMLK",
        "outputId": "4ea260f1-b7bc-460b-878f-30b5dec83a1e"
      },
      "execution_count": null,
      "outputs": [
        {
          "output_type": "stream",
          "name": "stdout",
          "text": [
            "<re.Match object; span=(0, 3), match='aaa'>\n",
            "<re.Match object; span=(3, 6), match='AAA'>\n"
          ]
        }
      ]
    },
    {
      "cell_type": "markdown",
      "source": [
        "Let's try do the same pattern matching while ignoring case."
      ],
      "metadata": {
        "id": "kN6pA8a3nVxG"
      }
    },
    {
      "cell_type": "code",
      "source": [
        "print(re.search('a+', 'aaaAAA', re.I))\n",
        "print(re.search('A+', 'aaaAAA', re.IGNORECASE))"
      ],
      "metadata": {
        "colab": {
          "base_uri": "https://localhost:8080/"
        },
        "id": "f5Wq1tc6nYLG",
        "outputId": "935ee3ee-a0a8-48cd-90a1-0a39b8ba8f42"
      },
      "execution_count": null,
      "outputs": [
        {
          "output_type": "stream",
          "name": "stdout",
          "text": [
            "<re.Match object; span=(0, 6), match='aaaAAA'>\n",
            "<re.Match object; span=(0, 6), match='aaaAAA'>\n"
          ]
        }
      ]
    },
    {
      "cell_type": "markdown",
      "source": [
        "#### `re.VERBOSE` or `re.X`\n",
        "\n",
        "Allows us to add\n",
        "- Better spacing, indentation, and a clean formatting for writing intricate patterns.\n",
        "- Comments right inside the pattern for later reference using the hash sign `#`."
      ],
      "metadata": {
        "id": "DxGkQeMxlNMf"
      }
    },
    {
      "cell_type": "markdown",
      "source": [
        "We can use multiple flags together by simply combining them using `|`."
      ],
      "metadata": {
        "id": "u5pa5OIZdt2c"
      }
    },
    {
      "cell_type": "code",
      "source": [
        "regex = '^\\w+([\\.-]?\\w+)*@\\w+([\\.-]?\\w+)*(\\.\\w{2,3})+$' # highly non-readable regex\n",
        "\n",
        "regex_verbose = re.compile(r\"\"\"   # Very readable and easy to understand.\n",
        "                ^\\w+([\\.-]?\\w+)*  # Start, \\w+\n",
        "                @                 # Single @ sign\n",
        "                \\w+([|.-]?\\w+)*   # Domain name\n",
        "                (\\.\\w{2,3})+$     # .com, .ac.in etc.\n",
        "                \"\"\", re.VERBOSE | re.IGNORECASE)"
      ],
      "metadata": {
        "id": "On3hGWy8kn7P"
      },
      "execution_count": null,
      "outputs": []
    },
    {
      "cell_type": "markdown",
      "source": [
        "### Extracting pincode -"
      ],
      "metadata": {
        "id": "j-4JKJCxok7m"
      }
    },
    {
      "cell_type": "code",
      "source": [
        "print(data[:263])"
      ],
      "metadata": {
        "colab": {
          "base_uri": "https://localhost:8080/"
        },
        "id": "xm5hHw8Roi9a",
        "outputId": "3153477c-6da7-495b-a533-a7e29f569484"
      },
      "execution_count": null,
      "outputs": [
        {
          "output_type": "stream",
          "name": "stdout",
          "text": [
            "Dave Martin\n",
            "615-555-7164\n",
            "173 Main St., Springfield RI 55924\n",
            "davemartin@bogusemail.com\n",
            "\n",
            "Charles Harris\n",
            "800-555-5669\n",
            "969 High St., Atlantis VA 34075\n",
            "charlesharris@bogusemail.com\n",
            "\n",
            "Eric Williams\n",
            "560-555-5153\n",
            "806 1st St., Faketown AK 86847\n",
            "laurawilliams@bogusemail.com\n"
          ]
        }
      ]
    },
    {
      "cell_type": "code",
      "source": [
        "regex = r'\\b(\\d{5})\\b'\n",
        "matches = re.findall(regex,data)\n",
        "print(matches)"
      ],
      "metadata": {
        "colab": {
          "base_uri": "https://localhost:8080/"
        },
        "id": "Nx40inZVopjJ",
        "outputId": "8ed5bd43-22c8-4b94-c3ff-de6ebc288211"
      },
      "execution_count": null,
      "outputs": [
        {
          "output_type": "stream",
          "name": "stdout",
          "text": [
            "['55924', '34075', '86847', '10671', '74983', '32425', '61914', '29947', '43597', '90938', '99000', '87282', '28362', '92474', '61967', '56526', '97152', '82767', '72160', '97183', '58176', '89212', '96962', '77737', '34615', '30826', '29348', '94854', '21888', '59348', '74122', '99431', '16576', '25668', '29540', '60758', '78172', '79714', '87195', '85386', '57112', '64102', '17880', '46692', '78455', '29087', '11899', '43281', '78036', '62260', '66724', '18586', '16272', '89569', '54999', '89260', '61275', '88289', '75205', '36433', '25473', '30958', '62155', '57680', '55462', '51312', '72025', '78862', '13147', '92369', '29551', '23225', '81427', '96421', '96698', '98412', '26245', '56449', '97503', '49113', '47472', '11845', '74526', '26941', '47182', '22772', '73725', '47466', '73860', '82473', '58720', '57764', '31836', '31169', '81541', '15445', '22215', '39308', '16547', '24886']\n"
          ]
        }
      ]
    },
    {
      "cell_type": "markdown",
      "source": [
        "- `\\b`: Word boundary to ensure that we match complete words (pin codes).\n",
        "- `(\\d{5})`: This is a capturing group that matches exactly five digits."
      ],
      "metadata": {
        "id": "BKqf3napfw16"
      }
    },
    {
      "cell_type": "markdown",
      "source": [
        "### Masking email -"
      ],
      "metadata": {
        "id": "4k2JoTCQo23v"
      }
    },
    {
      "cell_type": "code",
      "source": [
        "pattern = '\\w+@\\w+.[a-z]{3}'\n",
        "emails = re.findall(pattern,data)\n",
        "print(emails)"
      ],
      "metadata": {
        "colab": {
          "base_uri": "https://localhost:8080/"
        },
        "id": "e0sUslsCo0bJ",
        "outputId": "6b0e1ba0-f1d2-4281-de0a-bab35337b336"
      },
      "execution_count": null,
      "outputs": [
        {
          "output_type": "stream",
          "name": "stdout",
          "text": [
            "['davemartin@bogusemail.com', 'charlesharris@bogusemail.com', 'laurawilliams@bogusemail.com', 'coreyjefferson@bogusemail.com', 'jenniferwhite@bogusemail.com', 'tomdavis@bogusemail.com', 'neilpatterson@bogusemail.com', 'laurajefferson@bogusemail.com', 'mariajohnson@bogusemail.com', 'michaelarnold@bogusemail.com', 'michaelsmith@bogusemail.com', 'robertstuart@bogusemail.com', 'lauramartin@bogusemail.com', 'barbaramartin@bogusemail.com', 'lindajackson@bogusemail.com', 'stevemiller@bogusemail.com', 'davearnold@bogusemail.com', 'jenniferjacobs@bogusemail.com', 'neilwilson@bogusemail.com', 'kurtjackson@bogusemail.com', 'maryjacobs@bogusemail.com', 'michaelwhite@bogusemail.com', 'jenniferjenkins@bogusemail.com', 'samwright@bogusemail.com', 'johndavis@bogusemail.com', 'neildavis@bogusemail.com', 'laurajackson@bogusemail.com', 'johnwilliams@bogusemail.com', 'michaelmartin@bogusemail.com', 'maggiebrown@bogusemail.com', 'kurtwilson@bogusemail.com', 'elizabetharnold@bogusemail.com', 'janemartin@bogusemail.com', 'travisjohnson@bogusemail.com', 'laurajefferson@bogusemail.com', 'tomwilliams@bogusemail.com', 'jennifertaylor@bogusemail.com', 'jenniferwright@bogusemail.com', 'stevedoe@bogusemail.com', 'kurtdavis@bogusemail.com', 'coreyharris@bogusemail.com', 'nicoletaylor@bogusemail.com', 'elizabethdavis@bogusemail.com', 'maggiejenkins@bogusemail.com', 'lindadavis@bogusemail.com', 'davemoore@bogusemail.com', 'lindajenkins@bogusemail.com', 'samwhite@bogusemail.com', 'laurarobinson@bogusemail.com', 'charlespatterson@bogusemail.com', 'joejackson@bogusemail.com', 'michaeljohnson@bogusemail.com', 'coreymiller@bogusemail.com', 'jamesmoore@bogusemail.com', 'jenniferstuart@bogusemail.com', 'charlesmartin@bogusemail.com', 'joewilks@bogusemail.com', 'elizabetharnold@bogusemail.com', 'johnmiller@bogusemail.com', 'coreyjackson@bogusemail.com', 'samthomas@bogusemail.com', 'patriciathomas@bogusemail.com', 'jenniferdavis@bogusemail.com', 'patriciabrown@bogusemail.com', 'barbarawilliams@bogusemail.com', 'jamestaylor@bogusemail.com', 'barbaraharris@bogusemail.com', 'travisanderson@bogusemail.com', 'samrobinson@bogusemail.com', 'steverobinson@bogusemail.com', 'marywilson@bogusemail.com', 'samwilson@bogusemail.com', 'charlesjones@bogusemail.com', 'laurabrown@bogusemail.com', 'tomharris@bogusemail.com', 'patriciataylor@bogusemail.com', 'barbarawilliams@bogusemail.com', 'maggiejohnson@bogusemail.com', 'kurtmiller@bogusemail.com', 'neilstuart@bogusemail.com', 'lindapatterson@bogusemail.com', 'charlesdavis@bogusemail.com', 'jenniferjefferson@bogusemail.com', 'coreytaylor@bogusemail.com', 'robertwilks@bogusemail.com', 'travisjackson@bogusemail.com', 'travisjackson@bogusemail.com', 'laurawilks@bogusemail.com', 'neilarnold@bogusemail.com', 'lindajohnson@bogusemail.com', 'jenniferwilson@bogusemail.com', 'nicolewhite@bogusemail.com', 'mariaarnold@bogusemail.com', 'jenniferdavis@bogusemail.com', 'marypatterson@bogusemail.com', 'janestuart@bogusemail.com', 'robertdavis@bogusemail.com', 'jamestaylor@bogusemail.com', 'johnstuart@bogusemail.com', 'charlesmiller@bogusemail.com']\n"
          ]
        }
      ]
    },
    {
      "cell_type": "code",
      "source": [
        "def mask_email(s):\n",
        " if '@' in s:\n",
        "  name, domain = s.split('@')\n",
        " return f\"{name[0]}#####{name[-1]}@{domain}\""
      ],
      "metadata": {
        "id": "gCiD9Z7jgnaC"
      },
      "execution_count": null,
      "outputs": []
    },
    {
      "cell_type": "code",
      "source": [
        "print([mask_email(e) for e in emails])"
      ],
      "metadata": {
        "colab": {
          "base_uri": "https://localhost:8080/"
        },
        "id": "ySHqb_rBg19E",
        "outputId": "82ec59aa-21ae-4f9f-c0ba-b65cb37a057f"
      },
      "execution_count": null,
      "outputs": [
        {
          "output_type": "stream",
          "name": "stdout",
          "text": [
            "['d#####n@bogusemail.com', 'c#####s@bogusemail.com', 'l#####s@bogusemail.com', 'c#####n@bogusemail.com', 'j#####e@bogusemail.com', 't#####s@bogusemail.com', 'n#####n@bogusemail.com', 'l#####n@bogusemail.com', 'm#####n@bogusemail.com', 'm#####d@bogusemail.com', 'm#####h@bogusemail.com', 'r#####t@bogusemail.com', 'l#####n@bogusemail.com', 'b#####n@bogusemail.com', 'l#####n@bogusemail.com', 's#####r@bogusemail.com', 'd#####d@bogusemail.com', 'j#####s@bogusemail.com', 'n#####n@bogusemail.com', 'k#####n@bogusemail.com', 'm#####s@bogusemail.com', 'm#####e@bogusemail.com', 'j#####s@bogusemail.com', 's#####t@bogusemail.com', 'j#####s@bogusemail.com', 'n#####s@bogusemail.com', 'l#####n@bogusemail.com', 'j#####s@bogusemail.com', 'm#####n@bogusemail.com', 'm#####n@bogusemail.com', 'k#####n@bogusemail.com', 'e#####d@bogusemail.com', 'j#####n@bogusemail.com', 't#####n@bogusemail.com', 'l#####n@bogusemail.com', 't#####s@bogusemail.com', 'j#####r@bogusemail.com', 'j#####t@bogusemail.com', 's#####e@bogusemail.com', 'k#####s@bogusemail.com', 'c#####s@bogusemail.com', 'n#####r@bogusemail.com', 'e#####s@bogusemail.com', 'm#####s@bogusemail.com', 'l#####s@bogusemail.com', 'd#####e@bogusemail.com', 'l#####s@bogusemail.com', 's#####e@bogusemail.com', 'l#####n@bogusemail.com', 'c#####n@bogusemail.com', 'j#####n@bogusemail.com', 'm#####n@bogusemail.com', 'c#####r@bogusemail.com', 'j#####e@bogusemail.com', 'j#####t@bogusemail.com', 'c#####n@bogusemail.com', 'j#####s@bogusemail.com', 'e#####d@bogusemail.com', 'j#####r@bogusemail.com', 'c#####n@bogusemail.com', 's#####s@bogusemail.com', 'p#####s@bogusemail.com', 'j#####s@bogusemail.com', 'p#####n@bogusemail.com', 'b#####s@bogusemail.com', 'j#####r@bogusemail.com', 'b#####s@bogusemail.com', 't#####n@bogusemail.com', 's#####n@bogusemail.com', 's#####n@bogusemail.com', 'm#####n@bogusemail.com', 's#####n@bogusemail.com', 'c#####s@bogusemail.com', 'l#####n@bogusemail.com', 't#####s@bogusemail.com', 'p#####r@bogusemail.com', 'b#####s@bogusemail.com', 'm#####n@bogusemail.com', 'k#####r@bogusemail.com', 'n#####t@bogusemail.com', 'l#####n@bogusemail.com', 'c#####s@bogusemail.com', 'j#####n@bogusemail.com', 'c#####r@bogusemail.com', 'r#####s@bogusemail.com', 't#####n@bogusemail.com', 't#####n@bogusemail.com', 'l#####s@bogusemail.com', 'n#####d@bogusemail.com', 'l#####n@bogusemail.com', 'j#####n@bogusemail.com', 'n#####e@bogusemail.com', 'm#####d@bogusemail.com', 'j#####s@bogusemail.com', 'm#####n@bogusemail.com', 'j#####t@bogusemail.com', 'r#####s@bogusemail.com', 'j#####r@bogusemail.com', 'j#####t@bogusemail.com', 'c#####r@bogusemail.com']\n"
          ]
        }
      ]
    },
    {
      "cell_type": "markdown",
      "source": [
        "### Masking phone number -"
      ],
      "metadata": {
        "id": "bl_zbJeFo-QY"
      }
    },
    {
      "cell_type": "code",
      "source": [
        "pattern = \"\\d{3}-\\d{3}-\\d{4}\"\n",
        "numbers = re.findall(pattern,data)\n",
        "print(numbers)"
      ],
      "metadata": {
        "colab": {
          "base_uri": "https://localhost:8080/"
        },
        "id": "fFbpmPlDo7fZ",
        "outputId": "87e708da-6a41-4e00-b41f-6c86a7d03aae"
      },
      "execution_count": null,
      "outputs": [
        {
          "output_type": "stream",
          "name": "stdout",
          "text": [
            "['615-555-7164', '800-555-5669', '560-555-5153', '900-555-9340', '714-555-7405', '800-555-6771', '783-555-4799', '516-555-4615', '127-555-1867', '608-555-4938', '568-555-6051', '292-555-1875', '900-555-3205', '614-555-1166', '530-555-2676', '470-555-2750', '800-555-6089', '880-555-8319', '777-555-8378', '998-555-7385', '800-555-7100', '903-555-8277', '196-555-5674', '900-555-5118', '905-555-1630', '203-555-3475', '884-555-8444', '904-555-8559', '889-555-7393', '195-555-2405', '321-555-9053', '133-555-1711', '900-555-5428', '760-555-7147', '391-555-6621', '932-555-7724', '609-555-7908', '800-555-8810', '149-555-7657', '130-555-9709', '143-555-9295', '903-555-9878', '574-555-3194', '496-555-7533', '210-555-3757', '900-555-9598', '866-555-9844', '669-555-7159', '152-555-7417', '893-555-9832', '217-555-7123', '786-555-6544', '780-555-2574', '926-555-8735', '895-555-3539', '874-555-3949', '800-555-2420', '936-555-6340', '372-555-9809', '890-555-5618', '670-555-3005', '509-555-5997', '721-555-5632', '900-555-3567', '147-555-6830', '582-555-3426', '400-555-1706', '525-555-1793', '317-555-6700', '974-555-8301', '800-555-3216', '746-555-4094', '922-555-1773', '711-555-4427', '355-555-1872', '852-555-6521', '691-555-5773', '332-555-5441', '900-555-7755', '379-555-3685', '127-555-9682', '789-555-7032', '783-555-5135', '315-555-6507', '481-555-5835', '365-555-8287', '911-555-7535', '681-555-2460', '274-555-9800', '800-555-1372', '300-555-7821', '133-555-3889', '705-555-6863', '215-555-9449', '988-555-6112', '623-555-3006', '192-555-4977', '178-555-4899', '952-555-3089', '900-555-6426']\n"
          ]
        }
      ]
    },
    {
      "cell_type": "code",
      "source": [
        "def mask_phone(p):\n",
        " if len(p) == 12:\n",
        "  return f\"###-###-{p[-3:]}\""
      ],
      "metadata": {
        "id": "B4rAjCkcpAWp"
      },
      "execution_count": null,
      "outputs": []
    },
    {
      "cell_type": "code",
      "source": [
        "print([mask_phone(n) for n in numbers])"
      ],
      "metadata": {
        "colab": {
          "base_uri": "https://localhost:8080/"
        },
        "id": "mKZypPZGpB5S",
        "outputId": "96ea56f5-7773-457b-acbd-3cb9a43ee0dd"
      },
      "execution_count": null,
      "outputs": [
        {
          "output_type": "stream",
          "name": "stdout",
          "text": [
            "['###-###-164', '###-###-669', '###-###-153', '###-###-340', '###-###-405', '###-###-771', '###-###-799', '###-###-615', '###-###-867', '###-###-938', '###-###-051', '###-###-875', '###-###-205', '###-###-166', '###-###-676', '###-###-750', '###-###-089', '###-###-319', '###-###-378', '###-###-385', '###-###-100', '###-###-277', '###-###-674', '###-###-118', '###-###-630', '###-###-475', '###-###-444', '###-###-559', '###-###-393', '###-###-405', '###-###-053', '###-###-711', '###-###-428', '###-###-147', '###-###-621', '###-###-724', '###-###-908', '###-###-810', '###-###-657', '###-###-709', '###-###-295', '###-###-878', '###-###-194', '###-###-533', '###-###-757', '###-###-598', '###-###-844', '###-###-159', '###-###-417', '###-###-832', '###-###-123', '###-###-544', '###-###-574', '###-###-735', '###-###-539', '###-###-949', '###-###-420', '###-###-340', '###-###-809', '###-###-618', '###-###-005', '###-###-997', '###-###-632', '###-###-567', '###-###-830', '###-###-426', '###-###-706', '###-###-793', '###-###-700', '###-###-301', '###-###-216', '###-###-094', '###-###-773', '###-###-427', '###-###-872', '###-###-521', '###-###-773', '###-###-441', '###-###-755', '###-###-685', '###-###-682', '###-###-032', '###-###-135', '###-###-507', '###-###-835', '###-###-287', '###-###-535', '###-###-460', '###-###-800', '###-###-372', '###-###-821', '###-###-889', '###-###-863', '###-###-449', '###-###-112', '###-###-006', '###-###-977', '###-###-899', '###-###-089', '###-###-426']\n"
          ]
        }
      ]
    },
    {
      "cell_type": "markdown",
      "source": [
        "---"
      ],
      "metadata": {
        "id": "Cb18NCshTWGr"
      }
    },
    {
      "cell_type": "markdown",
      "source": [
        "# Lec9: Web Scraping"
      ],
      "metadata": {
        "id": "UhLYvqXUHE8D"
      }
    },
    {
      "cell_type": "markdown",
      "source": [
        "## Content\n",
        "- What is Web Scraping?\n",
        "- Understanding a website's structure (HTML/CSS)\n",
        "- Using `request` module\n",
        "- Using `beautiful soup` for scraping data\n",
        "- Fixing the data format"
      ],
      "metadata": {
        "id": "kuwIlgF4HLMG"
      }
    },
    {
      "cell_type": "markdown",
      "source": [
        "---"
      ],
      "metadata": {
        "id": "d-dEUEJqsSMv"
      }
    },
    {
      "cell_type": "markdown",
      "source": [
        "## Introduction to Web Scraping\n",
        "\n",
        "#### <u>What is Web Scraping?</u>\n",
        "Web scraping is a technique used to extract large amounts of data from websites. It involves programmatically visiting web pages and extracting information from them. This process can range from simple data collection tasks, like scraping prices from an e-commerce site, to more complex activities, such as harvesting contact information for research purposes.\n",
        "\n",
        "</br>\n",
        "\n",
        "#### <u>Is web scraping legal?</u>\n",
        "The legality of web scraping depends on several factors and can vary by country. Generally, scraping publicly accessible data for personal, non-commercial use is considered legal. However, issues arise when scraping:\n",
        "\n",
        "- Data behind a login or other access controls.\n",
        "- Copyrighted material or proprietary information.\n",
        "- Websites with explicit terms of service that prohibit scraping.\n",
        "\n",
        "It's crucial to respect privacy laws (like GDPR in Europe), adhere to the website's terms of service, and avoid overloading servers.\n",
        "\n",
        "When in doubt, seeking legal advice or obtaining explicit permission from the website owner is advisable."
      ],
      "metadata": {
        "id": "B_K1PHe4KMDw"
      }
    },
    {
      "cell_type": "markdown",
      "source": [
        "#### <u>How to make sure that whatever we are scraping is appropriate?</u>\n",
        "\n",
        "Websites often use a `robots.txt` file to communicate with web crawlers. Access this file by appending`/robots.txt` to the website's base URL (e.g., https://en.wikipedia.org/robots.txt).\n",
        "\n",
        "This file provides guidelines on what parts of the site can or can't be crawled by automated agents. However, note that `robots.txt` is more of a guideline for search engines and does not have legal standing.\n",
        "\n",
        "Most websites have a Terms of Service (ToS) or Terms of Use agreement, often found in the footer of the homepage. Review this document to see if it explicitly prohibits scraping."
      ],
      "metadata": {
        "id": "bF9NPDDMKcOE"
      }
    },
    {
      "cell_type": "markdown",
      "source": [
        "### Understanding how web pages are structured and how we can extract data from them."
      ],
      "metadata": {
        "id": "56rQzjekLK6u"
      }
    },
    {
      "cell_type": "markdown",
      "source": [
        "<img src=\"https://d2beiqkhq929f0.cloudfront.net/public_assets/assets/000/063/179/original/img1.png?1706078289\">"
      ],
      "metadata": {
        "id": "aX2KfIoeMkrZ"
      }
    },
    {
      "cell_type": "markdown",
      "source": [
        "The web pages are developed using `HTML (Hyper Text Markup Language)`, where there are some pre-defined `tags` used to develop/design such pages. All tags start with `<>` and end as `</>`.\n",
        "\n",
        "For example, `<h1>` tag is used for writing heading and `<p>` tag is used for writing paragraphs.\n",
        "\n",
        "Knowing these tags is useful as it can help us to select which data to scape.\n",
        "\n",
        "Each tag has some special attributes like,\n",
        "- `class`\n",
        "  - Used to add some special properties to corresponding tag like styling, etc.\n",
        "  - Multiple tags can have same `class` attribute.\n",
        "- `id`\n",
        "  - Also used to add extra properties to tags but each tag can have a unique `id` attribute.\n",
        "\n",
        "We use such attributes to target specifc tags to extract data, like targetting all tags having some `class` attribute, etc.\n",
        "\n",
        "One more important thing to notice here is the hierarchy of tags, as in the above image some `tags(children)` are within another `tags(parent)`. This heirarchy is also useful for targetting certain tags."
      ],
      "metadata": {
        "id": "Dwpp4RPwPrr6"
      }
    },
    {
      "cell_type": "markdown",
      "source": [
        "### Problem Statement:\n",
        "\n",
        "* We'll be scraping this website http://books.toscrape.com/index.html for collecting book data like, name of book, genre, price, reviews, etc.\n",
        "\n",
        "* Before scraping, it is recommended to check the website and understand it's structure, what data it has.\n",
        "\n",
        "* As per the current task, we have around 1000 books, distributed on multiple pages. We will scrape the data of all of books."
      ],
      "metadata": {
        "id": "uzVFAuCeTuGN"
      }
    },
    {
      "cell_type": "markdown",
      "source": [
        "### Getting web content -\n",
        "\n",
        "We will be using the `requests` module here to fetch the content of webpage.\n",
        "\n",
        "Usually whenever we load some URL in browser it makes a `GET` request to that particular endpoint and then respected server responds with the HTML code for corresponding page.\n",
        "\n",
        "We can perform similar action with `requests.get()` function as it pings the URL and returns with the corresonding details."
      ],
      "metadata": {
        "id": "BMDjTm3RpL_f"
      }
    },
    {
      "cell_type": "code",
      "execution_count": null,
      "metadata": {
        "id": "h9hEDH2O8Bgb"
      },
      "outputs": [],
      "source": [
        "import requests"
      ]
    },
    {
      "cell_type": "code",
      "source": [
        "base_url = \"http://books.toscrape.com/index.html\"\n",
        "home_page = requests.get(base_url)\n",
        "\n",
        "# checking whether the request made was successful or not\n",
        "if home_page.status_code == 200:\n",
        "  print(\"SUCCESS\")\n",
        "else:\n",
        "  print(f\"FAILED, status code: {home_page.status_code}\")"
      ],
      "metadata": {
        "colab": {
          "base_uri": "https://localhost:8080/"
        },
        "id": "2VXnLkhdXF2W",
        "outputId": "a76ecc09-66b4-4366-97f1-42afec6663ee"
      },
      "execution_count": null,
      "outputs": [
        {
          "output_type": "stream",
          "name": "stdout",
          "text": [
            "SUCCESS\n"
          ]
        }
      ]
    },
    {
      "cell_type": "markdown",
      "source": [
        "#### Information about some common staus codes :\n",
        "\n",
        "1. **200 OK**: The request has been successfully processed, and the server returns the requested content.\n",
        "\n",
        "2. **404 Not Found**: The requested resource or page could not be found on the server.\n",
        "\n",
        "3. **403 Forbidden**: Access to the requested resource is forbidden or not allowed for the client.\n",
        "\n",
        "4. **500 Internal Server Error**: The server encountered an unexpected error while processing the request.\n",
        "\n",
        "5. **302 Found (or 301 Moved Permanently)**: The requested resource has been temporarily (or permanently) moved to a different URL, and the client should follow the redirection."
      ],
      "metadata": {
        "id": "H5eqNVOpNeMu"
      }
    },
    {
      "cell_type": "markdown",
      "source": [
        "<img src=\"https://d2beiqkhq929f0.cloudfront.net/public_assets/assets/000/063/288/original/img1.png?1706109577\">"
      ],
      "metadata": {
        "id": "45yMjWg7D4GD"
      }
    },
    {
      "cell_type": "markdown",
      "source": [
        "### Getting all books from a page -"
      ],
      "metadata": {
        "id": "z8hDLsDLG9nr"
      }
    },
    {
      "cell_type": "markdown",
      "source": [
        "Now we have the web content as HTML code, now we need to parse this code so that we can extract relevant information from it.\n",
        "\n",
        "One popular python module used for such task is `beautiful soup`. It can parse the web content and allows user to extract data from specific tags."
      ],
      "metadata": {
        "id": "ddMCQzPWp3GH"
      }
    },
    {
      "cell_type": "code",
      "source": [
        "from bs4 import BeautifulSoup"
      ],
      "metadata": {
        "id": "35zld8H5Xgce"
      },
      "execution_count": null,
      "outputs": []
    },
    {
      "cell_type": "code",
      "source": [
        "soup = BeautifulSoup(markup=home_page.content, parser=\"html.parser\")"
      ],
      "metadata": {
        "id": "4sbNMDV-brkc"
      },
      "execution_count": null,
      "outputs": []
    },
    {
      "cell_type": "markdown",
      "source": [
        "<img src=\"https://d2beiqkhq929f0.cloudfront.net/public_assets/assets/000/063/289/original/img2.png?1706109628\">\n",
        "\n",
        "Now we will use the HTML tag information to extract data.\n",
        "\n",
        "Here we are extracting the section responsible for rendering book data onto the main page. As we can see in above image highlighted `<li>` tag is our target.\n",
        "\n",
        "And since there are 20 books per page so we can see multiple `<li>` tags one after another."
      ],
      "metadata": {
        "id": "b77OD7K9EGRp"
      }
    },
    {
      "cell_type": "markdown",
      "source": [
        "We will use `soup.find_all` method to target the specific tag according to it's name, the class attribute it holds or even the id attribute if required.\n",
        "\n",
        "This will return the list of all the captured `<li>` tags."
      ],
      "metadata": {
        "id": "9stsamHoq5PF"
      }
    },
    {
      "cell_type": "code",
      "source": [
        "books = soup.find_all(name=\"li\", class_=\"col-xs-6 col-sm-4 col-md-3 col-lg-3\")\n",
        "len(books)"
      ],
      "metadata": {
        "colab": {
          "base_uri": "https://localhost:8080/"
        },
        "id": "EVl9RiD3_8Jz",
        "outputId": "e7db3c8d-7d2f-4719-9e42-d07bf8e20e87"
      },
      "execution_count": null,
      "outputs": [
        {
          "output_type": "execute_result",
          "data": {
            "text/plain": [
              "20"
            ]
          },
          "metadata": {},
          "execution_count": 32
        }
      ]
    },
    {
      "cell_type": "markdown",
      "source": [
        "Beautiful Soup (bs4) is a Python library designed for web scraping purposes to pull the data out of HTML and XML files. It creates parse trees that is helpful to extract the data easily. Here are some of the commonly used methods in Beautiful Soup:\n",
        "\n",
        "1. **find()**: This method is used to find the first tag that matches a given criteria. For example, `soup.find('div')` would find the first `div` tag in the HTML document. You can also pass attributes to refine the search, like `soup.find('div', class_='example')`.\n",
        "\n",
        "2. **find_all()**: Unlike `find()`, `find_all()` retrieves all tags that match the criteria. It's useful when you want to extract information from multiple tags of the same type. For example, `soup.find_all('a')` would return a list of all anchor tags in the document.\n",
        "\n",
        "3. **select()**: This method allows you to use CSS selectors to find elements in the document. It's particularly handy when dealing with classes or IDs. For instance, `soup.select('.someclass')` would find all elements with the class `someclass`.\n",
        "\n",
        "4. **select_one()**: Similar to `select()`, but instead of returning all matches, it only returns the first match. For example, `soup.select_one('#uniqueId')` would find the first element with the ID `uniqueId`.\n",
        "\n",
        "These methods are integral to navigating and parsing HTML/XML documents with Beautiful Soup, making it easier to scrape data from websites."
      ],
      "metadata": {
        "id": "h5zFkVyExU0K"
      }
    },
    {
      "cell_type": "markdown",
      "source": [
        "### Extracting data of a single book -"
      ],
      "metadata": {
        "id": "yjHDQ7yCG6Fh"
      }
    },
    {
      "cell_type": "markdown",
      "source": [
        "In this section, we will go to the actual location of book where its data present and extract it into a dictionary."
      ],
      "metadata": {
        "id": "JJptW1S1rdCS"
      }
    },
    {
      "cell_type": "code",
      "source": [
        "book = books[0]"
      ],
      "metadata": {
        "id": "SmtOFzExAcDN"
      },
      "execution_count": null,
      "outputs": []
    },
    {
      "cell_type": "markdown",
      "source": [
        "<img src=\"https://d2beiqkhq929f0.cloudfront.net/public_assets/assets/000/063/290/original/3.png?1706109693\">\n",
        "\n",
        "As we can see each book thumbnail holds the information of page URL where the data of corresponding book is present.\n",
        "\n",
        "First we are going to extract this URL by utilising the hierarchy of this web page.\n",
        "\n",
        "Basically the `<a>` tag holding the URL of a book is within the `<li>` tag of that book which we already extracted and as we learnt earlier this `<a>` tag is one of the children of `<li>` tag.\n",
        "\n",
        "Hence we can query on that book by using `.findChild()` method to target the `<a>` tag and then capture its URL by accessing the `href` attribute."
      ],
      "metadata": {
        "id": "-G76JDewEUWK"
      }
    },
    {
      "cell_type": "code",
      "source": [
        "book_url = book.findChild(name=\"a\").get(\"href\")\n",
        "book_url"
      ],
      "metadata": {
        "colab": {
          "base_uri": "https://localhost:8080/",
          "height": 35
        },
        "id": "VFpqZ-YoB4GG",
        "outputId": "522d8532-96a0-4fd2-c208-6ad808a02be1"
      },
      "execution_count": null,
      "outputs": [
        {
          "output_type": "execute_result",
          "data": {
            "text/plain": [
              "'catalogue/a-light-in-the-attic_1000/index.html'"
            ],
            "application/vnd.google.colaboratory.intrinsic+json": {
              "type": "string"
            }
          },
          "metadata": {},
          "execution_count": 34
        }
      ]
    },
    {
      "cell_type": "markdown",
      "source": [
        "Ths issue is this is a relative URL which needs to be converted into complete absolute URL in order for us to access it using `requests.get()`.\n",
        "\n",
        "One way is directly prefixing `base_url` before this. The `urljoin` method from `urllib.parse` module is a very popular and error-free way to do so."
      ],
      "metadata": {
        "id": "n2golhY-sdqC"
      }
    },
    {
      "cell_type": "code",
      "source": [
        "from urllib.parse import urljoin"
      ],
      "metadata": {
        "id": "OKGFl_zzCVMW"
      },
      "execution_count": null,
      "outputs": []
    },
    {
      "cell_type": "code",
      "source": [
        "book_url = urljoin(base_url, book_url)\n",
        "book_url"
      ],
      "metadata": {
        "colab": {
          "base_uri": "https://localhost:8080/",
          "height": 35
        },
        "id": "BcVBsDqpDUoo",
        "outputId": "d23feca8-a117-49da-95a4-cfa8c44bfe67"
      },
      "execution_count": null,
      "outputs": [
        {
          "output_type": "execute_result",
          "data": {
            "text/plain": [
              "'http://books.toscrape.com/catalogue/a-light-in-the-attic_1000/index.html'"
            ],
            "application/vnd.google.colaboratory.intrinsic+json": {
              "type": "string"
            }
          },
          "metadata": {},
          "execution_count": 36
        }
      ]
    },
    {
      "cell_type": "markdown",
      "source": [
        "This is what a page for book looks like, now we understand its structure and extract the data.\n",
        "\n",
        "Basically from this page we need data like **Name of book** and the **Product Information** table.\n",
        "\n",
        "<img src=\"https://d2beiqkhq929f0.cloudfront.net/public_assets/assets/000/063/291/original/4.png?1706109767\">\n",
        "\n",
        "We start by getting its HTML content using `requests` and parsing it via `beautiful soup`."
      ],
      "metadata": {
        "id": "B6r2kxpHElYU"
      }
    },
    {
      "cell_type": "code",
      "source": [
        "book_info = requests.get(book_url).content\n",
        "book_soup = BeautifulSoup(markup=book_info, parser=\"html.parser\")"
      ],
      "metadata": {
        "id": "qH0bOt5dDemk"
      },
      "execution_count": null,
      "outputs": []
    },
    {
      "cell_type": "markdown",
      "source": [
        "<img src=\"https://d2beiqkhq929f0.cloudfront.net/public_assets/assets/000/063/292/original/5.png?1706110251\">\n",
        "\n",
        "So from the web structure, **Name of book** is within the only `<h1>` tag present in this page. Lets grab this first.\n",
        "\n",
        "We can use `.getText()` to get the text present between any tags."
      ],
      "metadata": {
        "id": "VyKPvwSpGcqB"
      }
    },
    {
      "cell_type": "code",
      "source": [
        "name = book_soup.find(name=\"h1\").getText()\n",
        "name"
      ],
      "metadata": {
        "colab": {
          "base_uri": "https://localhost:8080/",
          "height": 35
        },
        "id": "xahCEx0oFGlm",
        "outputId": "1ddee3a0-ce36-4bda-9cd7-92a3050065a2"
      },
      "execution_count": null,
      "outputs": [
        {
          "output_type": "execute_result",
          "data": {
            "text/plain": [
              "'A Light in the Attic'"
            ],
            "application/vnd.google.colaboratory.intrinsic+json": {
              "type": "string"
            }
          },
          "metadata": {},
          "execution_count": 38
        }
      ]
    },
    {
      "cell_type": "markdown",
      "source": [
        "<img src=\"https://d2beiqkhq929f0.cloudfront.net/public_assets/assets/000/063/293/original/6.png?1706110345\">\n",
        "\n",
        "Now, the **Product Information** table is structured as a HTML table, where each row data is between `<tr>` tags.\n",
        "\n",
        "And each `<tr>` tag holds the information of heading between `<th>` tag and corresponding value between `<td>` tag.\n",
        "\n",
        "So now, we get hold on all the rows and one by one extract the heading and their corresponding values."
      ],
      "metadata": {
        "id": "NHojSsR3Gyx7"
      }
    },
    {
      "cell_type": "code",
      "source": [
        "book_table_data = book_soup.find_all(name=\"tr\")\n",
        "len(book_table_data)"
      ],
      "metadata": {
        "colab": {
          "base_uri": "https://localhost:8080/"
        },
        "id": "BTK_fN1qFb1a",
        "outputId": "b610221a-7d0b-4451-d439-ea7a0f20b049"
      },
      "execution_count": null,
      "outputs": [
        {
          "output_type": "execute_result",
          "data": {
            "text/plain": [
              "7"
            ]
          },
          "metadata": {},
          "execution_count": 39
        }
      ]
    },
    {
      "cell_type": "code",
      "source": [
        "book_data = {}\n",
        "for row in book_table_data:\n",
        "  key = row.find(name=\"th\").getText()\n",
        "  value = row.find(name=\"td\").getText()\n",
        "  book_data[key] = value\n",
        "\n",
        "book_data"
      ],
      "metadata": {
        "colab": {
          "base_uri": "https://localhost:8080/"
        },
        "id": "1TWWwwEtF72I",
        "outputId": "516c4429-f0e8-4381-dbfe-259da4da13b6"
      },
      "execution_count": null,
      "outputs": [
        {
          "output_type": "execute_result",
          "data": {
            "text/plain": [
              "{'UPC': 'a897fe39b1053632',\n",
              " 'Product Type': 'Books',\n",
              " 'Price (excl. tax)': '£51.77',\n",
              " 'Price (incl. tax)': '£51.77',\n",
              " 'Tax': '£0.00',\n",
              " 'Availability': 'In stock (22 available)',\n",
              " 'Number of reviews': '0'}"
            ]
          },
          "metadata": {},
          "execution_count": 40
        }
      ]
    },
    {
      "cell_type": "markdown",
      "source": [
        "Let's wrap all the functionality into one function, that takes the absolute URL of a particular book page and returns data in a dictionary."
      ],
      "metadata": {
        "id": "AxuzsjYJJs50"
      }
    },
    {
      "cell_type": "code",
      "source": [
        "def scrape_book(book_url):\n",
        "  book_info = requests.get(book_url).content\n",
        "  book_soup = BeautifulSoup(markup=book_info, parser=\"html.parser\")\n",
        "\n",
        "  book_data = {}\n",
        "\n",
        "  # getting name\n",
        "  name = book_soup.find(name=\"h1\").getText()\n",
        "  book_data['name'] = name\n",
        "\n",
        "  # getting other data\n",
        "  book_table_data = book_soup.find_all(name=\"tr\")\n",
        "  for row in book_table_data:\n",
        "    key = row.find(name=\"th\").getText()\n",
        "    value = row.find(name=\"td\").getText()\n",
        "    book_data[key] = value\n",
        "\n",
        "  # let's also keep the url of book in final result\n",
        "  book_data['url'] = book_url\n",
        "  return book_data\n",
        "\n",
        "# let's test this\n",
        "scrape_book(book_url)"
      ],
      "metadata": {
        "colab": {
          "base_uri": "https://localhost:8080/"
        },
        "id": "u4Lfe6EkJ3xZ",
        "outputId": "a3dcfe5c-20ae-42fa-8ca6-4eb6b70232bd"
      },
      "execution_count": null,
      "outputs": [
        {
          "output_type": "execute_result",
          "data": {
            "text/plain": [
              "{'name': 'A Light in the Attic',\n",
              " 'UPC': 'a897fe39b1053632',\n",
              " 'Product Type': 'Books',\n",
              " 'Price (excl. tax)': '£51.77',\n",
              " 'Price (incl. tax)': '£51.77',\n",
              " 'Tax': '£0.00',\n",
              " 'Availability': 'In stock (22 available)',\n",
              " 'Number of reviews': '0',\n",
              " 'url': 'http://books.toscrape.com/catalogue/a-light-in-the-attic_1000/index.html'}"
            ]
          },
          "metadata": {},
          "execution_count": 41
        }
      ]
    },
    {
      "cell_type": "markdown",
      "source": [
        "### Fetching the data of all books in one page -"
      ],
      "metadata": {
        "id": "zRdUiI4EH9DN"
      }
    },
    {
      "cell_type": "markdown",
      "source": [
        "Let's see the pattern of changes in URL with respect to page change.\n",
        "\n",
        "* So if we go to the base url in browser and open next page, we can see that our URL changes to `https://books.toscrape.com/catalogue/page-2.html`\n",
        "\n",
        "* And if we go to the third page, then our URL changes to `https://books.toscrape.com/catalogue/page-3.html`\n",
        "\n",
        "* From here we can formulate that the URL for `i-th` page will be `https://books.toscrape.com/catalogue/page-i.html`"
      ],
      "metadata": {
        "id": "wLi8_4ZDIO8t"
      }
    },
    {
      "cell_type": "code",
      "source": [
        "# Fetching the data of all the books from the 1st page -\n",
        "\n",
        "page_url = \"https://books.toscrape.com/catalogue/page-i.html\"\n",
        "\n",
        "page_content = requests.get(page_url).content\n",
        "page_soup = BeautifulSoup(markup=page_content, parser=\"html.parser\")\n",
        "page_books = soup.find_all(name=\"li\", class_=\"col-xs-6 col-sm-4 col-md-3 col-lg-3\")\n",
        "\n",
        "print(len(page_books))"
      ],
      "metadata": {
        "colab": {
          "base_uri": "https://localhost:8080/"
        },
        "id": "zmlmP-SSL0Mi",
        "outputId": "33ea19bd-f267-4cfa-b017-e3b4ddc90e3e"
      },
      "execution_count": null,
      "outputs": [
        {
          "output_type": "stream",
          "name": "stdout",
          "text": [
            "20\n"
          ]
        }
      ]
    },
    {
      "cell_type": "markdown",
      "source": [
        "Now since we are already have the function to scrape each book data, we can directly use it to scrape all the books present in one page and store it."
      ],
      "metadata": {
        "id": "wQYpa-ZhvXQR"
      }
    },
    {
      "cell_type": "code",
      "source": [
        "books_data = []\n",
        "\n",
        "for book in page_books:\n",
        "  book_url = book.findChild(name=\"a\").get(\"href\")\n",
        "  # converting relative URL to absolute\n",
        "  book_url = urljoin(base_url, book_url)\n",
        "\n",
        "  book_data = scrape_book(book_url)\n",
        "  books_data.append(book_data)"
      ],
      "metadata": {
        "id": "qpQzXhaaH0bB"
      },
      "execution_count": null,
      "outputs": []
    },
    {
      "cell_type": "code",
      "source": [
        "books_data[:3]"
      ],
      "metadata": {
        "colab": {
          "base_uri": "https://localhost:8080/"
        },
        "id": "hDCV2KwTLO0i",
        "outputId": "9d792360-00f8-436f-b9b3-83d4ce0b22d6"
      },
      "execution_count": null,
      "outputs": [
        {
          "output_type": "execute_result",
          "data": {
            "text/plain": [
              "[{'name': 'A Light in the Attic',\n",
              "  'UPC': 'a897fe39b1053632',\n",
              "  'Product Type': 'Books',\n",
              "  'Price (excl. tax)': '£51.77',\n",
              "  'Price (incl. tax)': '£51.77',\n",
              "  'Tax': '£0.00',\n",
              "  'Availability': 'In stock (22 available)',\n",
              "  'Number of reviews': '0',\n",
              "  'url': 'http://books.toscrape.com/catalogue/a-light-in-the-attic_1000/index.html'},\n",
              " {'name': 'Tipping the Velvet',\n",
              "  'UPC': '90fa61229261140a',\n",
              "  'Product Type': 'Books',\n",
              "  'Price (excl. tax)': '£53.74',\n",
              "  'Price (incl. tax)': '£53.74',\n",
              "  'Tax': '£0.00',\n",
              "  'Availability': 'In stock (20 available)',\n",
              "  'Number of reviews': '0',\n",
              "  'url': 'http://books.toscrape.com/catalogue/tipping-the-velvet_999/index.html'},\n",
              " {'name': 'Soumission',\n",
              "  'UPC': '6957f44c3847a760',\n",
              "  'Product Type': 'Books',\n",
              "  'Price (excl. tax)': '£50.10',\n",
              "  'Price (incl. tax)': '£50.10',\n",
              "  'Tax': '£0.00',\n",
              "  'Availability': 'In stock (20 available)',\n",
              "  'Number of reviews': '0',\n",
              "  'url': 'http://books.toscrape.com/catalogue/soumission_998/index.html'}]"
            ]
          },
          "metadata": {},
          "execution_count": 44
        }
      ]
    },
    {
      "cell_type": "markdown",
      "source": [
        "Let's wrap that functionality into a function so that we can directly use it to scrape all the pages."
      ],
      "metadata": {
        "id": "Ye6B8wVILk57"
      }
    },
    {
      "cell_type": "code",
      "source": [
        "def scrape_page(page_url):\n",
        "  books_data = []\n",
        "  page_content = requests.get(page_url).content\n",
        "  page_soup = BeautifulSoup(markup=page_content, parser=\"html.parser\")\n",
        "  page_books = soup.find_all(name=\"li\", class_=\"col-xs-6 col-sm-4 col-md-3 col-lg-3\")\n",
        "\n",
        "  for book in books:\n",
        "    book_url = book.findChild(name=\"a\").get(\"href\")\n",
        "    book_url = urljoin(base_url, book_url)\n",
        "    book_data = scrape_book(book_url)\n",
        "    books_data.append(book_data)\n",
        "  return books_data"
      ],
      "metadata": {
        "id": "rmo5ewQ5LRrn"
      },
      "execution_count": null,
      "outputs": []
    },
    {
      "cell_type": "markdown",
      "source": [
        "### Scraping all books from all the pages -\n",
        "\n",
        "From the website we can see that there are total 50 pages, but sometimes this information is not given in the websites.\n",
        "\n",
        "That is why we'll use a generic approach here to keep extracting page data until all the pages are done.\n",
        "\n",
        "Let's try requesting the data from page 100, which is more than the total number of pages on our website."
      ],
      "metadata": {
        "id": "-XoX_IImMsAu"
      }
    },
    {
      "cell_type": "code",
      "source": [
        "requests.get(\"https://books.toscrape.com/catalogue/page-100.html\").status_code"
      ],
      "metadata": {
        "colab": {
          "base_uri": "https://localhost:8080/"
        },
        "id": "oCh9jZJFMmSc",
        "outputId": "d92163fd-52a1-4b0e-a329-c917b7d5fc16"
      },
      "execution_count": null,
      "outputs": [
        {
          "output_type": "execute_result",
          "data": {
            "text/plain": [
              "404"
            ]
          },
          "metadata": {},
          "execution_count": 46
        }
      ]
    },
    {
      "cell_type": "markdown",
      "source": [
        "`404` status codes means that page does not exist.\n",
        "\n",
        "So our approach is to keep looking for pages till we get 404 and there we'll stop data scraping."
      ],
      "metadata": {
        "id": "7yH2wn5BNxaO"
      }
    },
    {
      "cell_type": "code",
      "source": [
        "page_count = 1\n",
        "data = []\n",
        "\n",
        "while True:\n",
        "  page_url = f\"https://books.toscrape.com/catalogue/page-{page_count}.html\"\n",
        "  status = requests.get(page_url).status_code\n",
        "\n",
        "  # break the loop if we exceed the total page count\n",
        "  if status == 404:\n",
        "    break\n",
        "\n",
        "  page_data = scrape_page(page_url)\n",
        "  data.extend(page_data) # do not use .append() since the function returns a list\n",
        "  print(f\"Page: {page_count} is SUCCESSFULLY scraped\")\n",
        "\n",
        "  page_count += 1"
      ],
      "metadata": {
        "colab": {
          "base_uri": "https://localhost:8080/"
        },
        "id": "oAWOdtj1NF6O",
        "outputId": "2ac5d87c-8dbd-4971-9707-26b07b28b00f"
      },
      "execution_count": null,
      "outputs": [
        {
          "output_type": "stream",
          "name": "stdout",
          "text": [
            "Page: 1 is SUCCESSFULLY scraped\n",
            "Page: 2 is SUCCESSFULLY scraped\n",
            "Page: 3 is SUCCESSFULLY scraped\n",
            "Page: 4 is SUCCESSFULLY scraped\n",
            "Page: 5 is SUCCESSFULLY scraped\n",
            "Page: 6 is SUCCESSFULLY scraped\n",
            "Page: 7 is SUCCESSFULLY scraped\n",
            "Page: 8 is SUCCESSFULLY scraped\n",
            "Page: 9 is SUCCESSFULLY scraped\n",
            "Page: 10 is SUCCESSFULLY scraped\n",
            "Page: 11 is SUCCESSFULLY scraped\n",
            "Page: 12 is SUCCESSFULLY scraped\n",
            "Page: 13 is SUCCESSFULLY scraped\n",
            "Page: 14 is SUCCESSFULLY scraped\n",
            "Page: 15 is SUCCESSFULLY scraped\n",
            "Page: 16 is SUCCESSFULLY scraped\n",
            "Page: 17 is SUCCESSFULLY scraped\n",
            "Page: 18 is SUCCESSFULLY scraped\n",
            "Page: 19 is SUCCESSFULLY scraped\n",
            "Page: 20 is SUCCESSFULLY scraped\n",
            "Page: 21 is SUCCESSFULLY scraped\n",
            "Page: 22 is SUCCESSFULLY scraped\n",
            "Page: 23 is SUCCESSFULLY scraped\n",
            "Page: 24 is SUCCESSFULLY scraped\n",
            "Page: 25 is SUCCESSFULLY scraped\n",
            "Page: 26 is SUCCESSFULLY scraped\n",
            "Page: 27 is SUCCESSFULLY scraped\n",
            "Page: 28 is SUCCESSFULLY scraped\n",
            "Page: 29 is SUCCESSFULLY scraped\n",
            "Page: 30 is SUCCESSFULLY scraped\n",
            "Page: 31 is SUCCESSFULLY scraped\n",
            "Page: 32 is SUCCESSFULLY scraped\n",
            "Page: 33 is SUCCESSFULLY scraped\n",
            "Page: 34 is SUCCESSFULLY scraped\n",
            "Page: 35 is SUCCESSFULLY scraped\n",
            "Page: 36 is SUCCESSFULLY scraped\n",
            "Page: 37 is SUCCESSFULLY scraped\n",
            "Page: 38 is SUCCESSFULLY scraped\n",
            "Page: 39 is SUCCESSFULLY scraped\n",
            "Page: 40 is SUCCESSFULLY scraped\n",
            "Page: 41 is SUCCESSFULLY scraped\n",
            "Page: 42 is SUCCESSFULLY scraped\n",
            "Page: 43 is SUCCESSFULLY scraped\n",
            "Page: 44 is SUCCESSFULLY scraped\n",
            "Page: 45 is SUCCESSFULLY scraped\n",
            "Page: 46 is SUCCESSFULLY scraped\n",
            "Page: 47 is SUCCESSFULLY scraped\n",
            "Page: 48 is SUCCESSFULLY scraped\n",
            "Page: 49 is SUCCESSFULLY scraped\n",
            "Page: 50 is SUCCESSFULLY scraped\n"
          ]
        }
      ]
    },
    {
      "cell_type": "markdown",
      "source": [
        "> **Note:** For the sake of this class, we'll only scrape 5 pages as scraping all 50 will take good amount of time."
      ],
      "metadata": {
        "id": "FrO79q2tPcjY"
      }
    },
    {
      "cell_type": "code",
      "source": [
        "page_count = 1\n",
        "data = []\n",
        "\n",
        "while True:\n",
        "  page_url = f\"https://books.toscrape.com/catalogue/page-{page_count}.html\"\n",
        "  status = requests.get(page_url).status_code\n",
        "\n",
        "  # break the loop if we exceed the total page count\n",
        "  if status == 404 or page_count == 6:\n",
        "    break\n",
        "\n",
        "  page_data = scrape_page(page_url)\n",
        "  data.extend(page_data) # do not use .append() since the function returns a list\n",
        "  print(f\"Page: {page_count} is SUCCESSFULLY scraped\")\n",
        "\n",
        "  page_count += 1"
      ],
      "metadata": {
        "colab": {
          "base_uri": "https://localhost:8080/"
        },
        "id": "S63EjN7uPATF",
        "outputId": "c2233bf1-cd56-4b8b-dec8-23ac1de2c4c2"
      },
      "execution_count": null,
      "outputs": [
        {
          "output_type": "stream",
          "name": "stdout",
          "text": [
            "Page: 1 is SUCCESSFULLY scraped\n",
            "Page: 2 is SUCCESSFULLY scraped\n",
            "Page: 3 is SUCCESSFULLY scraped\n",
            "Page: 4 is SUCCESSFULLY scraped\n",
            "Page: 5 is SUCCESSFULLY scraped\n"
          ]
        }
      ]
    },
    {
      "cell_type": "code",
      "source": [
        "data[:2]"
      ],
      "metadata": {
        "colab": {
          "base_uri": "https://localhost:8080/"
        },
        "id": "D5P2zQDvPo_F",
        "outputId": "e8a900b6-4f23-4f08-d8b1-c96f8d506772"
      },
      "execution_count": null,
      "outputs": [
        {
          "output_type": "execute_result",
          "data": {
            "text/plain": [
              "[{'name': 'A Light in the Attic',\n",
              "  'UPC': 'a897fe39b1053632',\n",
              "  'Product Type': 'Books',\n",
              "  'Price (excl. tax)': '£51.77',\n",
              "  'Price (incl. tax)': '£51.77',\n",
              "  'Tax': '£0.00',\n",
              "  'Availability': 'In stock (22 available)',\n",
              "  'Number of reviews': '0',\n",
              "  'url': 'http://books.toscrape.com/catalogue/a-light-in-the-attic_1000/index.html'},\n",
              " {'name': 'Tipping the Velvet',\n",
              "  'UPC': '90fa61229261140a',\n",
              "  'Product Type': 'Books',\n",
              "  'Price (excl. tax)': '£53.74',\n",
              "  'Price (incl. tax)': '£53.74',\n",
              "  'Tax': '£0.00',\n",
              "  'Availability': 'In stock (20 available)',\n",
              "  'Number of reviews': '0',\n",
              "  'url': 'http://books.toscrape.com/catalogue/tipping-the-velvet_999/index.html'}]"
            ]
          },
          "metadata": {},
          "execution_count": 59
        }
      ]
    },
    {
      "cell_type": "markdown",
      "source": [
        "### Fixing the data formatting -\n",
        "\n",
        "The only issue now is that our data is not in a proper format.\n",
        "\n",
        "So in this section, we will fix those issues one by one."
      ],
      "metadata": {
        "id": "XmzL9PiaQfbW"
      }
    },
    {
      "cell_type": "code",
      "source": [
        "book = data[0].copy()\n",
        "book"
      ],
      "metadata": {
        "colab": {
          "base_uri": "https://localhost:8080/"
        },
        "id": "jybDDeW3QGTJ",
        "outputId": "b77ff859-17c5-4d67-a8fe-131fb0400ff1"
      },
      "execution_count": null,
      "outputs": [
        {
          "output_type": "execute_result",
          "data": {
            "text/plain": [
              "{'name': 'A Light in the Attic',\n",
              " 'UPC': 'a897fe39b1053632',\n",
              " 'Product Type': 'Books',\n",
              " 'Price (excl. tax)': '£51.77',\n",
              " 'Price (incl. tax)': '£51.77',\n",
              " 'Tax': '£0.00',\n",
              " 'Availability': 'In stock (22 available)',\n",
              " 'Number of reviews': '0',\n",
              " 'url': 'http://books.toscrape.com/catalogue/a-light-in-the-attic_1000/index.html'}"
            ]
          },
          "metadata": {},
          "execution_count": 50
        }
      ]
    },
    {
      "cell_type": "code",
      "source": [
        "# removing £ symbol and converting it to float\n",
        "float(book['Price (excl. tax)'][1:])"
      ],
      "metadata": {
        "colab": {
          "base_uri": "https://localhost:8080/"
        },
        "id": "Oj76EWbHRPsX",
        "outputId": "b06fcfc2-031c-492a-fdee-c33f9027e25d"
      },
      "execution_count": null,
      "outputs": [
        {
          "output_type": "execute_result",
          "data": {
            "text/plain": [
              "51.77"
            ]
          },
          "metadata": {},
          "execution_count": 51
        }
      ]
    },
    {
      "cell_type": "code",
      "source": [
        "# splitting 'availability' in 2 keys: 'quantity_available' and 'is_available'\n",
        "\n",
        "quantity_available = int(book['Availability'].split(\"(\")[-1][:-1].split()[0])\n",
        "is_available = book['Availability'].split(\"(\")[0].strip()\n",
        "\n",
        "quantity_available, is_available"
      ],
      "metadata": {
        "colab": {
          "base_uri": "https://localhost:8080/"
        },
        "id": "-01IY_vsRiLY",
        "outputId": "2ea6fd01-194f-40a9-e93a-a45d4f2ba9d6"
      },
      "execution_count": null,
      "outputs": [
        {
          "output_type": "execute_result",
          "data": {
            "text/plain": [
              "(22, 'In stock')"
            ]
          },
          "metadata": {},
          "execution_count": 52
        }
      ]
    },
    {
      "cell_type": "code",
      "source": [
        "def fix(item):\n",
        "  item['Price (excl. tax)'] = float(item['Price (excl. tax)'][1:])\n",
        "  item['Price (incl. tax)'] = float(item['Price (incl. tax)'][1:])\n",
        "  item['Tax'] = float(item['Tax'][1:])\n",
        "  availability = item.pop('Availability')\n",
        "  item['is_available'] = True if availability.split(\"(\")[0].strip() == 'In stock' else False\n",
        "  item['quantity_available'] = int(availability.split(\"(\")[-1][:-1].split()[0])\n",
        "  return item\n",
        "\n",
        "formatted_data = [fix(item.copy()) for item in data]"
      ],
      "metadata": {
        "id": "3LNnwvXeR9Lt"
      },
      "execution_count": null,
      "outputs": []
    },
    {
      "cell_type": "code",
      "source": [
        "formatted_data[:3]"
      ],
      "metadata": {
        "colab": {
          "base_uri": "https://localhost:8080/"
        },
        "id": "rodzIY6bmVr0",
        "outputId": "f1915a5b-9fa3-4397-8aa4-2961cfe2d2d4"
      },
      "execution_count": null,
      "outputs": [
        {
          "output_type": "execute_result",
          "data": {
            "text/plain": [
              "[{'name': 'A Light in the Attic',\n",
              "  'UPC': 'a897fe39b1053632',\n",
              "  'Product Type': 'Books',\n",
              "  'Price (excl. tax)': 51.77,\n",
              "  'Price (incl. tax)': 51.77,\n",
              "  'Tax': 0.0,\n",
              "  'Number of reviews': '0',\n",
              "  'url': 'http://books.toscrape.com/catalogue/a-light-in-the-attic_1000/index.html',\n",
              "  'is_available': True,\n",
              "  'quantity_available': 22},\n",
              " {'name': 'Tipping the Velvet',\n",
              "  'UPC': '90fa61229261140a',\n",
              "  'Product Type': 'Books',\n",
              "  'Price (excl. tax)': 53.74,\n",
              "  'Price (incl. tax)': 53.74,\n",
              "  'Tax': 0.0,\n",
              "  'Number of reviews': '0',\n",
              "  'url': 'http://books.toscrape.com/catalogue/tipping-the-velvet_999/index.html',\n",
              "  'is_available': True,\n",
              "  'quantity_available': 20},\n",
              " {'name': 'Soumission',\n",
              "  'UPC': '6957f44c3847a760',\n",
              "  'Product Type': 'Books',\n",
              "  'Price (excl. tax)': 50.1,\n",
              "  'Price (incl. tax)': 50.1,\n",
              "  'Tax': 0.0,\n",
              "  'Number of reviews': '0',\n",
              "  'url': 'http://books.toscrape.com/catalogue/soumission_998/index.html',\n",
              "  'is_available': True,\n",
              "  'quantity_available': 20}]"
            ]
          },
          "metadata": {},
          "execution_count": 54
        }
      ]
    },
    {
      "cell_type": "markdown",
      "source": [
        "Now we have well formatted data scraped from the website."
      ],
      "metadata": {
        "id": "sw4wV-bxoBb1"
      }
    },
    {
      "cell_type": "markdown",
      "source": [
        "---"
      ],
      "metadata": {
        "id": "v2xJMTmwkLoY"
      }
    },
    {
      "cell_type": "markdown",
      "source": [
        "# Lec10: Git and GitHub\n",
        "\n",
        "\n",
        "\n",
        "\n",
        "\n",
        "\n",
        "\n",
        "\n",
        "\n"
      ],
      "metadata": {
        "id": "unPJk1kZLM_B"
      }
    },
    {
      "cell_type": "markdown",
      "source": [
        "## Content\n",
        "\n",
        "* Git with GitHub Desktop\n",
        "  * Version Control System\n",
        "  * Git vs. GitHub\n",
        "  * Basic Terminologies\n",
        "  * Creating a repository\n",
        "  * Pushing and Collaboration\n",
        "* Git with CLI\n",
        "  * Install & Initialize Git\n",
        "  * Staging Environment\n",
        "  * Git Commands\n",
        "  * Git Branches\n",
        "  * Creating a github repository\n",
        "  * Git Push & Pull\n",
        "  * Git Rebase & Merge\n",
        "  * GitHub Fork & Clone"
      ],
      "metadata": {
        "id": "VmxHbASuUzWF"
      }
    },
    {
      "cell_type": "markdown",
      "source": [
        "---"
      ],
      "metadata": {
        "id": "3L9ijcaYsQYf"
      }
    },
    {
      "cell_type": "markdown",
      "source": [
        "## Git using GitHub"
      ],
      "metadata": {
        "id": "AmJn9V3GqmKy"
      }
    },
    {
      "cell_type": "markdown",
      "source": [
        "### Intuition for Git\n",
        "\n",
        "* Suppose you start working on a long-term project, and you're making changes to the project daily.\n",
        "* One day you realize that the previous version of a function made more sense and that you have wanted to return to that version.\n",
        "* Only if we had a place where we kept all versions of our code, we could have done it easily.\n",
        "\n",
        "<img src = https://d2beiqkhq929f0.cloudfront.net/public_assets/assets/000/063/172/original/version.png?1706065709 height = 300 width = 600>\n",
        "\n"
      ],
      "metadata": {
        "id": "WpbeDo-qa6lK"
      }
    },
    {
      "cell_type": "markdown",
      "source": [
        "### What is Git?\n",
        "\n",
        "* Git is a VCS (version control system).\n",
        "* But Git isn't any VCS, it's a distributed VCS which means that\n",
        "  * Every collaborator of the project will have a history of the changes made on their local machine.\n",
        "* It is distributed so you can access your code files from another computer and so can other developers.\n",
        "* People can work on different features of the project without having to communicate with each other or the server hosting the project."
      ],
      "metadata": {
        "id": "wo7aW69pdXe_"
      }
    },
    {
      "cell_type": "markdown",
      "source": [
        "### What is GitHub?\n",
        "\n",
        "* It is a platform for version control that uses Git at its core.\n",
        "* It lets you host the remote version of your project from where all the collaborators can have access to it.\n",
        "* Not just your own team members but any member of GitHub can contribute to your code (if it is a public project and you accept the changes proposed).\n",
        "* It also serves as a platform where people can find a plethora of open-source projects with their codes."
      ],
      "metadata": {
        "id": "3a9Ia1_0iidP"
      }
    },
    {
      "cell_type": "markdown",
      "source": [
        "There are other platforms as well that offer this:\n",
        "- Bitbucket\n",
        "- GitLab"
      ],
      "metadata": {
        "id": "p6PcBMvqn3sM"
      }
    },
    {
      "cell_type": "markdown",
      "source": [
        "<img src = https://d2beiqkhq929f0.cloudfront.net/public_assets/assets/000/063/173/original/push12.png?1706069414 height = 400 width = 600>\n",
        "\n",
        "\\\n",
        "Here’s how it all fits together:\n",
        "* You write your story on your computer using Git to keep track of changes.\n",
        "* You save snapshots (called commits) of your story with Git so you can go back in time if needed.\n",
        "* You put your story on GitHub, making it available on the internet for others to see.\n",
        "* Others can make copies of your story from GitHub to work on their versions.\n",
        "* They can suggest changes or improvements to your story and send them back to you (this is called a pull request).\n",
        "* You review their changes and decide if you want to include them in your story.\n",
        "* GitHub helps manage this collaboration, making it easier for everyone to work together on the same project.\n"
      ],
      "metadata": {
        "id": "ILV2NWm1qZy_"
      }
    },
    {
      "cell_type": "markdown",
      "source": [
        "### Difference between Git and GitHub\n",
        "\n",
        "* Git is a VCS that manages and keeps track of your code.\n",
        "* GitHub is a service that lets you host, share, and manage your code files on the internet.\n"
      ],
      "metadata": {
        "id": "UrVlYtvbu5S3"
      }
    },
    {
      "cell_type": "markdown",
      "source": [
        "**Please make sure -**\n",
        "* You have GitHub Desktop  installed,\n",
        "* Created and signed into your GitHub account.\n",
        "* Ref : https://docs.github.com/en/desktop/installing-and-authenticating-to-github-desktop/installing-github-desktop\n",
        "\n"
      ],
      "metadata": {
        "id": "Bx7JSDGiT2NQ"
      }
    },
    {
      "cell_type": "markdown",
      "source": [
        "### What is a Repository?\n",
        "\n",
        "A **Repository** is like a folder where you keep all the files for your project.\n",
        "\n",
        "* **Local Repository**: Think of this as your personal folder on your computer. It's where you work on your project, make changes, and save your progress.\n",
        "\n",
        "* **Remote Repository**: This is like a backup or a shared folder on the internet. It's where you store your project online, so others can see it and collaborate with you."
      ],
      "metadata": {
        "id": "RF30WoldO7X-"
      }
    },
    {
      "cell_type": "markdown",
      "source": [
        "### Create a repository -"
      ],
      "metadata": {
        "id": "B-AaD2ATXA32"
      }
    },
    {
      "cell_type": "markdown",
      "source": [
        "1. Click \"Create a New Repository on your Hard Drive...\"\n",
        "2. In the “Create a New Repository” window, fill in the fields -\n",
        "  * **Name** - Defines the name of your repository both locally and on GitHub.\n",
        "  * **Description** - Self explanatory. Optional field.\n",
        "  * **Local path** - Location of the repository on your computer.\n",
        "3. **Initialize this repository with a README** - Creates an initial commit with a README.md file.\n",
        " * README file helps people understand the purpose of your project.\n",
        "4. **Git ignore** drop-down menu lets you add a custom file to ignore specific files in your local repository.\n",
        "5. **License** drop-down menu lets you add an open-source license to a LICENSE file in your repository.\n",
        "  * You don't need to worry about adding a license right away.\n",
        "6. Click Create repository.\n",
        "\n"
      ],
      "metadata": {
        "id": "bflPG73xXFT5"
      }
    },
    {
      "cell_type": "markdown",
      "source": [
        "<img src = https://d2beiqkhq929f0.cloudfront.net/public_assets/assets/000/063/223/original/git1.png?1706080980 height = 450 width = 650>"
      ],
      "metadata": {
        "id": "t1KP71-UZC3Y"
      }
    },
    {
      "cell_type": "markdown",
      "source": [
        "### Working on the repository -"
      ],
      "metadata": {
        "id": "P1JBzTdsblRs"
      }
    },
    {
      "cell_type": "markdown",
      "source": [
        "1. We can now go to the git folder that we want to work with and open a file in the code editor.\n",
        "2. We can update our code or even add/remove some files.\n",
        "3. If we then go back to the repository in github desktop, it will show the difference in the two versions of the updated file."
      ],
      "metadata": {
        "id": "5ZKGrkqCIXeO"
      }
    },
    {
      "cell_type": "markdown",
      "source": [
        "<img src = https://d2beiqkhq929f0.cloudfront.net/public_assets/assets/000/063/296/original/git3.png?1706113772 height = 400 width = 750>"
      ],
      "metadata": {
        "id": "rJjSx4wsTDdU"
      }
    },
    {
      "cell_type": "markdown",
      "source": [
        "4. Now we can add a summary, description and click on '**Commit to main**'.\n",
        "5. Our history is saved. We can check it in the **History** tab.\n",
        "\n",
        "But these changes are only available on your local machine because we haven't pushed anything to the remote repository yet."
      ],
      "metadata": {
        "id": "0TbuvWBMR5_Y"
      }
    },
    {
      "cell_type": "markdown",
      "source": [
        "You can publish your repository to GitHub to keep it synchronized across multiple computers and allow other people to access it.\n",
        "\n",
        "1. To publish your repository, **push** your local changes to GitHub.\n",
        "2. In the **Publish Repository** window, enter details for your new repository.  \n",
        "3. **Keep this code private** lets you control who can view your project.\n",
        "4. The **Organization** drop-down menu, if present, lets you publish your repository to a specific organization that you belong to on GitHub.\n",
        "5. Click Publish Repository."
      ],
      "metadata": {
        "id": "b2KBC65tUnxn"
      }
    },
    {
      "cell_type": "markdown",
      "source": [
        "<img src = https://d2beiqkhq929f0.cloudfront.net/public_assets/assets/000/063/300/original/git4.png?1706115506 height = 400 width = 700>"
      ],
      "metadata": {
        "id": "fjj8eWhZZ5Bh"
      }
    },
    {
      "cell_type": "markdown",
      "source": [
        "### Pushing and Collaboration"
      ],
      "metadata": {
        "id": "824GZFqwpdSE"
      }
    },
    {
      "cell_type": "markdown",
      "source": [
        "* **Pull**: Pull not only downloads changes from a remote repository but also merges them into your current working branch automatically.\n",
        "* **Fetch**: Fetch only downloads changes from a remote repository and stores them in your local repository but doesn't automatically merge them into your current working branch.\n",
        "  * Use “fetch” when you want to see what changes exist in the remote repository but don't want to merge them immediately.\n",
        "  * This allows you to review changes before deciding to merge.\n",
        "* **Conflict**: A conflict occurs in Git when multiple people make changes to the same part of a file, and Git can't automatically decide which changes to accept.\n",
        "  * To resolve a conflict, you need to manually edit the file, keeping the changes you want and removing the conflicting parts.\n",
        "  * After resolving the conflict, you can commit the resolved file.\n",
        "\n",
        "<img src = https://d2beiqkhq929f0.cloudfront.net/public_assets/assets/000/063/308/original/git5.png?1706120432 height = 400 width = 500>"
      ],
      "metadata": {
        "id": "4os0R6tSq0An"
      }
    },
    {
      "cell_type": "markdown",
      "source": [
        "### Collaborative Development"
      ],
      "metadata": {
        "id": "Q3OBxn0Ys-oq"
      }
    },
    {
      "cell_type": "markdown",
      "source": [
        "The main branch (often called “master” or “main”) in a Git repository typically represents the stable and production-ready version of your project.\n",
        "\n",
        "#### The complete pipeline theoretically looks like -\n",
        "1. **Pulling Code**: Start by making sure you have the latest code from the main branch.\n",
        "2. **Creating a New Branch**: If you’re working on a new feature or bug fix, create a new branch from the main branch. This branch will contain your changes.\n",
        "3. **Making Changes**: Work on your code changes within your feature branch.\n",
        "4. **Committing Changes**: Return to GitHub Desktop. You should see your changes listed under “Changes.” Write a descriptive commit message and click the “Commit” button to save your changes."
      ],
      "metadata": {
        "id": "25zbauGluQbF"
      }
    },
    {
      "cell_type": "markdown",
      "source": [
        "<img src = https://d2beiqkhq929f0.cloudfront.net/public_assets/assets/000/063/312/original/pull1.png?1706121091 height = 320 width = 650>"
      ],
      "metadata": {
        "id": "POObGB4qvTUx"
      }
    },
    {
      "cell_type": "markdown",
      "source": [
        "### Branching and Merging"
      ],
      "metadata": {
        "id": "A5fVCWyK0pzg"
      }
    },
    {
      "cell_type": "markdown",
      "source": [
        "* Git branches are effectively a pointer to a snapshot of your changes.\n",
        "* When you want to add a new feature or fix a bug, no matter how big or how small, you spawn a new branch to encapsulate your changes.\n",
        "\n",
        "<img src = https://d2beiqkhq929f0.cloudfront.net/public_assets/assets/000/064/146/original/bran567.PNG?1707119206 height = 330 width = 500>"
      ],
      "metadata": {
        "id": "YHGh0g2gPOtq"
      }
    },
    {
      "cell_type": "markdown",
      "source": [
        "1. Let's create a new branch say `branch1` and make some changes in the README file. Then commit to `branch1` and push it.\n",
        "2. If we go to our github repository, we can see that there is a new branch and an option to compare and pull request."
      ],
      "metadata": {
        "id": "_G2AAHWG0stp"
      }
    },
    {
      "cell_type": "markdown",
      "source": [
        "<img src = https://d2beiqkhq929f0.cloudfront.net/public_assets/assets/000/063/315/original/bran1.png?1706122640 height = 400 width = 700>"
      ],
      "metadata": {
        "id": "SrapZaIA1SI0"
      }
    },
    {
      "cell_type": "markdown",
      "source": [
        "<img src= https://d2beiqkhq929f0.cloudfront.net/public_assets/assets/000/063/316/original/bran2.png?1706122931 height = 400 width = 700>"
      ],
      "metadata": {
        "id": "8uX9OrFB2Me_"
      }
    },
    {
      "cell_type": "markdown",
      "source": [
        "3. The first thing we want to do is create a pull request to compare the changes of `branch1` with the `main` branch.\n",
        "4. Because you are the owner of the repository, you can review and merge the pull request."
      ],
      "metadata": {
        "id": "YMV4gu4m2-d5"
      }
    },
    {
      "cell_type": "markdown",
      "source": [
        "<img src = https://d2beiqkhq929f0.cloudfront.net/public_assets/assets/000/063/317/original/pullr1.png?1706123145 height = 400 width = 750>"
      ],
      "metadata": {
        "id": "cJ5AZxoi3AQ2"
      }
    },
    {
      "cell_type": "markdown",
      "source": [
        "5. Once merged, you have the option to delete the `branch1` and you will see that the changes in README file are visible in the `main` branch."
      ],
      "metadata": {
        "id": "dK95wpQe4QXu"
      }
    },
    {
      "cell_type": "markdown",
      "source": [
        "### Resolving Conflicts\n",
        "\n",
        "* If while merging, there are two conflicting or different changes to same line of a file, GitHub is not sure which one to keep.\n",
        "* In that case, you must manually check that to resolve the conflict. After that you can mark as resolved and merge."
      ],
      "metadata": {
        "id": "JgIIQiy19QS2"
      }
    },
    {
      "cell_type": "markdown",
      "source": [
        "### Contributing to a Project"
      ],
      "metadata": {
        "id": "B4XbvBhu49GS"
      }
    },
    {
      "cell_type": "markdown",
      "source": [
        "### Forking\n",
        "\n",
        "* It is a way to make a personal copy of a public or open-source repository on a platform like GitHub.\n",
        "* When you fork a repository, you create an identical copy of that repository in your GitHub account."
      ],
      "metadata": {
        "id": "xmXCBV8t4_yG"
      }
    },
    {
      "cell_type": "markdown",
      "source": [
        "### Cloning\n",
        "\n",
        "* You can create a local copy of any repository on GitHub that you have access to by cloning the repository.\n",
        "* [Read this](https://docs.github.com/en/desktop/adding-and-cloning-repositories/cloning-a-repository-from-github-to-github-desktop) to see how to clone a repository to GitHub Desktop."
      ],
      "metadata": {
        "id": "8-6lZ91Z7jOO"
      }
    },
    {
      "cell_type": "markdown",
      "source": [
        "Try forking and cloning : https://github.com/octocat/Spoon-Knife\n",
        "<br>This is a demo repository meant for trying out forking.\n",
        "\n",
        "<img src = https://d2beiqkhq929f0.cloudfront.net/public_assets/assets/000/064/126/original/spoon1.PNG?1707068598 height = 400 width = 700>\n",
        "\n",
        "<img src = https://d2beiqkhq929f0.cloudfront.net/public_assets/assets/000/064/127/original/spoo2.PNG?1707068811 height = 400 width = 700>\n",
        "\n",
        "\n"
      ],
      "metadata": {
        "id": "z4U70jVQKQV2"
      }
    },
    {
      "cell_type": "markdown",
      "source": [
        "* When you clone a repository, any changes you push to GitHub will affect the original repository.\n",
        "* To make changes without modifying the original project, you can create a separate copy by forking the repository.\n",
        "* You can create a pull request to propose that maintainers incorporate the changes in your fork into the original upstream repository."
      ],
      "metadata": {
        "id": "gm_k3LKOKmUv"
      }
    },
    {
      "cell_type": "markdown",
      "source": [
        "When you're ready to propose changes into the main project -\n",
        "\n",
        "1. Head on over to the repository on GitHub where your project lives.\n",
        "2. Click **Contribute** and then Open a pull request.\n",
        "3. GitHub will bring you to a page that shows the differences between your fork and the original repository.\n",
        "4. Click **Create pull request**.\n",
        "5. GitHub will bring you to a page where you can enter a title and a description of your changes.\n",
        "6. It's important to provide as much useful information and a rationale for why you're making this pull request in the first place.\n",
        "7. Click **Create pull request**.\n",
        "\n",
        "<img src = https://d2beiqkhq929f0.cloudfront.net/public_assets/assets/000/064/129/original/pullre3.PNG?1707070622 height = 400 width = 700>"
      ],
      "metadata": {
        "id": "BYy2_swIRYyP"
      }
    },
    {
      "cell_type": "markdown",
      "source": [
        "## Git using CLI"
      ],
      "metadata": {
        "id": "5U5iEBZg95ij"
      }
    },
    {
      "cell_type": "markdown",
      "source": [
        "### Installing Git\n",
        "\n",
        "Git comes pre-installed in some Macs and Linux-based systems, but you can always check if you have Git installed in your machine by typing `git --version` in your terminal.\n",
        "\n",
        "https://www.atlassian.com/git/tutorials/install-git\n"
      ],
      "metadata": {
        "id": "3GxcaPmYWE9s"
      }
    },
    {
      "cell_type": "markdown",
      "source": [
        "We will start by creating a folder `github_test` and open that in the terminal.\n",
        "\n",
        "We will add some files into that folder\n",
        "* `python_file.py` : which has one statement print(“python file”)\n",
        "* `text_file.txt` : that has single line text file\n",
        "\n",
        "Now, these files are in our local system. How to get them on github?"
      ],
      "metadata": {
        "id": "TzFp5QCAaLDN"
      }
    },
    {
      "cell_type": "markdown",
      "source": [
        "### Git Help\n",
        "\n",
        "If you are having trouble remembering commands or options for commands, you can use Git help.\n",
        "\n",
        "There are a couple of different ways you can use the help command in command line or see all the available options for the specific command.\n",
        "\n",
        "* `git help <command>`\n",
        "* `git <command> help`\n",
        "* `git help --all`"
      ],
      "metadata": {
        "id": "CmLw3BlObJ_z"
      }
    },
    {
      "cell_type": "markdown",
      "source": [
        "### Initialize Git\n",
        "\n",
        "Once you have navigated to the correct folder which in our case is the github_test folder with our two files, you can initialize Git on that folder:\n",
        "* `git init`\n",
        "\n",
        "The `git init` command creates a new Git repository. It can be used to convert an existing, unversioned project to a Git repository or initialize a new, empty repository.\n",
        "\n",
        "We can check what's in our folder now.\n",
        "\n",
        "<img src = https://d2beiqkhq929f0.cloudfront.net/public_assets/assets/000/063/322/original/git44.png?1706150394 height = 200 width = 500>"
      ],
      "metadata": {
        "id": "GmKiiOCNb8RP"
      }
    },
    {
      "cell_type": "markdown",
      "source": [
        "### Staging Environment\n",
        "\n",
        "* One of the core functions of Git is the concepts of the `Staging Environment`, and the `Commit`.\n",
        "\n",
        "* As you are working, you may be adding, editing and removing files. But whenever you hit a milestone or finish a part of the work, you should add the files to a Staging Environment.\n",
        "\n",
        "* Git has three main states that your files can reside in: **modified**, **staged**, and **committed**.\n",
        "\n",
        "  * **Modified** means that you have changed the file but have not committed it to your database yet.\n",
        "  * **Staged** means that you have marked a modified file in its current version to go into your next commit snapshot."
      ],
      "metadata": {
        "id": "yjUHm63_sWrY"
      }
    },
    {
      "cell_type": "markdown",
      "source": [
        "### Git Status\n",
        "\n",
        "The `git status` command displays the state of the working directory and the staging area.\n",
        "\n",
        "It lets you see which changes have been staged, which haven't, and which files aren't being tracked by Git.\n",
        "\n",
        "<img src = https://d2beiqkhq929f0.cloudfront.net/public_assets/assets/000/063/381/original/giy7.png?1706168738 height = 300 width = 600>\n"
      ],
      "metadata": {
        "id": "fSsAHORNrnVh"
      }
    },
    {
      "cell_type": "markdown",
      "source": [
        "### Git Add\n",
        "\n",
        "* The `git add` command adds a change in the working directory to the staging area.\n",
        "\n",
        "<img src = https://d2beiqkhq929f0.cloudfront.net/public_assets/assets/000/063/326/original/stg3.png?1706154090 height = 200 width = 500>\n",
        "\n",
        "* Using `--all` instead of individual file names will stage all changes (new, modified, and deleted) files.\n",
        "\n"
      ],
      "metadata": {
        "id": "Im_cl_rNtE_i"
      }
    },
    {
      "cell_type": "markdown",
      "source": [
        "### Git Commit\n",
        "\n",
        "* Adding commits keep track of our progress and changes as we work. Git considers each commit change point or `Save Point.\n",
        "\n",
        "<img src = https://d2beiqkhq929f0.cloudfront.net/public_assets/assets/000/063/327/original/stg6.png?1706154424 height = 250 width = 500>\n",
        "\n",
        "`git commit -m \"first commit\"`\n",
        "\n",
        "* By adding clear messages to each commit, it is easy for yourself (and others) to see what has changed and when.\n"
      ],
      "metadata": {
        "id": "V9xDS_QduXL6"
      }
    },
    {
      "cell_type": "markdown",
      "source": [
        "### Git Reset\n",
        "\n",
        "* `git reset` is the command we use when we want to move the repository back to a previous commit, discarding any changes made after that commit."
      ],
      "metadata": {
        "id": "WP-47ciCvHy4"
      }
    },
    {
      "cell_type": "markdown",
      "source": [
        "### Git Branches\n",
        "\n",
        "<img src = https://d2beiqkhq929f0.cloudfront.net/public_assets/assets/000/063/328/original/tre4.png?1706155236 height = 150 width = 800>\n",
        "\n",
        "* One of Git's biggest advantages is its branching capabilities.\n",
        "\n",
        "* **This allows someone to branch off of the master branch (where the production-quality code typically remains) and work on a feature or fix independently of the rest of the project.**\n",
        "\n",
        "\n"
      ],
      "metadata": {
        "id": "DpeCdb0gxZAj"
      }
    },
    {
      "cell_type": "markdown",
      "source": [
        "### New Git Branch\n",
        "\n",
        "* Now we want to add some new features to our `python_file.py` page.\n",
        "\n",
        "* We are working in our local repository, and we do not want to disturb or possibly wreck the main project.\n",
        "\n",
        "* So we create a new branch: `git branch feature1`\n",
        "\n",
        "<img src = https://d2beiqkhq929f0.cloudfront.net/public_assets/assets/000/063/329/original/fea4.png?1706155984 height = 70 width = 650>\n",
        "\n",
        "* We can see that we have two branches now. The the `*` beside main specifies that we are currently on that branch.\n",
        "\n"
      ],
      "metadata": {
        "id": "sC9QDXCpzzGO"
      }
    },
    {
      "cell_type": "markdown",
      "source": [
        "### Git Checkout\n",
        "\n",
        "* The `git checkout` command lets you navigate between the branches created by git branch.\n",
        "\n",
        "* Checking out a branch updates the files in the working directory to match the version stored in that branch, and it tells Git to record all new commits on that branch.\n",
        "\n",
        "* And moves us from the current branch, to the one specified at the end of the comman.\n",
        "\n",
        "`git checkout feature1`\n",
        "\n",
        "\n"
      ],
      "metadata": {
        "id": "9FI4Abro1ojn"
      }
    },
    {
      "cell_type": "markdown",
      "source": [
        "---"
      ],
      "metadata": {
        "id": "gY04JBlWyV3S"
      }
    },
    {
      "cell_type": "markdown",
      "source": [
        "Now let's see just how quick and easy it is to work with different branches, and how well it works.\n",
        "\n",
        "We are currently on branch feature1. We added a file to this branch, so let's list the files in the current directory using `ls`.\n",
        "\n",
        "`ls`\n",
        "\n",
        "<img src = https://d2beiqkhq929f0.cloudfront.net/public_assets/assets/000/063/354/original/ls5.png?1706165491 height = 40 width = 500>\n"
      ],
      "metadata": {
        "id": "SbzlE8umYAt1"
      }
    },
    {
      "cell_type": "markdown",
      "source": [
        "### Git Switch Branch\n",
        "\n",
        "* The git switch command is one of the latest commands being added to the list of Git commands. The git switch command was added in Git version 2.23.\n",
        "\n",
        "* It can be seen as an alternative to its ancestor `git checkout` command.\n",
        "\n",
        "`git switch main`\n",
        "\n",
        "<img src = https://d2beiqkhq929f0.cloudfront.net/public_assets/assets/000/063/357/original/sw34.png?1706165748 height = 70 width = 600>\n",
        "\n",
        "* We can see there that git manages the files. We can see that if we list files we don't see the `file2.txt`.\n",
        "\n",
        "\n"
      ],
      "metadata": {
        "id": "GXBDSz4YZFks"
      }
    },
    {
      "cell_type": "markdown",
      "source": [
        "### Git Merge Branch\n",
        "\n",
        "* Let's say now you have worked on the feature and tested it.\n",
        "* Now we need to add the code to the main branch.\n",
        "\n",
        "`git merge feature1`\n",
        "\n",
        "<img src = https://d2beiqkhq929f0.cloudfront.net/public_assets/assets/000/063/361/original/mer7.png?1706166266 height = 180 width = 600>\n",
        "\n",
        "* We can now see that when we list files in the main branch as well, we can see the new file there.\n",
        "\n"
      ],
      "metadata": {
        "id": "MVUwMPPubSb8"
      }
    },
    {
      "cell_type": "markdown",
      "source": [
        "### Git Stash\n",
        "\n",
        "* `git stash` temporarily shelves (or stashes) changes you've made to your working copy so you can work on something else, and then come back and re-apply them later on.\n",
        "\n",
        "* Stashing is handy if you need to quickly switch context and work on something else, but you're mid-way through a code change and aren't quite ready to commit."
      ],
      "metadata": {
        "id": "S3_W_mKBctHu"
      }
    },
    {
      "cell_type": "markdown",
      "source": [
        "### Creating a github repository -"
      ],
      "metadata": {
        "id": "vHoJpUqahGSs"
      }
    },
    {
      "cell_type": "markdown",
      "source": [
        "Make sure you have a GitHub account.\n",
        "\n"
      ],
      "metadata": {
        "id": "vI2sqnYdhYxD"
      }
    },
    {
      "cell_type": "markdown",
      "source": [
        "* A repository contains all of your project's files and each file's revision history.\n",
        "\n",
        "<img src = https://d2beiqkhq929f0.cloudfront.net/public_assets/assets/000/063/380/original/fer5.png?1706168677 height = 500 width = 500>\n",
        "\n",
        "* Name the repo as `github_test`.\n",
        "* Change it to private / public, add README and click create.\n",
        "\n",
        "<img src = https://d2beiqkhq929f0.cloudfront.net/public_assets/assets/000/063/384/original/deg3.png?1706169533 height = 400 width = 800>\n",
        "\n",
        "* Copy the url from the highlighted quick setup link for https.\n"
      ],
      "metadata": {
        "id": "CSDvugtIhguC"
      }
    },
    {
      "cell_type": "markdown",
      "source": [
        "### Creating Access Token on GitHub\n",
        "\n",
        "First of all, you must create a personal Access Token on GitHub.\n",
        "\n",
        "1. Click on your GitHub profile icon on the top right corner\n",
        "2. Click Settings\n",
        "3. From the menu shown on the left, click Developer Settings\n",
        "4. Click Personal access tokens classic\n",
        "5. Click Generate new token\n",
        "6. Add a note that will help you identify the scope of the access token to be generated\n",
        "7. Choose the Expiration period from the drop down menu\n",
        "8. Select the scopes you want to grant the corresponding access to the generated access token\n",
        "9. Finally click Generate Token\n"
      ],
      "metadata": {
        "id": "5AEwVABGob4X"
      }
    },
    {
      "cell_type": "markdown",
      "source": [
        "By now, you should have generated your personal access token successfully and the following message should be visible on your screen.\n",
        "\n",
        "<img src = https://d2beiqkhq929f0.cloudfront.net/public_assets/assets/000/063/385/original/msg45.png?1706169958 height = 75 width = 800>"
      ],
      "metadata": {
        "id": "8nLUMfdHpouU"
      }
    },
    {
      "cell_type": "markdown",
      "source": [
        "To add a new remote, use the git remote add command on the terminal, in the directory your repository is stored at.\n",
        "\n",
        "`git remote set-url origin https://<githubtoken>@github.com/<username>/<repositoryname>.git`\n",
        "\n",
        "<img src = https://d2beiqkhq929f0.cloudfront.net/public_assets/assets/000/063/387/original/fki3.png?1706170195 height = 200 width = 800>"
      ],
      "metadata": {
        "id": "zhnIyiyaqUhy"
      }
    },
    {
      "cell_type": "markdown",
      "source": [
        "### Git Push & Pull"
      ],
      "metadata": {
        "id": "B1FyxrVCK_2f"
      }
    },
    {
      "cell_type": "markdown",
      "source": [
        "#### Git Push\n",
        "\n",
        "`git push -u origin main`\n",
        "\n",
        "* The `git push` command is used to upload local repository content to a remote repository.\n",
        "* Pushing is how you transfer commits from your local repository to a remote repo.\n",
        "* `-u` is a flag and used to set origin as the upstream remote in the git config.\n",
        "\n",
        "<img src = https://d2beiqkhq929f0.cloudfront.net/public_assets/assets/000/063/388/original/bfj3.png?1706171083 height = 250 width = 700>\n",
        "\n",
        "* In Git, \"origin\" is a shorthand name for the remote repository that a project was originally cloned from.\n",
        "* More precisely, it is used instead of that original repository's URL - and thereby makes referencing much easier."
      ],
      "metadata": {
        "id": "iQR9OsCUrhQe"
      }
    },
    {
      "cell_type": "markdown",
      "source": [
        "#### Add a readme\n",
        "\n",
        "<img src = https://d2beiqkhq929f0.cloudfront.net/public_assets/assets/000/063/389/original/read66.png?1706171258 height = 200 width = 400>\n"
      ],
      "metadata": {
        "id": "RFhaeER1uFia"
      }
    },
    {
      "cell_type": "markdown",
      "source": [
        "#### Git Pull\n",
        "\n"
      ],
      "metadata": {
        "id": "szTMI8tzvFA2"
      }
    },
    {
      "cell_type": "markdown",
      "source": [
        "* The `git pull` command is used to fetch and download content from a remote repository and immediately update the local repository to match that content.\n",
        "\n",
        "* `pull` is a combination of 2 different commands:\n",
        "  * Fetch\n",
        "  * Merge\n",
        "\n",
        "`git pull origin`\n",
        "\n",
        "<img src = https://d2beiqkhq929f0.cloudfront.net/public_assets/assets/000/063/404/original/dhe2.png?1706179582 height = 150 width = 800>\n"
      ],
      "metadata": {
        "id": "nnBqByXGeW36"
      }
    },
    {
      "cell_type": "markdown",
      "source": [
        "### Git Merge & Rebase\n",
        "\n",
        "\n"
      ],
      "metadata": {
        "id": "DG5SrPZbSnwB"
      }
    },
    {
      "cell_type": "markdown",
      "source": [
        "#### Git Merge\n",
        "\n",
        "`git merge feature main`\n",
        "\n",
        "* This creates a new “merge commit” in the feature branch that ties together the histories of both branches, giving you a branch structure that looks like this:\n",
        "\n",
        "<img src = https://d2beiqkhq929f0.cloudfront.net/public_assets/assets/000/063/406/original/mer55.png?1706180985 height = 300 width = 600>\n",
        "\n",
        "* Merging is nice because it's a non-destructive operation. The existing branches are not changed in any way.\n"
      ],
      "metadata": {
        "id": "xkIXIyAxU6iR"
      }
    },
    {
      "cell_type": "markdown",
      "source": [
        "#### Git Rebase\n",
        "\n",
        "* You can rebase the feature branch onto main branch using the following commands:\n",
        "\n",
        "  * `git checkout feature`\n",
        "  * `git rebase main`\n",
        "\n",
        "* This moves the entire feature branch to begin on the tip of the main branch, effectively incorporating all of the new commits in main.\n",
        "* But, instead of using a merge commit, rebasing re-writes the project history by creating brand new commits for each commit in the original branch.\n",
        "\n",
        "<img src = https://d2beiqkhq929f0.cloudfront.net/public_assets/assets/000/063/407/original/hfjg8.png?1706181431 height = 300 width = 600>\n",
        "\n",
        "* Rebase is used for maintaining a linear project history.\n",
        "* You will benefit from an eventual clean merge of your feature branch back into the main branch, perpetuating a clean history.\n",
        "\n",
        "\n"
      ],
      "metadata": {
        "id": "USkhY7jrU776"
      }
    },
    {
      "cell_type": "markdown",
      "source": [
        "### GitHub Fork & Clone\n"
      ],
      "metadata": {
        "id": "GeV2g0ONWvjT"
      }
    },
    {
      "cell_type": "markdown",
      "source": [
        "* Any public Git repository can be forked or cloned.\n",
        "* A fork creates a completely independent copy of the Git repository.\n",
        "* A Git clone creates a linked copy that will continue to synchronize with the target repository. (Changes made to the cloned repository cannot be merged with the original repository unless you are the collaborator or the owner of the repository)\n",
        "* Fork is not a command in Git\n",
        "* You can navigate to the landing page of the repository in your web browser and click on the Fork button on the repository's home page.\n",
        "* For cloning a repository you can use `git clone <repo url>`"
      ],
      "metadata": {
        "id": "FSGwSxVQfAA3"
      }
    },
    {
      "cell_type": "markdown",
      "source": [
        "---"
      ],
      "metadata": {
        "id": "YsVSzKdbFG35"
      }
    }
  ]
}